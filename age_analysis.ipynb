{
 "cells": [
  {
   "cell_type": "code",
   "execution_count": 261,
   "metadata": {},
   "outputs": [],
   "source": [
    "from ipynb.fs.full.data_extraction import read_file,init_spark\n",
    "from pyspark.sql import Row\n",
    "from pyspark.sql.functions import datediff,year\n",
    "import pandas as pd\n",
    "from matplotlib import pyplot as plt\n",
    "%matplotlib qt"
   ]
  },
  {
   "cell_type": "code",
   "execution_count": 262,
   "metadata": {},
   "outputs": [],
   "source": [
    "spark = init_spark()\n",
    "spark.conf.set(\"spark.sql.crossJoin.enabled\", \"true\")"
   ]
  },
  {
   "cell_type": "code",
   "execution_count": 263,
   "metadata": {},
   "outputs": [],
   "source": [
    "players = read_file(\"Player.csv\")\n",
    "leagues = read_file(\"League.csv\")\n",
    "player_attributes = read_file(\"Player_Attributes.csv\")\n",
    "match = read_file(\"Match.csv\")"
   ]
  },
  {
   "cell_type": "code",
   "execution_count": 264,
   "metadata": {},
   "outputs": [],
   "source": [
    "players_and_attributes = players.join(player_attributes, on=\"player_api_id\")\\\n",
    "                            .select(\"player_api_id\",\"player_name\",\"date\",\"birthday\",\"overall_rating\"\n",
    "                                    ,\"ball_control\",\"dribbling\",\"stamina\",\"vision\",\"sprint_speed\"\n",
    "                                   ,\"shot_power\",\"short_passing\",\"long_passing\")"
   ]
  },
  {
   "cell_type": "code",
   "execution_count": 265,
   "metadata": {},
   "outputs": [],
   "source": [
    "players_and_attributes = players_and_attributes.withColumn(\"age\",(datediff(players_and_attributes[\"date\"]\n",
    "                                                  ,players_and_attributes[\"birthday\"])/365)\n",
    "                                  .cast(\"integer\")).drop(\"birthday\")"
   ]
  },
  {
   "cell_type": "code",
   "execution_count": 266,
   "metadata": {},
   "outputs": [
    {
     "data": {
      "text/plain": [
       "Text(0.5, 1.0, 'Age of player during the rating')"
      ]
     },
     "execution_count": 266,
     "metadata": {},
     "output_type": "execute_result"
    }
   ],
   "source": [
    "age_and_ratings = players_and_attributes\\\n",
    "                .filter((players_and_attributes[\"age\"] >=16) & (players_and_attributes[\"age\"]<=36))\\\n",
    "                .groupBy(\"age\").count()\\\n",
    "                .orderBy(\"age\")\\\n",
    "                .toPandas()\n",
    "plt.plot(age_and_ratings[\"age\"],age_and_ratings[\"count\"]/1000,\"r--\", linewidth=2)\n",
    "plt.xlabel(\"age\")\n",
    "plt.ylabel(\"Number of ratings\")\n",
    "plt.title(\"Age of player during the rating\")"
   ]
  },
  {
   "cell_type": "code",
   "execution_count": 267,
   "metadata": {},
   "outputs": [
    {
     "data": {
      "text/plain": [
       "Text(0.5, 1.0, 'Average Stamina of player over the years')"
      ]
     },
     "execution_count": 267,
     "metadata": {},
     "output_type": "execute_result"
    }
   ],
   "source": [
    "age_and_stamina = players_and_attributes\\\n",
    "                    .filter((players_and_attributes[\"age\"]>=16) & (players_and_attributes[\"age\"]<=36))\\\n",
    "                    .groupBy(\"age\").mean().orderBy(\"age\")\\\n",
    "                    .select(\"age\",\"avg(stamina)\").withColumnRenamed(\"avg(stamina)\",\"avg_stamina\")\\\n",
    "                    .toPandas()\n",
    "\n",
    "\n",
    "plt.plot(age_and_stamina[\"age\"],age_and_stamina[\"avg_stamina\"],\"r--\", linewidth=2)\n",
    "plt.xlabel(\"age\")\n",
    "plt.ylabel(\"Average stamina\")\n",
    "plt.title(\"Average Stamina of player over the years\")"
   ]
  },
  {
   "cell_type": "code",
   "execution_count": 268,
   "metadata": {},
   "outputs": [
    {
     "data": {
      "text/plain": [
       "Text(0.5, 1.0, 'Average dribbling ability of player over the years')"
      ]
     },
     "execution_count": 268,
     "metadata": {},
     "output_type": "execute_result"
    }
   ],
   "source": [
    "age_and_dribbling = players_and_attributes\\\n",
    "                    .filter((players_and_attributes[\"age\"]>=16) & (players_and_attributes[\"age\"]<=36))\\\n",
    "                    .groupBy(\"age\").mean().orderBy(\"age\")\\\n",
    "                    .select(\"age\",\"avg(dribbling)\").withColumnRenamed(\"avg(dribbling)\",\"avg_dribbling\")\\\n",
    "                    .toPandas()\n",
    "\n",
    "plt.plot(age_and_dribbling[\"age\"],age_and_dribbling[\"avg_dribbling\"],\"r--\", linewidth=2)\n",
    "plt.xlabel(\"age\")\n",
    "plt.ylabel(\"Average dribbling\")\n",
    "plt.title(\"Average dribbling ability of player over the years\")"
   ]
  },
  {
   "cell_type": "code",
   "execution_count": 269,
   "metadata": {},
   "outputs": [
    {
     "data": {
      "text/plain": [
       "Text(0.5, 1.0, 'Average ball control ability of player over the years')"
      ]
     },
     "execution_count": 269,
     "metadata": {},
     "output_type": "execute_result"
    }
   ],
   "source": [
    "age_and_ball_control= players_and_attributes\\\n",
    "                    .filter((players_and_attributes[\"age\"]>=16) & (players_and_attributes[\"age\"]<=36))\\\n",
    "                    .groupBy(\"age\").mean().orderBy(\"age\")\\\n",
    "                    .select(\"age\",\"avg(ball_control)\").withColumnRenamed(\"avg(ball_control)\",\"avg_ball_control\")\\\n",
    "                    .toPandas()\n",
    "plt.plot(age_and_ball_control[\"age\"],age_and_ball_control[\"avg_ball_control\"],\"r--\", linewidth=2)\n",
    "plt.xlabel(\"age\")\n",
    "plt.ylabel(\"Average ball control\")\n",
    "plt.title(\"Average ball control ability of player over the years\")"
   ]
  },
  {
   "cell_type": "code",
   "execution_count": 270,
   "metadata": {},
   "outputs": [
    {
     "data": {
      "text/plain": [
       "Text(0.5, 1.0, 'Average vision of player over the years')"
      ]
     },
     "execution_count": 270,
     "metadata": {},
     "output_type": "execute_result"
    }
   ],
   "source": [
    "age_and_vision= players_and_attributes\\\n",
    "                    .filter((players_and_attributes[\"age\"]>=16) & (players_and_attributes[\"age\"]<=36))\\\n",
    "                    .groupBy(\"age\").mean().orderBy(\"age\")\\\n",
    "                    .select(\"age\",\"avg(vision)\").withColumnRenamed(\"avg(vision)\",\"avg_vision\")\\\n",
    "                    .toPandas()\n",
    "plt.plot(age_and_vision[\"age\"],age_and_vision[\"avg_vision\"],\"r--\", linewidth=2)\n",
    "plt.xlabel(\"age\")\n",
    "plt.ylabel(\"Average vision\")\n",
    "plt.title(\"Average vision of player over the years\")"
   ]
  },
  {
   "cell_type": "code",
   "execution_count": 271,
   "metadata": {},
   "outputs": [
    {
     "data": {
      "text/plain": [
       "Text(0.5, 1.0, 'Average sprint speed of player over the years')"
      ]
     },
     "execution_count": 271,
     "metadata": {},
     "output_type": "execute_result"
    }
   ],
   "source": [
    "age_and_sprint_speed= players_and_attributes\\\n",
    "                    .filter((players_and_attributes[\"age\"]>=16) & (players_and_attributes[\"age\"]<=36))\\\n",
    "                    .groupBy(\"age\").mean().orderBy(\"age\")\\\n",
    "                    .select(\"age\",\"avg(sprint_speed)\").withColumnRenamed(\"avg(sprint_speed)\",\"avg_sprint_speed\")\\\n",
    "                    .toPandas()\n",
    "\n",
    "plt.plot(age_and_sprint_speed[\"age\"],age_and_sprint_speed[\"avg_sprint_speed\"],\"r--\", linewidth=2)\n",
    "plt.xlabel(\"age\")\n",
    "plt.ylabel(\"Average sprint speed\")\n",
    "plt.title(\"Average sprint speed of player over the years\")"
   ]
  },
  {
   "cell_type": "code",
   "execution_count": 272,
   "metadata": {},
   "outputs": [
    {
     "data": {
      "text/plain": [
       "Text(0.5, 1.0, 'Average passing ability of player over the years')"
      ]
     },
     "execution_count": 272,
     "metadata": {},
     "output_type": "execute_result"
    }
   ],
   "source": [
    "age_and_passing = players_and_attributes.withColumn(\"passing\", (players_and_attributes[\"short_passing\"]+players_and_attributes[\"long_passing\"])/2)\\\n",
    "                    .filter((players_and_attributes[\"age\"]>=16) & (players_and_attributes[\"age\"]<=36))\\\n",
    "                    .groupBy(\"age\").mean().orderBy(\"age\")\\\n",
    "                    .select(\"age\",\"avg(passing)\").withColumnRenamed(\"avg(passing)\",\"avg_passing\")\\\n",
    "                    .toPandas()\n",
    "\n",
    "plt.plot(age_and_passing[\"age\"],age_and_passing[\"avg_passing\"],\"r--\", linewidth=2)\n",
    "plt.xlabel(\"age\")\n",
    "plt.ylabel(\"Average passing\")\n",
    "plt.title(\"Average passing ability of player over the years\")"
   ]
  },
  {
   "cell_type": "code",
   "execution_count": 276,
   "metadata": {},
   "outputs": [
    {
     "data": {
      "text/plain": [
       "<matplotlib.legend.Legend at 0x7f76bc311c88>"
      ]
     },
     "execution_count": 276,
     "metadata": {},
     "output_type": "execute_result"
    }
   ],
   "source": [
    "attributes = [\"overall_rating\",\"ball_control\",\"dribbling\",\"stamina\",\"vision\",\"sprint_speed\",\"passing\"]\n",
    "\n",
    "colors = [\"red\",\"blue\",\"green\",\"purple\",\"black\",\"cyan\",\"yellow\"]\n",
    "plt.xlabel(\"age\")\n",
    "plt.ylabel(\"attribute average\")\n",
    "\n",
    "plt.plot(age_and_ratings[\"age\"],age_and_ratings[\"count\"]/1000,color=\"red\",linewidth=1,label=\"overall_rating\")\n",
    "plt.plot(age_and_stamina[\"age\"],age_and_stamina[\"avg_stamina\"],color=\"blue\",linewidth=1,label=\"stamina\")\n",
    "plt.plot(age_and_dribbling[\"age\"],age_and_dribbling[\"avg_dribbling\"],color=\"green\",linewidth=1,label=\"dribbling\")\n",
    "plt.plot(age_and_ball_control[\"age\"],age_and_ball_control[\"avg_ball_control\"],color=\"purple\",linewidth=1,label=\"ball_control\")\n",
    "plt.plot(age_and_vision[\"age\"],age_and_vision[\"avg_vision\"],color=\"black\",linewidth=1,label=\"vision\")\n",
    "plt.plot(age_and_sprint_speed[\"age\"],age_and_sprint_speed[\"avg_sprint_speed\"],color=\"cyan\",linewidth=1,label=\"sprint_speed\")\n",
    "plt.plot(age_and_passing[\"age\"],age_and_passing[\"avg_passing\"],color=\"yellow\",linewidth=1,label=\"passing\")\n",
    "plt.legend()"
   ]
  }
 ],
 "metadata": {
  "kernelspec": {
   "display_name": "Python 3",
   "language": "python",
   "name": "python3"
  },
  "language_info": {
   "codemirror_mode": {
    "name": "ipython",
    "version": 3
   },
   "file_extension": ".py",
   "mimetype": "text/x-python",
   "name": "python",
   "nbconvert_exporter": "python",
   "pygments_lexer": "ipython3",
   "version": "3.6.7"
  }
 },
 "nbformat": 4,
 "nbformat_minor": 2
}
