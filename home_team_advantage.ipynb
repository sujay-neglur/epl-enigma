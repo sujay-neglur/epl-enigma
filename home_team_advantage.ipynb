{
 "cells": [
  {
   "cell_type": "code",
   "execution_count": 53,
   "metadata": {},
   "outputs": [],
   "source": [
    "from pyspark.sql.functions import when\n",
    "from pyspark.sql import SparkSession\n",
    "from ipynb.fs.full.data_extraction import create_leagues,init_spark,create_matches\n",
    "import datetime\n",
    "import matplotlib.pyplot as plt\n",
    "import heapq\n",
    "%matplotlib qt\n",
    "import numpy as np\n",
    "from matplotlib.figure import Figure"
   ]
  },
  {
   "cell_type": "code",
   "execution_count": 54,
   "metadata": {},
   "outputs": [
    {
     "name": "stdout",
     "output_type": "stream",
     "text": [
      "+------------+-------------+--------------+---------+------------+-----------------+--------------+-------------+-------+\n",
      "|home_team_id|    home_team|home_team_goal|league_id|away_team_id|        away_team|away_team_goal|       winner|country|\n",
      "+------------+-------------+--------------+---------+------------+-----------------+--------------+-------------+-------+\n",
      "|       10189|FC Schalke 04|             3|     7809|        9790|     Hamburger SV|             2|FC Schalke 04|Germany|\n",
      "|        9875|       Napoli|             1|    10257|        8530|          Catania|             0|       Napoli|  Italy|\n",
      "|        8530|      Catania|             2|    10257|        8690|  Reggio Calabria|             0|      Catania|  Italy|\n",
      "|        9989|    Lierse SK|             0|        1|        9985|Standard de Liège|             0|         Draw|Belgium|\n",
      "|        9880|       Cesena|             0|    10257|        9857|          Bologna|             2|      Bologna|  Italy|\n",
      "+------------+-------------+--------------+---------+------------+-----------------+--------------+-------------+-------+\n",
      "only showing top 5 rows\n",
      "\n"
     ]
    }
   ],
   "source": [
    "sc = init_spark().sparkContext\n",
    "leagues = create_leagues()\n",
    "matches = create_matches()\n",
    "matches.show(5)"
   ]
  },
  {
   "cell_type": "code",
   "execution_count": 55,
   "metadata": {},
   "outputs": [],
   "source": [
    "def get_all_leagues():\n",
    "    countries = leagues.select(\"name\").collect()\n",
    "    countries = list(map(lambda x: x.name, countries))\n",
    "    return countries"
   ]
  },
  {
   "cell_type": "code",
   "execution_count": 56,
   "metadata": {},
   "outputs": [],
   "source": [
    "def get_all_teams_in_league(matches_df):\n",
    "    matches_df.cache()\n",
    "    all_leagues = get_all_leagues()\n",
    "    all_teams_in_leagues = {}\n",
    "    for league in all_leagues:\n",
    "        list_of_teams = matches_df.filter(matches_df[\"country\"] == league).select(\"home_team\").collect()\n",
    "        result = sc.parallelize(list_of_teams).map(lambda x: x.home_team).distinct().collect()\n",
    "        all_teams_in_leagues[league] = result\n",
    "    return all_teams_in_leagues\n"
   ]
  },
  {
   "cell_type": "code",
   "execution_count": 57,
   "metadata": {},
   "outputs": [],
   "source": [
    "def get_mean_home_win_percentage(home_win_percentage_by_team):\n",
    "    mean = 0\n",
    "    for key,value in home_win_percentage_by_team.items():\n",
    "        mean += value\n",
    "    return mean/len(home_win_percentage_by_team.keys())"
   ]
  },
  {
   "cell_type": "code",
   "execution_count": 58,
   "metadata": {},
   "outputs": [],
   "source": [
    "def get_win_percentage():\n",
    "    all_teams_in_league = get_all_teams_in_league(matches)\n",
    "    home_win_percentage_by_team = {}\n",
    "    matches.cache()\n",
    "    for league in all_teams_in_league.keys():\n",
    "        matches_in_league = matches.filter(matches[\"country\"] == league)\n",
    "        temp_count = 0\n",
    "        temp_sum = 0\n",
    "        for team in all_teams_in_league[league]:\n",
    "            home_matches_of_team = matches_in_league.filter(matches[\"home_team\"] == team)\n",
    "            total_home_matches = home_matches_of_team.count()\n",
    "            home_matches_won = home_matches_of_team.filter(home_matches_of_team[\"winner\"] == team)\n",
    "            total_home_matches_won = home_matches_won.count()\n",
    "            home_win_percentage_by_team[team] = (league,total_home_matches_won/total_home_matches)\n",
    "    return home_win_percentage_by_team"
   ]
  },
  {
   "cell_type": "code",
   "execution_count": 59,
   "metadata": {},
   "outputs": [
    {
     "name": "stdout",
     "output_type": "stream",
     "text": [
      "2019-03-27 18:33:25.658628\n",
      "2019-03-27 18:36:38.467827\n"
     ]
    }
   ],
   "source": [
    "print(datetime.datetime.now())\n",
    "home_win_percentage_by_team = get_win_percentage()\n",
    "print(datetime.datetime.now())"
   ]
  },
  {
   "cell_type": "code",
   "execution_count": 60,
   "metadata": {},
   "outputs": [
    {
     "data": {
      "text/plain": [
       "{'Netherlands': 0.43591036414565837,\n",
       " 'Poland': 0.4335137085137086,\n",
       " 'Switzerland': 0.40960724678205424,\n",
       " 'Germany': 0.37245798319327733,\n",
       " 'Spain': 0.43313397129186604,\n",
       " 'Portugal': 0.37659566725598076,\n",
       " 'Italy': 0.40320588599397716,\n",
       " 'Belgium': 0.423161547810303,\n",
       " 'England': 0.4014079315936901,\n",
       " 'France': 0.3870068027210884,\n",
       " 'Scotland': 0.38329922843239833}"
      ]
     },
     "execution_count": 60,
     "metadata": {},
     "output_type": "execute_result"
    }
   ],
   "source": [
    "all_leagues = get_all_leagues()\n",
    "home_win_percentage_by_league = sc.parallelize(home_win_percentage_by_team.items())\\\n",
    ".map(lambda x: (x[0],x[1][0],x[1][1])).map(lambda x: (x[1], [(x[0],x[2])]))\\\n",
    ".reduceByKey(lambda x,y:x+y).map(lambda x: (x[0], [element[1] for element in x[1]]))\\\n",
    ".map(lambda x: (x[0], sum(x[1])/len(x[1]))).collectAsMap()\n",
    "\n",
    "home_win_percentage_by_league"
   ]
  },
  {
   "cell_type": "code",
   "execution_count": 61,
   "metadata": {},
   "outputs": [
    {
     "data": {
      "text/plain": [
       "[<matplotlib.lines.Line2D at 0x7f0df6c44748>]"
      ]
     },
     "execution_count": 61,
     "metadata": {},
     "output_type": "execute_result"
    }
   ],
   "source": [
    "plt.ylim(0,1)\n",
    "plt.plot(home_win_percentage_by_league.keys(),home_win_percentage_by_league.values())"
   ]
  },
  {
   "cell_type": "code",
   "execution_count": 62,
   "metadata": {},
   "outputs": [],
   "source": [
    "top_five = sc.parallelize(home_win_percentage_by_team.items())\\\n",
    ".map(lambda x: (x[0],x[1][0],x[1][1])).map(lambda x: (x[1], [(x[0],x[2])]))\\\n",
    ".reduceByKey(lambda x,y:x+y).map(lambda x: (x[0],heapq.nlargest(5,x[1], key=lambda t:t[1]))).collectAsMap()\n"
   ]
  },
  {
   "cell_type": "code",
   "execution_count": 63,
   "metadata": {},
   "outputs": [
    {
     "name": "stdout",
     "output_type": "stream",
     "text": [
      "[('Manchester United', 0.7631578947368421), ('Manchester City', 0.743421052631579), ('Chelsea', 0.6644736842105263), ('Arsenal', 0.6381578947368421), ('Tottenham Hotspur', 0.5789473684210527)]\n",
      "[('Reading', 0.21052631578947367), ('Queens Park Rangers', 0.2631578947368421), ('Blackpool', 0.2631578947368421), ('Cardiff City', 0.2631578947368421), ('Middlesbrough', 0.2631578947368421)]\n"
     ]
    }
   ],
   "source": [
    "bottom_five = sc.parallelize(home_win_percentage_by_team.items())\\\n",
    ".map(lambda x: (x[0],x[1][0],x[1][1])).map(lambda x: (x[1], [(x[0],x[2])]))\\\n",
    ".reduceByKey(lambda x,y:x+y).map(lambda x: (x[0],heapq.nsmallest(5,x[1], key=lambda t:t[1]))).collectAsMap()\n",
    "\n",
    "print(top_five[\"England\"])\n",
    "print(bottom_five[\"England\"])"
   ]
  },
  {
   "cell_type": "code",
   "execution_count": 64,
   "metadata": {},
   "outputs": [],
   "source": [
    "# top_five_values = sc.parallelize(top_five.items())\\\n",
    "# .map(lambda x: (x[0],[element[1] for element in x[1]])).collectAsMap()\n",
    "\n",
    "# bottom_five_values = sc.parallelize(bottom_five.items())\\\n",
    "# .map(lambda x: (x[0],[element[1] for element in x[1]])).collectAsMap()\n",
    "\n",
    "# print(bottom_five_values[\"England\"])\n",
    "# fig = plt.figure(figsize=(20,20))\n",
    "# ax1 = fig.add_subplot(221)\n",
    "# ax1.plot(top_five_values[\"Spain\"], label = \"top_five\")\n",
    "# ax1.plot(bottom_five_values[\"Spain\"], label = \"bottom_five\")\n",
    "# plt.legend()\n",
    "# ax1.set_title(\"Spain\")\n",
    "# # plt.show()\n",
    "\n",
    "# ax2 = fig.add_subplot(222)\n",
    "# ax2.plot(top_five_values[\"England\"])\n",
    "# ax2.plot(bottom_five_values[\"England\"])\n",
    "# ax2.set_title(\"England\")\n",
    "\n",
    "# ax3 = fig.add_subplot(225)\n",
    "# ax3.plot(top_five_values[\"England\"])\n",
    "# ax3.plot(bottom_five_values[\"England\"])\n",
    "# ax3.set_title(\"England\")\n",
    "\n",
    "# plt.show()"
   ]
  }
 ],
 "metadata": {
  "kernelspec": {
   "display_name": "Python 3",
   "language": "python",
   "name": "python3"
  },
  "language_info": {
   "codemirror_mode": {
    "name": "ipython",
    "version": 3
   },
   "file_extension": ".py",
   "mimetype": "text/x-python",
   "name": "python",
   "nbconvert_exporter": "python",
   "pygments_lexer": "ipython3",
   "version": "3.6.7"
  }
 },
 "nbformat": 4,
 "nbformat_minor": 2
}
