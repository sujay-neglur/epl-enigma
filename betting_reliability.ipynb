{
 "cells": [
  {
   "cell_type": "code",
   "execution_count": 9,
   "metadata": {},
   "outputs": [],
   "source": [
    "from ipynb.fs.full.data_extraction import read_file,init_spark,create_matches\n",
    "from pyspark.sql.functions import when"
   ]
  },
  {
   "cell_type": "code",
   "execution_count": 6,
   "metadata": {},
   "outputs": [],
   "source": [
    "def prediction_condition(df):\n",
    "    minimum = None\n",
    "    result = None\n",
    "    if df[\"B365H\"]<df[\"B365D\"]:\n",
    "        if df[\"B365H\"] < df[\"B365A\"]:\n",
    "            result = df[\"home_team\"]\n",
    "        else:\n",
    "            result = df[\"away_team\"]\n",
    "    else:\n",
    "        if df[\"B365D\"]< df[\"B365A\"]:\n",
    "            result = \"Draw\"\n",
    "        else:\n",
    "            result = df[\"away_team\"]"
   ]
  },
  {
   "cell_type": "code",
   "execution_count": 23,
   "metadata": {},
   "outputs": [
    {
     "ename": "NameError",
     "evalue": "name 'false' is not defined",
     "output_type": "error",
     "traceback": [
      "\u001b[0;31m---------------------------------------------------------------------------\u001b[0m",
      "\u001b[0;31mNameError\u001b[0m                                 Traceback (most recent call last)",
      "\u001b[0;32m<ipython-input-23-4798843a6874>\u001b[0m in \u001b[0;36m<module>\u001b[0;34m\u001b[0m\n\u001b[1;32m      7\u001b[0m                                                            ).otherwise(when(betting_table[\"B365D\"]< betting_table[\"B365A\"],\"Draw\").otherwise(betting_table[\"away_team\"])))\n\u001b[1;32m      8\u001b[0m \u001b[0;34m\u001b[0m\u001b[0m\n\u001b[0;32m----> 9\u001b[0;31m \u001b[0mhome_odds_values\u001b[0m \u001b[0;34m=\u001b[0m \u001b[0mbetting_table\u001b[0m\u001b[0;34m.\u001b[0m\u001b[0mselect\u001b[0m\u001b[0;34m(\u001b[0m\u001b[0;34m\"B365H\"\u001b[0m\u001b[0;34m)\u001b[0m\u001b[0;34m.\u001b[0m\u001b[0mfilter\u001b[0m\u001b[0;34m(\u001b[0m\u001b[0mbetting_table\u001b[0m\u001b[0;34m[\u001b[0m\u001b[0;34m\"B365H\"\u001b[0m\u001b[0;34m]\u001b[0m\u001b[0;34m.\u001b[0m\u001b[0misNull\u001b[0m\u001b[0;34m(\u001b[0m\u001b[0;34m)\u001b[0m \u001b[0;34m==\u001b[0m \u001b[0mfalse\u001b[0m\u001b[0;34m)\u001b[0m\u001b[0;34m.\u001b[0m\u001b[0mshow\u001b[0m\u001b[0;34m(\u001b[0m\u001b[0;34m)\u001b[0m\u001b[0;34m\u001b[0m\u001b[0;34m\u001b[0m\u001b[0m\n\u001b[0m\u001b[1;32m     10\u001b[0m \u001b[0;31m# betting_table = betting_table.fillna({\"B365H\":0})\u001b[0m\u001b[0;34m\u001b[0m\u001b[0;34m\u001b[0m\u001b[0;34m\u001b[0m\u001b[0m\n\u001b[1;32m     11\u001b[0m \u001b[0;31m# betting_table.filter(betting_table[\"prediction\"] != betting_table[\"winner\"]).show()\u001b[0m\u001b[0;34m\u001b[0m\u001b[0;34m\u001b[0m\u001b[0;34m\u001b[0m\u001b[0m\n",
      "\u001b[0;31mNameError\u001b[0m: name 'false' is not defined"
     ]
    }
   ],
   "source": [
    "matches = create_matches()\n",
    "\n",
    "\n",
    "betting_table = matches.select(\"home_team\",\"away_team\",\"winner\",\"B365H\",\"B365D\",\"B365A\")\n",
    "betting_table = betting_table.withColumn(\"prediction\", when(betting_table[\"B365H\"]<betting_table[\"B365D\"],\n",
    "                                                           when(betting_table[\"B365H\"]<betting_table[\"B365A\"],betting_table[\"home_team\"]).otherwise(betting_table[\"away_team\"])\n",
    "                                                           ).otherwise(when(betting_table[\"B365D\"]< betting_table[\"B365A\"],\"Draw\").otherwise(betting_table[\"away_team\"])))\n",
    "\n",
    "home_odds_values = betting_table.select(\"B365H\").filter(betting_table[\"B365H\"].isNull() == false).show()\n",
    "# betting_table = betting_table.fillna({\"B365H\":0})\n",
    "# betting_table.filter(betting_table[\"prediction\"] != betting_table[\"winner\"]).show()"
   ]
  }
 ],
 "metadata": {
  "kernelspec": {
   "display_name": "Python 3",
   "language": "python",
   "name": "python3"
  },
  "language_info": {
   "codemirror_mode": {
    "name": "ipython",
    "version": 3
   },
   "file_extension": ".py",
   "mimetype": "text/x-python",
   "name": "python",
   "nbconvert_exporter": "python",
   "pygments_lexer": "ipython3",
   "version": "3.6.7"
  }
 },
 "nbformat": 4,
 "nbformat_minor": 2
}
