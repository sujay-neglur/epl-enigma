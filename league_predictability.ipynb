{
 "cells": [
  {
   "cell_type": "code",
   "execution_count": 137,
   "metadata": {},
   "outputs": [],
   "source": [
    "from ipynb.fs.full.data_extraction import read_file,init_spark,create_leagues\n",
    "from pyspark.sql.functions import lit,sum,format_number,log\n",
    "from matplotlib import pyplot as plt\n",
    "%matplotlib qt"
   ]
  },
  {
   "cell_type": "code",
   "execution_count": 50,
   "metadata": {},
   "outputs": [],
   "source": [
    "spark = init_spark()"
   ]
  },
  {
   "cell_type": "code",
   "execution_count": 51,
   "metadata": {},
   "outputs": [],
   "source": [
    "match = read_file(\"Match.csv\")\n",
    "leagues = create_leagues()"
   ]
  },
  {
   "cell_type": "code",
   "execution_count": 52,
   "metadata": {},
   "outputs": [],
   "source": [
    "book_keeper = [\"B365H\",\"B365D\",\"B365A\"]\n",
    "match = match.select([\"league_id\",\"season\"] + book_keeper)\n",
    "match = match.na.drop()"
   ]
  },
  {
   "cell_type": "code",
   "execution_count": 53,
   "metadata": {},
   "outputs": [],
   "source": [
    "match_with_probs = match\n",
    "for keeper in book_keeper:\n",
    "    match_with_probs = match_with_probs.withColumn(keeper, 1/match_with_probs[keeper])"
   ]
  },
  {
   "cell_type": "code",
   "execution_count": 54,
   "metadata": {},
   "outputs": [],
   "source": [
    "match_with_probs = match_with_probs.withColumn(\"n_B365H\", format_number(match_with_probs[\"B365H\"]/(match_with_probs[\"B365H\"]+match_with_probs[\"B365D\"]\n",
    "                                                                 +match_with_probs[\"B365A\"]),2))\n",
    "match_with_probs = match_with_probs.withColumn(\"n_B365D\", format_number(match_with_probs[\"B365D\"]/(match_with_probs[\"B365H\"]+match_with_probs[\"B365D\"]\n",
    "                                                                 +match_with_probs[\"B365A\"]),2))\n",
    "match_with_probs = match_with_probs.withColumn(\"n_B365A\", format_number(match_with_probs[\"B365A\"]/(match_with_probs[\"B365H\"]+match_with_probs[\"B365D\"]\n",
    "                                                                 +match_with_probs[\"B365A\"]),2))\n"
   ]
  },
  {
   "cell_type": "code",
   "execution_count": 92,
   "metadata": {},
   "outputs": [],
   "source": [
    "match_entropy = match_with_probs.withColumn(\"entropy\",format_number(-(match_with_probs[\"n_B365H\"]*log(3.0,match_with_probs[\"n_B365H\"])\n",
    "                                       +match_with_probs[\"n_B365D\"]*log(3.0,match_with_probs[\"n_B365D\"])\n",
    "                                       +match_with_probs[\"n_B365A\"]*log(3.0,match_with_probs[\"n_B365A\"])),2).cast(\"double\"))"
   ]
  },
  {
   "cell_type": "code",
   "execution_count": 93,
   "metadata": {},
   "outputs": [],
   "source": [
    "match_entropy = match_entropy.groupBy(\"season\",\"league_id\").mean()\\\n",
    ".select(\"season\",\"league_id\",format_number(\"avg(entropy)\",2).alias(\"avg_entropy\"))"
   ]
  },
  {
   "cell_type": "code",
   "execution_count": 97,
   "metadata": {},
   "outputs": [],
   "source": [
    "final_pd = match_entropy.join(leagues, leagues[\"id\"] == match_entropy[\"league_id\"]).drop(\"id\",\"league_name\",\"league_id\")\\\n",
    ".withColumnRenamed(\"name\",\"country\").orderBy(\"season\").toPandas()"
   ]
  },
  {
   "cell_type": "code",
   "execution_count": 131,
   "metadata": {},
   "outputs": [],
   "source": [
    "leagues_pd = leagues.toPandas()\n",
    "entropy_mean = final_pd.reset_index().pivot(index='season', columns='country', values='avg_entropy').drop(\"Belgium\",axis=1)\n",
    "for col in entropy_mean.columns.values:\n",
    "    entropy_mean[col]=entropy_mean[col].astype(\"str\").astype(\"float\")"
   ]
  },
  {
   "cell_type": "code",
   "execution_count": 138,
   "metadata": {},
   "outputs": [],
   "source": [
    "entropy_mean.plot(figsize=(12,10),marker='o')\n",
    "plt.show()"
   ]
  }
 ],
 "metadata": {
  "kernelspec": {
   "display_name": "Python 3",
   "language": "python",
   "name": "python3"
  },
  "language_info": {
   "codemirror_mode": {
    "name": "ipython",
    "version": 3
   },
   "file_extension": ".py",
   "mimetype": "text/x-python",
   "name": "python",
   "nbconvert_exporter": "python",
   "pygments_lexer": "ipython3",
   "version": "3.6.7"
  }
 },
 "nbformat": 4,
 "nbformat_minor": 2
}
