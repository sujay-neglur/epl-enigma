{
 "cells": [
  {
   "cell_type": "code",
   "execution_count": 1,
   "metadata": {},
   "outputs": [
    {
     "name": "stdout",
     "output_type": "stream",
     "text": [
      "DataFrame[match_id: string, home_team_id: int, home_team: string, home_team_goal: int, league_id: int, B365H: double, B365D: double, B365A: double, away_team_id: int, away_team: string, away_team_goal: int, winner: string, country: string]\n"
     ]
    }
   ],
   "source": [
    "from ipynb.fs.full.data_extraction import init_spark, read_file\n",
    "from pyspark.sql.functions import count,when,isnan,dayofmonth, month, year,col,udf,struct,lit,unix_timestamp\n",
    "from pyspark.sql.types import IntegerType,LongType,TimestampType\n",
    "from datetime import datetime\n",
    "from pyspark.ml.feature import StringIndexer, VectorAssembler,IndexToString,VectorIndexer,MinMaxScaler\n",
    "from pyspark.ml.classification import (LogisticRegression, RandomForestClassifier, DecisionTreeClassifier,\n",
    "                                        MultilayerPerceptronClassifier,NaiveBayes)\n",
    "from pyspark.ml.evaluation import MulticlassClassificationEvaluator\n",
    "from pyspark.ml import Pipeline\n",
    "from handyspark import *"
   ]
  },
  {
   "cell_type": "code",
   "execution_count": 2,
   "metadata": {},
   "outputs": [],
   "source": [
    "spark = init_spark()"
   ]
  },
  {
   "cell_type": "code",
   "execution_count": 3,
   "metadata": {},
   "outputs": [],
   "source": [
    "def prepare_data():\n",
    "    start = datetime.now()\n",
    "    match = read_file(\"Match.csv\")\n",
    "    player_attributes = read_file(\"Player_Attributes.csv\")\n",
    "    players = read_file(\"Player.csv\")\n",
    "    required_columns = [\"match_api_id\",\"home_team_api_id\",\"away_team_api_id\",\"date\",\"home_team_goal\",\"away_team_goal\",\"home_player_1\", \"home_player_2\", \"home_player_3\", \"home_player_4\", \"home_player_5\",\n",
    "               \"home_player_6\", \"home_player_7\", \"home_player_8\", \"home_player_9\", \"home_player_10\",\n",
    "               \"home_player_11\", \"away_player_1\", \"away_player_2\", \"away_player_3\", \"away_player_4\",\n",
    "               \"away_player_5\", \"away_player_6\", \"away_player_7\", \"away_player_8\", \"away_player_9\",\n",
    "               \"away_player_10\", \"away_player_11\",\"B365H\", \"B365D\", \"B365A\", \"BWH\", \"BWD\", \"BWA\"]\n",
    "    match = match.select(required_columns)\n",
    "    match = match.na.drop()\n",
    "    player_attributes = player_attributes.na.drop()\n",
    "    end = datetime.now()\n",
    "    print(\"Generated matches and player attributes in \"+str((end-start).total_seconds())+\" secs\")\n",
    "    return match,player_attributes"
   ]
  },
  {
   "cell_type": "code",
   "execution_count": 4,
   "metadata": {},
   "outputs": [
    {
     "name": "stdout",
     "output_type": "stream",
     "text": [
      "Generated matches and player attributes in 2.466443 secs\n"
     ]
    }
   ],
   "source": [
    "match,player_attributes = prepare_data()\n",
    "match = match.orderBy(\"date\")"
   ]
  },
  {
   "cell_type": "code",
   "execution_count": 5,
   "metadata": {},
   "outputs": [],
   "source": [
    "def merge_ratings_with_matches(match,player_attributes):\n",
    "    start=datetime.now()\n",
    "    all_players = ['home_player_1', 'home_player_2', 'home_player_3', \"home_player_4\", \"home_player_5\",\n",
    "               \"home_player_6\", \"home_player_7\", \"home_player_8\", \"home_player_9\", \"home_player_10\",\n",
    "               \"home_player_11\", \"away_player_1\", \"away_player_2\", \"away_player_3\", \"away_player_4\",\n",
    "               \"away_player_5\", \"away_player_6\", \"away_player_7\", \"away_player_8\", \"away_player_9\",\n",
    "               \"away_player_10\", \"away_player_11\"]\n",
    "    match_new = match\n",
    "#     match.cache()\n",
    "    for player in all_players:\n",
    "        match_df = match.select(\"match_api_id\",player,\"date\")\n",
    "        joined_df = match_df.join(player_attributes, (match_df[player] == player_attributes[\"player_api_id\"])\n",
    "                         & (player_attributes[\"date\"]<match_df[\"date\"]))\\\n",
    "            .select(\"match_api_id\",player,match_df[\"date\"],player_attributes[\"date\"],\"overall_rating\")\\\n",
    "            .drop(player_attributes[\"date\"])\n",
    "        grouped_df = joined_df.groupBy(match_df[\"date\"],player).mean().select(match_df[\"date\"],player,\"avg(overall_rating)\")\\\n",
    "            .withColumnRenamed(\"avg(overall_rating)\",player+\"_mean_rating\")\n",
    "        temp_df = grouped_df.join(joined_df,(grouped_df[\"date\"]==joined_df[\"date\"]) & (grouped_df[player] == joined_df[player]))\\\n",
    "            .select(grouped_df[player],player+\"_mean_rating\",\"match_api_id\",joined_df[\"date\"]).distinct()\n",
    "        match_new = temp_df.join(match_new, on =\"match_api_id\").drop(temp_df[player]).drop(temp_df[\"date\"])\n",
    "#         print(match_new.columns)\n",
    "    end=datetime.now()\n",
    "    print(\"Added ratings to matches in \"+str((end-start).total_seconds())+\" secs\")\n",
    "    return match_new\n"
   ]
  },
  {
   "cell_type": "code",
   "execution_count": 6,
   "metadata": {},
   "outputs": [
    {
     "name": "stdout",
     "output_type": "stream",
     "text": [
      "Added ratings to matches in 1.608172 secs\n"
     ]
    },
    {
     "data": {
      "text/plain": [
       "DataFrame[match_api_id: int, away_player_11_mean_rating: double, away_player_10_mean_rating: double, away_player_9_mean_rating: double, away_player_8_mean_rating: double, away_player_7_mean_rating: double, away_player_6_mean_rating: double, away_player_5_mean_rating: double, away_player_4_mean_rating: double, away_player_3_mean_rating: double, away_player_2_mean_rating: double, away_player_1_mean_rating: double, home_player_11_mean_rating: double, home_player_10_mean_rating: double, home_player_9_mean_rating: double, home_player_8_mean_rating: double, home_player_7_mean_rating: double, home_player_6_mean_rating: double, home_player_5_mean_rating: double, home_player_4_mean_rating: double, home_player_3_mean_rating: double, home_player_2_mean_rating: double, home_player_1_mean_rating: double, home_team_api_id: int, away_team_api_id: int, date: timestamp, home_team_goal: int, away_team_goal: int, home_player_1: int, home_player_2: int, home_player_3: int, home_player_4: int, home_player_5: int, home_player_6: int, home_player_7: int, home_player_8: int, home_player_9: int, home_player_10: int, home_player_11: int, away_player_1: int, away_player_2: int, away_player_3: int, away_player_4: int, away_player_5: int, away_player_6: int, away_player_7: int, away_player_8: int, away_player_9: int, away_player_10: int, away_player_11: int, B365H: double, B365D: double, B365A: double, BWH: double, BWD: double, BWA: double]"
      ]
     },
     "execution_count": 6,
     "metadata": {},
     "output_type": "execute_result"
    }
   ],
   "source": [
    "match_new = merge_ratings_with_matches(match,player_attributes)"
   ]
  },
  {
   "cell_type": "code",
   "execution_count": 7,
   "metadata": {},
   "outputs": [],
   "source": [
    "def get_goals(match_new,home=True):\n",
    "    if home:\n",
    "        home_goals = match_new.select(\"date\",\"home_team_api_id\",\"home_team_goal\",\"away_team_goal\")\\\n",
    "                    .withColumnRenamed(\"date\",\"home_date\")\\\n",
    "                    .withColumnRenamed(\"home_team_api_id\",\"team_id\")\n",
    "        cj = home_goals.crossJoin(match_new)\n",
    "        home_goals_joined = cj.filter(cj[\"team_id\"] == cj[\"home_team_api_id\"])\\\n",
    "            .filter(cj[\"home_date\"]<=cj[\"date\"])\\\n",
    "            .select(cj[\"match_api_id\"],\"home_date\",\"date\",\"team_id\",\"away_team_api_id\",match_new[\"home_team_goal\"],match_new[\"away_team_goal\"])\\\n",
    "            .groupBy(\"date\",\"team_id\").sum()\\\n",
    "            .select(\"date\",\"team_id\",\"sum(home_team_goal)\",\"sum(away_team_goal)\")\\\n",
    "        .withColumnRenamed(\"sum(home_team_goal)\",\"ht_goals_scored\")\\\n",
    "        .withColumnRenamed(\"sum(away_team_goal)\",\"ht_goals_conceded\")\n",
    "        return home_goals_joined\n",
    "    else:\n",
    "        away_goals = match_new.select(\"date\",\"away_team_api_id\",\"home_team_goal\",\"away_team_goal\")\\\n",
    "                    .withColumnRenamed(\"date\",\"away_date\")\\\n",
    "                    .withColumnRenamed(\"away_team_api_id\",\"team_id\")\n",
    "        cj = away_goals.crossJoin(match_new)\n",
    "        away_goals_joined = cj.filter(cj[\"team_id\"] == cj[\"away_team_api_id\"])\\\n",
    "            .filter(cj[\"away_date\"]<=cj[\"date\"])\\\n",
    "            .select(cj[\"match_api_id\"],\"away_date\",\"date\",\"team_id\",\"away_team_api_id\",match_new[\"home_team_goal\"],match_new[\"away_team_goal\"])\\\n",
    "            .groupBy(\"date\",\"team_id\").sum()\\\n",
    "            .select(\"date\",\"team_id\",\"sum(home_team_goal)\",\"sum(away_team_goal)\")\\\n",
    "        .withColumnRenamed(\"sum(home_team_goal)\",\"at_goals_conceded\")\\\n",
    "        .withColumnRenamed(\"sum(away_team_goal)\",\"at_goals_scored\")\n",
    "        return away_goals_joined\n",
    "\n",
    "\n"
   ]
  },
  {
   "cell_type": "code",
   "execution_count": 8,
   "metadata": {},
   "outputs": [],
   "source": [
    "home_goals = get_goals(match_new,True)\\\n",
    "            .withColumnRenamed(\"home_team_api_id\",\"team_id\")\\\n",
    "            .withColumnRenamed(\"date\",\"home_date\")\n",
    "\n",
    "away_goals = get_goals(match_new,False)\\\n",
    "            .withColumnRenamed(\"away_team_api_id\",\"team_id\")\\\n",
    "            .withColumnRenamed(\"date\",\"away_date\")\n"
   ]
  },
  {
   "cell_type": "code",
   "execution_count": 9,
   "metadata": {},
   "outputs": [
    {
     "data": {
      "text/plain": [
       "['home_date', 'team_id', 'ht_goals_scored', 'ht_goals_conceded']"
      ]
     },
     "execution_count": 9,
     "metadata": {},
     "output_type": "execute_result"
    }
   ],
   "source": [
    "all_goals = home_goals.join(away_goals, on = \"team_id\")\n",
    "home_goals.columns"
   ]
  },
  {
   "cell_type": "code",
   "execution_count": 10,
   "metadata": {},
   "outputs": [],
   "source": [
    "match_with_goals = home_goals.join(match_new, (home_goals[\"team_id\"] == match_new[\"home_team_api_id\"])\n",
    "                       & (home_goals[\"home_date\"] == match_new[\"date\"]))\\\n",
    "                        .drop(\"home_date\",\"team_id\")\n",
    "\n",
    "\n",
    "match_with_goals = away_goals.join(match_with_goals,(away_goals[\"team_id\"] == match_new[\"away_team_api_id\"])\n",
    "                       & (away_goals[\"away_date\"] == match_new[\"date\"]))\\\n",
    "                         .drop(\"away_date\",\"team_id\")\n"
   ]
  },
  {
   "cell_type": "code",
   "execution_count": 11,
   "metadata": {},
   "outputs": [],
   "source": [
    "goal_difference = match_with_goals.withColumn(\"ht_goal_diff\",match_with_goals[\"ht_goals_scored\"]\n",
    "                                              -match_with_goals[\"ht_goals_conceded\"])\\\n",
    "                                    .withColumn(\"at_goal_diff\",match_with_goals[\"at_goals_scored\"]\n",
    "                                                -match_with_goals[\"at_goals_conceded\"])\\\n",
    "                                    .drop(\"ht_goals_scored\",\"ht_goals_conceded\",\"at_goals_conceded\",\"at_goals_scored\")"
   ]
  },
  {
   "cell_type": "code",
   "execution_count": 12,
   "metadata": {},
   "outputs": [
    {
     "name": "stdout",
     "output_type": "stream",
     "text": [
      "done\n"
     ]
    }
   ],
   "source": [
    "match_with_label = goal_difference.withColumn(\"match_label\", when(goal_difference[\"home_team_goal\"]>goal_difference[\"away_team_goal\"],\"win\")\n",
    "                                             .otherwise(when(goal_difference[\"home_team_goal\"]<goal_difference[\"away_team_goal\"],\"loss\")\n",
    "                                                       .otherwise(\"draw\")))\n",
    "print(\"done\")"
   ]
  },
  {
   "cell_type": "code",
   "execution_count": 13,
   "metadata": {},
   "outputs": [
    {
     "name": "stdout",
     "output_type": "stream",
     "text": [
      "done\n"
     ]
    }
   ],
   "source": [
    "home_wins = match_with_label.select(\"date\",\"home_team_api_id\",\"match_label\")\\\n",
    "                            .filter(match_with_label[\"match_label\"] == \"win\")\\\n",
    "                            .withColumnRenamed(\"home_team_api_id\",\"team_id\")\\\n",
    "                            .withColumnRenamed(\"date\",\"home_date\")\\\n",
    "                            .withColumnRenamed(\"match_label\",\"home_match_label\")\n",
    "\n",
    "cj_home = home_wins.crossJoin(match_with_label)\n",
    "home_wins_joined = cj_home.filter((cj_home[\"team_id\"] == cj_home[\"home_team_api_id\"])\n",
    "         & (cj_home[\"home_date\"]<= cj_home[\"date\"]))\\\n",
    ".select(\"home_team_api_id\",\"home_date\",\"date\",cj_home[\"match_label\"])\\\n",
    ".groupBy(\"date\",\"home_team_api_id\").count()\\\n",
    "# .withColumnRenamed(\"home_team_api_id\",\"team_id\")\n",
    "\n",
    "\n",
    "away_wins = match_with_label.select(\"date\",\"away_team_api_id\",\"match_label\")\\\n",
    "                            .filter(match_with_label[\"match_label\"] == \"win\")\\\n",
    "                            .withColumnRenamed(\"away_team_api_id\",\"team_id\")\\\n",
    "                            .withColumnRenamed(\"date\",\"away_date\")\\\n",
    "                            .withColumnRenamed(\"match_label\",\"away_match_label\")\n",
    "\n",
    "cj_away = away_wins.crossJoin(match_with_label)\n",
    "away_wins_joined = cj_away.filter((cj_away[\"team_id\"] == cj_away[\"away_team_api_id\"])\n",
    "         & (cj_away[\"away_date\"]<= cj_away[\"date\"]))\\\n",
    ".select(\"away_team_api_id\",\"away_date\",\"date\",cj_away[\"match_label\"])\\\n",
    ".groupBy(\"date\",\"away_team_api_id\").count()\\\n",
    "# .withColumnRenamed(\"away_team_api_id\",\"team_id\")\n",
    "print(\"done\")"
   ]
  },
  {
   "cell_type": "code",
   "execution_count": 14,
   "metadata": {},
   "outputs": [
    {
     "name": "stdout",
     "output_type": "stream",
     "text": [
      "done\n"
     ]
    }
   ],
   "source": [
    "match_with_wins = home_wins_joined.join(match_with_label,[\"date\",\"home_team_api_id\"],how=\"full\")\\\n",
    "                        .withColumnRenamed(\"count\",\"home_count\").na.fill(0,\"home_count\")\n",
    "match_with_wins = match_with_wins.join(away_wins_joined,[\"date\",\"away_team_api_id\"],how=\"full\")\\\n",
    "                        .withColumnRenamed(\"count\",\"away_count\").na.fill(0,\"away_count\")\n",
    "print(\"done\")"
   ]
  },
  {
   "cell_type": "code",
   "execution_count": 15,
   "metadata": {},
   "outputs": [
    {
     "name": "stdout",
     "output_type": "stream",
     "text": [
      "done\n"
     ]
    }
   ],
   "source": [
    "book_keeper = [\"B365H\", \"B365D\", \"B365A\", \"BWH\", \"BWD\",\"BWA\"]\n",
    "match_with_probs = match_with_wins\n",
    "for keeper in book_keeper:\n",
    "    match_with_probs = match_with_probs.withColumn(keeper,1/match_with_probs[keeper])\n",
    "\n",
    "print(\"done\")"
   ]
  },
  {
   "cell_type": "code",
   "execution_count": 16,
   "metadata": {},
   "outputs": [
    {
     "name": "stdout",
     "output_type": "stream",
     "text": [
      "done\n"
     ]
    }
   ],
   "source": [
    "match_with_probs = match_with_probs.drop(\"home_team_goal\",\"away_team_goal\")\n",
    "print(\"done\")"
   ]
  },
  {
   "cell_type": "code",
   "execution_count": 18,
   "metadata": {},
   "outputs": [
    {
     "name": "stderr",
     "output_type": "stream",
     "text": [
      "ERROR:py4j.java_gateway:An error occurred while trying to connect to the Java server (127.0.0.1:39597)\n",
      "Traceback (most recent call last):\n",
      "  File \"/home/sujay/.local/lib/python3.6/site-packages/py4j/java_gateway.py\", line 929, in _get_connection\n",
      "    connection = self.deque.pop()\n",
      "IndexError: pop from an empty deque\n",
      "\n",
      "During handling of the above exception, another exception occurred:\n",
      "\n",
      "Traceback (most recent call last):\n",
      "  File \"/home/sujay/.local/lib/python3.6/site-packages/py4j/java_gateway.py\", line 1067, in start\n",
      "    self.socket.connect((self.address, self.port))\n",
      "ConnectionRefusedError: [Errno 111] Connection refused\n"
     ]
    },
    {
     "ename": "Py4JNetworkError",
     "evalue": "An error occurred while trying to connect to the Java server (127.0.0.1:39597)",
     "output_type": "error",
     "traceback": [
      "\u001b[0;31m---------------------------------------------------------------------------\u001b[0m",
      "\u001b[0;31mIndexError\u001b[0m                                Traceback (most recent call last)",
      "\u001b[0;32m~/.local/lib/python3.6/site-packages/py4j/java_gateway.py\u001b[0m in \u001b[0;36m_get_connection\u001b[0;34m(self)\u001b[0m\n\u001b[1;32m    928\u001b[0m         \u001b[0;32mtry\u001b[0m\u001b[0;34m:\u001b[0m\u001b[0;34m\u001b[0m\u001b[0;34m\u001b[0m\u001b[0m\n\u001b[0;32m--> 929\u001b[0;31m             \u001b[0mconnection\u001b[0m \u001b[0;34m=\u001b[0m \u001b[0mself\u001b[0m\u001b[0;34m.\u001b[0m\u001b[0mdeque\u001b[0m\u001b[0;34m.\u001b[0m\u001b[0mpop\u001b[0m\u001b[0;34m(\u001b[0m\u001b[0;34m)\u001b[0m\u001b[0;34m\u001b[0m\u001b[0;34m\u001b[0m\u001b[0m\n\u001b[0m\u001b[1;32m    930\u001b[0m         \u001b[0;32mexcept\u001b[0m \u001b[0mIndexError\u001b[0m\u001b[0;34m:\u001b[0m\u001b[0;34m\u001b[0m\u001b[0;34m\u001b[0m\u001b[0m\n",
      "\u001b[0;31mIndexError\u001b[0m: pop from an empty deque",
      "\nDuring handling of the above exception, another exception occurred:\n",
      "\u001b[0;31mConnectionRefusedError\u001b[0m                    Traceback (most recent call last)",
      "\u001b[0;32m~/.local/lib/python3.6/site-packages/py4j/java_gateway.py\u001b[0m in \u001b[0;36mstart\u001b[0;34m(self)\u001b[0m\n\u001b[1;32m   1066\u001b[0m         \u001b[0;32mtry\u001b[0m\u001b[0;34m:\u001b[0m\u001b[0;34m\u001b[0m\u001b[0;34m\u001b[0m\u001b[0m\n\u001b[0;32m-> 1067\u001b[0;31m             \u001b[0mself\u001b[0m\u001b[0;34m.\u001b[0m\u001b[0msocket\u001b[0m\u001b[0;34m.\u001b[0m\u001b[0mconnect\u001b[0m\u001b[0;34m(\u001b[0m\u001b[0;34m(\u001b[0m\u001b[0mself\u001b[0m\u001b[0;34m.\u001b[0m\u001b[0maddress\u001b[0m\u001b[0;34m,\u001b[0m \u001b[0mself\u001b[0m\u001b[0;34m.\u001b[0m\u001b[0mport\u001b[0m\u001b[0;34m)\u001b[0m\u001b[0;34m)\u001b[0m\u001b[0;34m\u001b[0m\u001b[0;34m\u001b[0m\u001b[0m\n\u001b[0m\u001b[1;32m   1068\u001b[0m             \u001b[0mself\u001b[0m\u001b[0;34m.\u001b[0m\u001b[0mstream\u001b[0m \u001b[0;34m=\u001b[0m \u001b[0mself\u001b[0m\u001b[0;34m.\u001b[0m\u001b[0msocket\u001b[0m\u001b[0;34m.\u001b[0m\u001b[0mmakefile\u001b[0m\u001b[0;34m(\u001b[0m\u001b[0;34m\"rb\"\u001b[0m\u001b[0;34m)\u001b[0m\u001b[0;34m\u001b[0m\u001b[0;34m\u001b[0m\u001b[0m\n",
      "\u001b[0;31mConnectionRefusedError\u001b[0m: [Errno 111] Connection refused",
      "\nDuring handling of the above exception, another exception occurred:\n",
      "\u001b[0;31mPy4JNetworkError\u001b[0m                          Traceback (most recent call last)",
      "\u001b[0;32m<ipython-input-18-6e4b09649b78>\u001b[0m in \u001b[0;36m<module>\u001b[0;34m\u001b[0m\n\u001b[0;32m----> 1\u001b[0;31m \u001b[0mindexer\u001b[0m \u001b[0;34m=\u001b[0m \u001b[0mStringIndexer\u001b[0m\u001b[0;34m(\u001b[0m\u001b[0minputCol\u001b[0m\u001b[0;34m=\u001b[0m\u001b[0;34m\"match_label\"\u001b[0m\u001b[0;34m,\u001b[0m\u001b[0moutputCol\u001b[0m\u001b[0;34m=\u001b[0m \u001b[0;34m\"label\"\u001b[0m\u001b[0;34m)\u001b[0m\u001b[0;34m\u001b[0m\u001b[0;34m\u001b[0m\u001b[0m\n\u001b[0m\u001b[1;32m      2\u001b[0m \u001b[0mmatch_data\u001b[0m \u001b[0;34m=\u001b[0m \u001b[0mindexer\u001b[0m\u001b[0;34m.\u001b[0m\u001b[0mfit\u001b[0m\u001b[0;34m(\u001b[0m\u001b[0mmatch_with_probs\u001b[0m\u001b[0;34m)\u001b[0m\u001b[0;34m.\u001b[0m\u001b[0mtransform\u001b[0m\u001b[0;34m(\u001b[0m\u001b[0mmatch_with_probs\u001b[0m\u001b[0;34m)\u001b[0m\u001b[0;34m\u001b[0m\u001b[0;34m\u001b[0m\u001b[0m\n\u001b[1;32m      3\u001b[0m features = [x for x in match_data.columns if x not in \n\u001b[1;32m      4\u001b[0m             [\"home_team_goal\",\"away_team_goal\",\"date\",\"label\",\"match_label\",\"match_api_id\"]]\n",
      "\u001b[0;32m~/.local/lib/python3.6/site-packages/pyspark/__init__.py\u001b[0m in \u001b[0;36mwrapper\u001b[0;34m(self, *args, **kwargs)\u001b[0m\n\u001b[1;32m    108\u001b[0m             \u001b[0;32mraise\u001b[0m \u001b[0mTypeError\u001b[0m\u001b[0;34m(\u001b[0m\u001b[0;34m\"Method %s forces keyword arguments.\"\u001b[0m \u001b[0;34m%\u001b[0m \u001b[0mfunc\u001b[0m\u001b[0;34m.\u001b[0m\u001b[0m__name__\u001b[0m\u001b[0;34m)\u001b[0m\u001b[0;34m\u001b[0m\u001b[0;34m\u001b[0m\u001b[0m\n\u001b[1;32m    109\u001b[0m         \u001b[0mself\u001b[0m\u001b[0;34m.\u001b[0m\u001b[0m_input_kwargs\u001b[0m \u001b[0;34m=\u001b[0m \u001b[0mkwargs\u001b[0m\u001b[0;34m\u001b[0m\u001b[0;34m\u001b[0m\u001b[0m\n\u001b[0;32m--> 110\u001b[0;31m         \u001b[0;32mreturn\u001b[0m \u001b[0mfunc\u001b[0m\u001b[0;34m(\u001b[0m\u001b[0mself\u001b[0m\u001b[0;34m,\u001b[0m \u001b[0;34m**\u001b[0m\u001b[0mkwargs\u001b[0m\u001b[0;34m)\u001b[0m\u001b[0;34m\u001b[0m\u001b[0;34m\u001b[0m\u001b[0m\n\u001b[0m\u001b[1;32m    111\u001b[0m     \u001b[0;32mreturn\u001b[0m \u001b[0mwrapper\u001b[0m\u001b[0;34m\u001b[0m\u001b[0;34m\u001b[0m\u001b[0m\n\u001b[1;32m    112\u001b[0m \u001b[0;34m\u001b[0m\u001b[0m\n",
      "\u001b[0;32m~/.local/lib/python3.6/site-packages/pyspark/ml/feature.py\u001b[0m in \u001b[0;36m__init__\u001b[0;34m(self, inputCol, outputCol, handleInvalid, stringOrderType)\u001b[0m\n\u001b[1;32m   2447\u001b[0m         \"\"\"\n\u001b[1;32m   2448\u001b[0m         \u001b[0msuper\u001b[0m\u001b[0;34m(\u001b[0m\u001b[0mStringIndexer\u001b[0m\u001b[0;34m,\u001b[0m \u001b[0mself\u001b[0m\u001b[0;34m)\u001b[0m\u001b[0;34m.\u001b[0m\u001b[0m__init__\u001b[0m\u001b[0;34m(\u001b[0m\u001b[0;34m)\u001b[0m\u001b[0;34m\u001b[0m\u001b[0;34m\u001b[0m\u001b[0m\n\u001b[0;32m-> 2449\u001b[0;31m         \u001b[0mself\u001b[0m\u001b[0;34m.\u001b[0m\u001b[0m_java_obj\u001b[0m \u001b[0;34m=\u001b[0m \u001b[0mself\u001b[0m\u001b[0;34m.\u001b[0m\u001b[0m_new_java_obj\u001b[0m\u001b[0;34m(\u001b[0m\u001b[0;34m\"org.apache.spark.ml.feature.StringIndexer\"\u001b[0m\u001b[0;34m,\u001b[0m \u001b[0mself\u001b[0m\u001b[0;34m.\u001b[0m\u001b[0muid\u001b[0m\u001b[0;34m)\u001b[0m\u001b[0;34m\u001b[0m\u001b[0;34m\u001b[0m\u001b[0m\n\u001b[0m\u001b[1;32m   2450\u001b[0m         \u001b[0mkwargs\u001b[0m \u001b[0;34m=\u001b[0m \u001b[0mself\u001b[0m\u001b[0;34m.\u001b[0m\u001b[0m_input_kwargs\u001b[0m\u001b[0;34m\u001b[0m\u001b[0;34m\u001b[0m\u001b[0m\n\u001b[1;32m   2451\u001b[0m         \u001b[0mself\u001b[0m\u001b[0;34m.\u001b[0m\u001b[0msetParams\u001b[0m\u001b[0;34m(\u001b[0m\u001b[0;34m**\u001b[0m\u001b[0mkwargs\u001b[0m\u001b[0;34m)\u001b[0m\u001b[0;34m\u001b[0m\u001b[0;34m\u001b[0m\u001b[0m\n",
      "\u001b[0;32m~/.local/lib/python3.6/site-packages/pyspark/ml/wrapper.py\u001b[0m in \u001b[0;36m_new_java_obj\u001b[0;34m(java_class, *args)\u001b[0m\n\u001b[1;32m     63\u001b[0m         \u001b[0mjava_obj\u001b[0m \u001b[0;34m=\u001b[0m \u001b[0m_jvm\u001b[0m\u001b[0;34m(\u001b[0m\u001b[0;34m)\u001b[0m\u001b[0;34m\u001b[0m\u001b[0;34m\u001b[0m\u001b[0m\n\u001b[1;32m     64\u001b[0m         \u001b[0;32mfor\u001b[0m \u001b[0mname\u001b[0m \u001b[0;32min\u001b[0m \u001b[0mjava_class\u001b[0m\u001b[0;34m.\u001b[0m\u001b[0msplit\u001b[0m\u001b[0;34m(\u001b[0m\u001b[0;34m\".\"\u001b[0m\u001b[0;34m)\u001b[0m\u001b[0;34m:\u001b[0m\u001b[0;34m\u001b[0m\u001b[0;34m\u001b[0m\u001b[0m\n\u001b[0;32m---> 65\u001b[0;31m             \u001b[0mjava_obj\u001b[0m \u001b[0;34m=\u001b[0m \u001b[0mgetattr\u001b[0m\u001b[0;34m(\u001b[0m\u001b[0mjava_obj\u001b[0m\u001b[0;34m,\u001b[0m \u001b[0mname\u001b[0m\u001b[0;34m)\u001b[0m\u001b[0;34m\u001b[0m\u001b[0;34m\u001b[0m\u001b[0m\n\u001b[0m\u001b[1;32m     66\u001b[0m         \u001b[0mjava_args\u001b[0m \u001b[0;34m=\u001b[0m \u001b[0;34m[\u001b[0m\u001b[0m_py2java\u001b[0m\u001b[0;34m(\u001b[0m\u001b[0msc\u001b[0m\u001b[0;34m,\u001b[0m \u001b[0marg\u001b[0m\u001b[0;34m)\u001b[0m \u001b[0;32mfor\u001b[0m \u001b[0marg\u001b[0m \u001b[0;32min\u001b[0m \u001b[0margs\u001b[0m\u001b[0;34m]\u001b[0m\u001b[0;34m\u001b[0m\u001b[0;34m\u001b[0m\u001b[0m\n\u001b[1;32m     67\u001b[0m         \u001b[0;32mreturn\u001b[0m \u001b[0mjava_obj\u001b[0m\u001b[0;34m(\u001b[0m\u001b[0;34m*\u001b[0m\u001b[0mjava_args\u001b[0m\u001b[0;34m)\u001b[0m\u001b[0;34m\u001b[0m\u001b[0;34m\u001b[0m\u001b[0m\n",
      "\u001b[0;32m~/.local/lib/python3.6/site-packages/py4j/java_gateway.py\u001b[0m in \u001b[0;36m__getattr__\u001b[0;34m(self, name)\u001b[0m\n\u001b[1;32m   1647\u001b[0m             \u001b[0mproto\u001b[0m\u001b[0;34m.\u001b[0m\u001b[0mREFLECTION_COMMAND_NAME\u001b[0m \u001b[0;34m+\u001b[0m\u001b[0;34m\u001b[0m\u001b[0;34m\u001b[0m\u001b[0m\n\u001b[1;32m   1648\u001b[0m             \u001b[0mproto\u001b[0m\u001b[0;34m.\u001b[0m\u001b[0mREFL_GET_UNKNOWN_SUB_COMMAND_NAME\u001b[0m \u001b[0;34m+\u001b[0m \u001b[0mname\u001b[0m \u001b[0;34m+\u001b[0m \u001b[0;34m\"\\n\"\u001b[0m \u001b[0;34m+\u001b[0m \u001b[0mself\u001b[0m\u001b[0;34m.\u001b[0m\u001b[0m_id\u001b[0m \u001b[0;34m+\u001b[0m\u001b[0;34m\u001b[0m\u001b[0;34m\u001b[0m\u001b[0m\n\u001b[0;32m-> 1649\u001b[0;31m             \"\\n\" + proto.END_COMMAND_PART)\n\u001b[0m\u001b[1;32m   1650\u001b[0m         \u001b[0;32mif\u001b[0m \u001b[0manswer\u001b[0m \u001b[0;34m==\u001b[0m \u001b[0mproto\u001b[0m\u001b[0;34m.\u001b[0m\u001b[0mSUCCESS_PACKAGE\u001b[0m\u001b[0;34m:\u001b[0m\u001b[0;34m\u001b[0m\u001b[0;34m\u001b[0m\u001b[0m\n\u001b[1;32m   1651\u001b[0m             \u001b[0;32mreturn\u001b[0m \u001b[0mJavaPackage\u001b[0m\u001b[0;34m(\u001b[0m\u001b[0mname\u001b[0m\u001b[0;34m,\u001b[0m \u001b[0mself\u001b[0m\u001b[0;34m.\u001b[0m\u001b[0m_gateway_client\u001b[0m\u001b[0;34m,\u001b[0m \u001b[0mjvm_id\u001b[0m\u001b[0;34m=\u001b[0m\u001b[0mself\u001b[0m\u001b[0;34m.\u001b[0m\u001b[0m_id\u001b[0m\u001b[0;34m)\u001b[0m\u001b[0;34m\u001b[0m\u001b[0;34m\u001b[0m\u001b[0m\n",
      "\u001b[0;32m~/.local/lib/python3.6/site-packages/py4j/java_gateway.py\u001b[0m in \u001b[0;36msend_command\u001b[0;34m(self, command, retry, binary)\u001b[0m\n\u001b[1;32m    981\u001b[0m          \u001b[0;32mif\u001b[0m\u001b[0;31m \u001b[0m\u001b[0;31m`\u001b[0m\u001b[0mbinary\u001b[0m\u001b[0;31m`\u001b[0m \u001b[0;32mis\u001b[0m\u001b[0;31m \u001b[0m\u001b[0;31m`\u001b[0m\u001b[0;32mTrue\u001b[0m\u001b[0;31m`\u001b[0m\u001b[0;34m.\u001b[0m\u001b[0;34m\u001b[0m\u001b[0;34m\u001b[0m\u001b[0m\n\u001b[1;32m    982\u001b[0m         \"\"\"\n\u001b[0;32m--> 983\u001b[0;31m         \u001b[0mconnection\u001b[0m \u001b[0;34m=\u001b[0m \u001b[0mself\u001b[0m\u001b[0;34m.\u001b[0m\u001b[0m_get_connection\u001b[0m\u001b[0;34m(\u001b[0m\u001b[0;34m)\u001b[0m\u001b[0;34m\u001b[0m\u001b[0;34m\u001b[0m\u001b[0m\n\u001b[0m\u001b[1;32m    984\u001b[0m         \u001b[0;32mtry\u001b[0m\u001b[0;34m:\u001b[0m\u001b[0;34m\u001b[0m\u001b[0;34m\u001b[0m\u001b[0m\n\u001b[1;32m    985\u001b[0m             \u001b[0mresponse\u001b[0m \u001b[0;34m=\u001b[0m \u001b[0mconnection\u001b[0m\u001b[0;34m.\u001b[0m\u001b[0msend_command\u001b[0m\u001b[0;34m(\u001b[0m\u001b[0mcommand\u001b[0m\u001b[0;34m)\u001b[0m\u001b[0;34m\u001b[0m\u001b[0;34m\u001b[0m\u001b[0m\n",
      "\u001b[0;32m~/.local/lib/python3.6/site-packages/py4j/java_gateway.py\u001b[0m in \u001b[0;36m_get_connection\u001b[0;34m(self)\u001b[0m\n\u001b[1;32m    929\u001b[0m             \u001b[0mconnection\u001b[0m \u001b[0;34m=\u001b[0m \u001b[0mself\u001b[0m\u001b[0;34m.\u001b[0m\u001b[0mdeque\u001b[0m\u001b[0;34m.\u001b[0m\u001b[0mpop\u001b[0m\u001b[0;34m(\u001b[0m\u001b[0;34m)\u001b[0m\u001b[0;34m\u001b[0m\u001b[0;34m\u001b[0m\u001b[0m\n\u001b[1;32m    930\u001b[0m         \u001b[0;32mexcept\u001b[0m \u001b[0mIndexError\u001b[0m\u001b[0;34m:\u001b[0m\u001b[0;34m\u001b[0m\u001b[0;34m\u001b[0m\u001b[0m\n\u001b[0;32m--> 931\u001b[0;31m             \u001b[0mconnection\u001b[0m \u001b[0;34m=\u001b[0m \u001b[0mself\u001b[0m\u001b[0;34m.\u001b[0m\u001b[0m_create_connection\u001b[0m\u001b[0;34m(\u001b[0m\u001b[0;34m)\u001b[0m\u001b[0;34m\u001b[0m\u001b[0;34m\u001b[0m\u001b[0m\n\u001b[0m\u001b[1;32m    932\u001b[0m         \u001b[0;32mreturn\u001b[0m \u001b[0mconnection\u001b[0m\u001b[0;34m\u001b[0m\u001b[0;34m\u001b[0m\u001b[0m\n\u001b[1;32m    933\u001b[0m \u001b[0;34m\u001b[0m\u001b[0m\n",
      "\u001b[0;32m~/.local/lib/python3.6/site-packages/py4j/java_gateway.py\u001b[0m in \u001b[0;36m_create_connection\u001b[0;34m(self)\u001b[0m\n\u001b[1;32m    935\u001b[0m         connection = GatewayConnection(\n\u001b[1;32m    936\u001b[0m             self.gateway_parameters, self.gateway_property)\n\u001b[0;32m--> 937\u001b[0;31m         \u001b[0mconnection\u001b[0m\u001b[0;34m.\u001b[0m\u001b[0mstart\u001b[0m\u001b[0;34m(\u001b[0m\u001b[0;34m)\u001b[0m\u001b[0;34m\u001b[0m\u001b[0;34m\u001b[0m\u001b[0m\n\u001b[0m\u001b[1;32m    938\u001b[0m         \u001b[0;32mreturn\u001b[0m \u001b[0mconnection\u001b[0m\u001b[0;34m\u001b[0m\u001b[0;34m\u001b[0m\u001b[0m\n\u001b[1;32m    939\u001b[0m \u001b[0;34m\u001b[0m\u001b[0m\n",
      "\u001b[0;32m~/.local/lib/python3.6/site-packages/py4j/java_gateway.py\u001b[0m in \u001b[0;36mstart\u001b[0;34m(self)\u001b[0m\n\u001b[1;32m   1077\u001b[0m                 \u001b[0;34m\"server ({0}:{1})\"\u001b[0m\u001b[0;34m.\u001b[0m\u001b[0mformat\u001b[0m\u001b[0;34m(\u001b[0m\u001b[0mself\u001b[0m\u001b[0;34m.\u001b[0m\u001b[0maddress\u001b[0m\u001b[0;34m,\u001b[0m \u001b[0mself\u001b[0m\u001b[0;34m.\u001b[0m\u001b[0mport\u001b[0m\u001b[0;34m)\u001b[0m\u001b[0;34m\u001b[0m\u001b[0;34m\u001b[0m\u001b[0m\n\u001b[1;32m   1078\u001b[0m             \u001b[0mlogger\u001b[0m\u001b[0;34m.\u001b[0m\u001b[0mexception\u001b[0m\u001b[0;34m(\u001b[0m\u001b[0mmsg\u001b[0m\u001b[0;34m)\u001b[0m\u001b[0;34m\u001b[0m\u001b[0;34m\u001b[0m\u001b[0m\n\u001b[0;32m-> 1079\u001b[0;31m             \u001b[0;32mraise\u001b[0m \u001b[0mPy4JNetworkError\u001b[0m\u001b[0;34m(\u001b[0m\u001b[0mmsg\u001b[0m\u001b[0;34m,\u001b[0m \u001b[0me\u001b[0m\u001b[0;34m)\u001b[0m\u001b[0;34m\u001b[0m\u001b[0;34m\u001b[0m\u001b[0m\n\u001b[0m\u001b[1;32m   1080\u001b[0m \u001b[0;34m\u001b[0m\u001b[0m\n\u001b[1;32m   1081\u001b[0m     \u001b[0;32mdef\u001b[0m \u001b[0m_authenticate_connection\u001b[0m\u001b[0;34m(\u001b[0m\u001b[0mself\u001b[0m\u001b[0;34m)\u001b[0m\u001b[0;34m:\u001b[0m\u001b[0;34m\u001b[0m\u001b[0;34m\u001b[0m\u001b[0m\n",
      "\u001b[0;31mPy4JNetworkError\u001b[0m: An error occurred while trying to connect to the Java server (127.0.0.1:39597)"
     ]
    }
   ],
   "source": [
    "indexer = StringIndexer(inputCol=\"match_label\",outputCol= \"label\")\n",
    "match_data = indexer.fit(match_with_probs).transform(match_with_probs)\n",
    "features = [x for x in match_data.columns if x not in \n",
    "            [\"home_team_goal\",\"away_team_goal\",\"date\",\"label\",\"match_label\",\"match_api_id\"]]"
   ]
  },
  {
   "cell_type": "code",
   "execution_count": null,
   "metadata": {},
   "outputs": [],
   "source": [
    "assembler = VectorAssembler(inputCols = features, outputCol = \"features\")\n",
    "match_final = assembler.transform(match_data)\n",
    "final_data = match_final.select(\"features\",\"label\")"
   ]
  },
  {
   "cell_type": "code",
   "execution_count": null,
   "metadata": {},
   "outputs": [],
   "source": [
    "train,test = final_data.randomSplit([0.7,0.3],seed=1234)\n",
    "dtc = DecisionTreeClassifier()\n",
    "dtc_model = dtc.fit(train)\n",
    "preds = dtc_model.transform(test)\n",
    "evaluator = MulticlassClassificationEvaluator(metricName = \"accuracy\")\n",
    "evaluator.evaluate(preds)"
   ]
  },
  {
   "cell_type": "code",
   "execution_count": null,
   "metadata": {},
   "outputs": [],
   "source": [
    "scaler = MinMaxScaler(inputCol=\"features\", outputCol=\"scaledFeatures\",)\n",
    "scalerModel = scaler.fit(train)\n",
    "scaledTrain = scalerModel.transform(train)\n",
    "scaledTest = scalerModel.transform(test)\n",
    "nb = NaiveBayes(smoothing=0.5,featuresCol=\"scaledFeatures\",labelCol=\"label\")\n",
    "nb_model = nb.fit(scaledTrain)\n",
    "predictions = nb_model.transform(scaledTest)\n",
    "evaluator = MulticlassClassificationEvaluator(labelCol=\"label\", predictionCol=\"prediction\",\n",
    "                                              metricName=\"accuracy\")\n",
    "accuracy = evaluator.evaluate(predictions)\n",
    "accuracy"
   ]
  },
  {
   "cell_type": "code",
   "execution_count": null,
   "metadata": {},
   "outputs": [],
   "source": [
    "layers = [3, 4, 3]\n",
    "trainer = MultilayerPerceptronClassifier(maxIter=100, layers=layers, blockSize=128, seed=1234)\n",
    "nn_model = trainer.fit(train)\n",
    "result = model.transform(test)\n",
    "predictionAndLabels = result.select(\"prediction\", \"label\")\n",
    "evaluator = MulticlassClassificationEvaluator(metricName=\"accuracy\")\n",
    "evaluator.evaluate(predictionAndLabels)"
   ]
  }
 ],
 "metadata": {
  "kernelspec": {
   "display_name": "Python 3",
   "language": "python",
   "name": "python3"
  },
  "language_info": {
   "codemirror_mode": {
    "name": "ipython",
    "version": 3
   },
   "file_extension": ".py",
   "mimetype": "text/x-python",
   "name": "python",
   "nbconvert_exporter": "python",
   "pygments_lexer": "ipython3",
   "version": "3.6.7"
  }
 },
 "nbformat": 4,
 "nbformat_minor": 2
}
