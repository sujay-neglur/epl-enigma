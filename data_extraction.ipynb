{
 "cells": [
  {
   "cell_type": "code",
   "execution_count": 11,
   "metadata": {},
   "outputs": [],
   "source": [
    "from pyspark.sql.functions import when\n",
    "from pyspark.sql import SparkSession"
   ]
  },
  {
   "cell_type": "code",
   "execution_count": 12,
   "metadata": {},
   "outputs": [],
   "source": [
    "def init_spark():\n",
    "    spark = SparkSession \\\n",
    "        .builder \\\n",
    "        .appName(\"Python Spark SQL basic example\") \\\n",
    "        .config(\"spark.some.config.option\", \"some-value\") \\\n",
    "        .getOrCreate()\n",
    "    return spark"
   ]
  },
  {
   "cell_type": "code",
   "execution_count": 1,
   "metadata": {},
   "outputs": [],
   "source": [
    "def read_file(filename):\n",
    "    spark = init_spark()\n",
    "    data = spark.read.csv(\"data/\" + filename, header=True,inferSchema = True)\n",
    "    return data"
   ]
  },
  {
   "cell_type": "code",
   "execution_count": 14,
   "metadata": {},
   "outputs": [],
   "source": [
    "country = read_file(\"Country.csv\")\n",
    "# country.show()"
   ]
  },
  {
   "cell_type": "code",
   "execution_count": 15,
   "metadata": {},
   "outputs": [],
   "source": [
    "league = read_file(\"League.csv\").drop(\"country_id\").withColumnRenamed(\"name\", \"league_name\")\n",
    "# league.show()"
   ]
  },
  {
   "cell_type": "code",
   "execution_count": 16,
   "metadata": {},
   "outputs": [],
   "source": [
    "def create_leagues():\n",
    "    leagues = country.join(league, on=\"id\")\n",
    "    return leagues"
   ]
  },
  {
   "cell_type": "code",
   "execution_count": 17,
   "metadata": {},
   "outputs": [],
   "source": [
    "teams = read_file(\"Team.csv\").withColumnRenamed(\"id\",\"team_id\")\n",
    "# teams.show()"
   ]
  },
  {
   "cell_type": "code",
   "execution_count": 23,
   "metadata": {},
   "outputs": [],
   "source": [
    "def create_matches():\n",
    "    # home team\n",
    "    match = read_file(\"Match.csv\").withColumnRenamed(\"id\",\"match_id\")\n",
    "    \n",
    "    home_team_match = match.join(teams, teams.team_api_id == match.home_team_api_id)\\\n",
    "        .select(\"match_id\",\"home_team_api_id\", \"team_long_name\",\"home_team_goal\",\"league_id\",\"B365H\",\"B365D\",\"B365A\")\\\n",
    "        .withColumnRenamed(\"team_long_name\",\"home_team_long_name\")\n",
    "    # away team\n",
    "    away_team_match = match.join(teams, teams.team_api_id == match.away_team_api_id)\\\n",
    "        .select(\"match_id\",\"away_team_api_id\",\"team_long_name\",\"away_team_goal\")\\\n",
    "        .withColumnRenamed(\"team_long_name\", \"away_team_long_name\")\n",
    "    # join home and away team\n",
    "    matches = home_team_match.join(away_team_match, on = \"match_id\")\n",
    "    old_match_cols = matches.columns\n",
    "    match_cols = [\"match_id\",\"home_team_id\",\"home_team\",\"home_team_goal\",\"league_id\",\"B365H\",\"B365D\",\"B365A\",\"away_team_id\",\"away_team\",\"away_team_goal\"]\n",
    "    for i in range(len(old_match_cols)):\n",
    "        matches = matches.withColumnRenamed(old_match_cols[i],match_cols[i])\n",
    "    # add result\n",
    "    matches = matches.withColumn(\"winner\", when(matches[\"home_team_goal\"]>matches[\"away_team_goal\"], matches[\"home_team\"])\n",
    "                             .otherwise(when(matches[\"home_team_goal\"]< matches[\"away_team_goal\"], matches[\"away_team\"])\n",
    "                                       .otherwise(\"Draw\")))\n",
    "    leagues = create_leagues()\n",
    "    matches = matches.join(leagues,leagues.id == matches.league_id).drop(\"id\",\"league_name\").withColumnRenamed(\"name\",\"country\")\n",
    "    return matches"
   ]
  },
  {
   "cell_type": "code",
   "execution_count": 22,
   "metadata": {},
   "outputs": [
    {
     "name": "stdout",
     "output_type": "stream",
     "text": [
      "['match_id', 'home_team_api_id', 'home_team_long_name', 'home_team_goal', 'league_id', 'B365H', 'B365D', 'B365A', 'away_team_api_id', 'away_team_long_name', 'away_team_goal']\n",
      "DataFrame[match_id: string, home_team_id: string, home_team: string, home_team_goal: string, league_id: string, B365H: string, B365D: string, B365A: string, away_team_id: string, away_team: string, away_team_goal: string, winner: string, country: string]\n"
     ]
    }
   ],
   "source": [
    "print(create_matches())"
   ]
  }
 ],
 "metadata": {
  "kernelspec": {
   "display_name": "Python 3",
   "language": "python",
   "name": "python3"
  },
  "language_info": {
   "codemirror_mode": {
    "name": "ipython",
    "version": 3
   },
   "file_extension": ".py",
   "mimetype": "text/x-python",
   "name": "python",
   "nbconvert_exporter": "python",
   "pygments_lexer": "ipython3",
   "version": "3.6.7"
  }
 },
 "nbformat": 4,
 "nbformat_minor": 2
}
