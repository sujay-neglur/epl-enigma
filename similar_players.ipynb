{
 "cells": [
  {
   "cell_type": "code",
   "execution_count": 1,
   "metadata": {},
   "outputs": [
    {
     "name": "stdout",
     "output_type": "stream",
     "text": [
      "DataFrame[match_id: string, home_team_id: int, home_team: string, home_team_goal: int, league_id: int, B365H: double, B365D: double, B365A: double, away_team_id: int, away_team: string, away_team_goal: int, winner: string, country: string]\n"
     ]
    }
   ],
   "source": [
    "from ipynb.fs.full.data_extraction import read_file,init_spark\n",
    "from pyspark.sql.functions import count,when,corr\n",
    "from pyspark.ml.feature import VectorAssembler\n",
    "from pyspark.ml.clustering import KMeans\n",
    "from matplotlib import pyplot as plt"
   ]
  },
  {
   "cell_type": "code",
   "execution_count": 2,
   "metadata": {},
   "outputs": [],
   "source": [
    "spark = init_spark()"
   ]
  },
  {
   "cell_type": "code",
   "execution_count": 3,
   "metadata": {},
   "outputs": [],
   "source": [
    "player = read_file(\"Player.csv\")\n",
    "player_attributes = read_file(\"Player_Attributes.csv\")"
   ]
  },
  {
   "cell_type": "code",
   "execution_count": 4,
   "metadata": {},
   "outputs": [],
   "source": [
    "player_grouped = player_attributes.groupBy(\"player_api_id\").mean()\n",
    "original_columns = player_attributes.columns"
   ]
  },
  {
   "cell_type": "code",
   "execution_count": null,
   "metadata": {},
   "outputs": [],
   "source": [
    "final_players = player_grouped.join(player,on=\"player_api_id\")\\\n",
    "                .drop(\"player_fifa_api_id\",\"id\",\"birthday\",\"avg(id)\",\"avg(player_fifa_api_id)\"\n",
    "                      ,\"avg(player_api_id)\")"
   ]
  },
  {
   "cell_type": "code",
   "execution_count": null,
   "metadata": {},
   "outputs": [],
   "source": [
    "for col in original_columns:\n",
    "    if col != \"player_api_id\":\n",
    "        final_players = final_players.withColumnRenamed(\"avg(\"+col+\")\",col)"
   ]
  },
  {
   "cell_type": "code",
   "execution_count": null,
   "metadata": {},
   "outputs": [],
   "source": [
    "final_players = final_players.na.drop()"
   ]
  },
  {
   "cell_type": "code",
   "execution_count": null,
   "metadata": {},
   "outputs": [],
   "source": [
    "features = [x for x in final_players.columns if x not in [\"player_name\",\"player_api_id\"]]\n",
    "assembler = VectorAssembler(inputCols = features,outputCol=\"features\")\n",
    "final_data = assembler.transform(final_players)"
   ]
  },
  {
   "cell_type": "code",
   "execution_count": null,
   "metadata": {},
   "outputs": [],
   "source": [
    "kmeans = KMeans(distanceMeasure=\"cosine\").setK(4).setSeed(1)\n",
    "model = kmeans.fit(final_data.select(\"features\"))\n",
    "predictions = model.transform(final_data)\n",
    "# final_players.select([count(when(final_players[c].isNull(), c)).alias(c) for c in final_players.columns]).show()"
   ]
  },
  {
   "cell_type": "code",
   "execution_count": null,
   "metadata": {},
   "outputs": [],
   "source": [
    "# correlation = {}\n",
    "# for col in predictions.columns:\n",
    "#     if col!=\"features\" and col!=\"prediction\":\n",
    "#         c = predictions.select(corr(predictions[col],predictions[\"prediction\"])).collect()[0][0]\n",
    "#         correlation[col] = c"
   ]
  },
  {
   "cell_type": "code",
   "execution_count": null,
   "metadata": {},
   "outputs": [],
   "source": [
    "predictions.filter(predictions[\"prediction\"] == 0).select(\"player_name\",\"prediction\",\"overall_rating\").show()"
   ]
  }
 ],
 "metadata": {
  "kernelspec": {
   "display_name": "Python 3",
   "language": "python",
   "name": "python3"
  },
  "language_info": {
   "codemirror_mode": {
    "name": "ipython",
    "version": 3
   },
   "file_extension": ".py",
   "mimetype": "text/x-python",
   "name": "python",
   "nbconvert_exporter": "python",
   "pygments_lexer": "ipython3",
   "version": "3.6.7"
  }
 },
 "nbformat": 4,
 "nbformat_minor": 2
}
