{
 "cells": [
  {
   "cell_type": "code",
   "execution_count": 449,
   "metadata": {},
   "outputs": [],
   "source": [
    "from ipynb.fs.full.data_extraction import init_spark, read_file\n",
    "from pyspark.sql.functions import count,when,isnan,dayofmonth, month, year,col,udf,struct\n",
    "from pyspark.sql.types import IntegerType,LongType"
   ]
  },
  {
   "cell_type": "code",
   "execution_count": 450,
   "metadata": {},
   "outputs": [],
   "source": [
    "spark = init_spark()"
   ]
  },
  {
   "cell_type": "code",
   "execution_count": 451,
   "metadata": {},
   "outputs": [],
   "source": [
    "match = read_file(\"Match.csv\")\n",
    "player_attributes = read_file(\"Player_Attributes.csv\")"
   ]
  },
  {
   "cell_type": "code",
   "execution_count": 452,
   "metadata": {},
   "outputs": [
    {
     "name": "stdout",
     "output_type": "stream",
     "text": [
      "+-------------+--------------+\n",
      "|player_api_id|overall_rating|\n",
      "+-------------+--------------+\n",
      "|        39890|            64|\n",
      "|        39890|            66|\n",
      "|        39890|            66|\n",
      "|        39890|            68|\n",
      "|        39890|            67|\n",
      "|        39890|            67|\n",
      "|        39890|            66|\n",
      "|        39890|            64|\n",
      "|        39890|            62|\n",
      "|        39890|            62|\n",
      "+-------------+--------------+\n",
      "\n"
     ]
    }
   ],
   "source": [
    "match.filter(match[\"home_player_1\"].isNotNull()).select(\"home_player_1\",\"date\")\n",
    "player_attributes.filter(player_attributes[\"player_api_id\"] == 39890).select(\"player_api_id\",\"overall_rating\").show()"
   ]
  },
  {
   "cell_type": "code",
   "execution_count": 453,
   "metadata": {},
   "outputs": [],
   "source": [
    "# print(match.columns)\n",
    "# match.select(\"home_player_X1\").filter(match[\"home_player_X1\"].isNotNull()).count()\n",
    "required_columns = [\"match_api_id\",\"date\",\"home_team_goal\",\"away_team_goal\",\"home_player_1\", \"home_player_2\", \"home_player_3\", \"home_player_4\", \"home_player_5\",\n",
    "               \"home_player_6\", \"home_player_7\", \"home_player_8\", \"home_player_9\", \"home_player_10\",\n",
    "               \"home_player_11\", \"away_player_1\", \"away_player_2\", \"away_player_3\", \"away_player_4\",\n",
    "               \"away_player_5\", \"away_player_6\", \"away_player_7\", \"away_player_8\", \"away_player_9\",\n",
    "               \"away_player_10\", \"away_player_11\",\"B365H\", \"B365D\", \"B365A\", \"BWH\", \"BWD\", \"BWA\"]\n",
    "\n",
    "match = match.select(required_columns)"
   ]
  },
  {
   "cell_type": "code",
   "execution_count": 454,
   "metadata": {},
   "outputs": [],
   "source": [
    "match = match.na.drop()\n",
    "player_attributes = player_attributes.na.drop()"
   ]
  },
  {
   "cell_type": "code",
   "execution_count": 455,
   "metadata": {},
   "outputs": [],
   "source": [
    "def get_overall_rating(row,match_df_columns):\n",
    "    match_id = row[match_df_columns.index(\"match_api_id\")]\n",
    "    match_date = row[match_df_columns.index(\"date\")]\n",
    "    players = ['home_player_1', 'home_player_2', 'home_player_3', \"home_player_4\", \"home_player_5\",\n",
    "               \"home_player_6\", \"home_player_7\", \"home_player_8\", \"home_player_9\", \"home_player_10\",\n",
    "               \"home_player_11\", \"away_player_1\", \"away_player_2\", \"away_player_3\", \"away_player_4\",\n",
    "               \"away_player_5\", \"away_player_6\", \"away_player_7\", \"away_player_8\", \"away_player_9\",\n",
    "               \"away_player_10\", \"away_player_11\"]\n",
    "    for player in players:\n",
    "        player_id = row[match_df_columns.index(player)]\n",
    "        attributes = player_attributes.filter(player_attributes[\"player_api_id\"] == player_id)\n",
    "        current_attributes = attributes.filter(attributes[\"date\"]<match_date).orderBy(\"date\",ascending=False)\n",
    "        overall_rating = current_attributes.select(\"overall_rating\").collect()\n",
    "        ratings = []\n",
    "        for rating in overall_rating:\n",
    "            ratings.append(rating.overall_rating)\n",
    "        print(ratings)\n",
    "        return sum(ratings)/len(ratings)\n",
    "\n",
    "# overall_rating_udf = udf(get_overall_rating)"
   ]
  },
  {
   "cell_type": "code",
   "execution_count": 456,
   "metadata": {},
   "outputs": [],
   "source": [
    "required_columns = required_columns + [\"overall_rating\",\"player_api_id\"]"
   ]
  },
  {
   "cell_type": "code",
   "execution_count": 457,
   "metadata": {},
   "outputs": [],
   "source": [
    "match_data = match.join(player_attributes, on = \"date\").select(required_columns)"
   ]
  },
  {
   "cell_type": "code",
   "execution_count": 458,
   "metadata": {},
   "outputs": [
    {
     "name": "stdout",
     "output_type": "stream",
     "text": [
      "+-------------------+--------------+-------------+\n",
      "|               date|overall_rating|player_api_id|\n",
      "+-------------------+--------------+-------------+\n",
      "|2009-08-30 00:00:00|            67|        39890|\n",
      "+-------------------+--------------+-------------+\n",
      "\n"
     ]
    }
   ],
   "source": [
    "player_attributes.filter((year(player_attributes[\"date\"]) == 2009) & (month(player_attributes[\"date\"]) == 8) \n",
    "                                                                    & (dayofmonth(player_attributes[\"date\"] ) == 30))\\\n",
    ".filter(player_attributes[\"player_api_id\"] == 39890).select(\"date\",\"overall_rating\",\"player_api_id\").show()"
   ]
  },
  {
   "cell_type": "code",
   "execution_count": 468,
   "metadata": {},
   "outputs": [
    {
     "data": {
      "text/plain": [
       "DataFrame[player_api_id: int, avg(overall_rating): double]"
      ]
     },
     "execution_count": 468,
     "metadata": {},
     "output_type": "execute_result"
    }
   ],
   "source": [
    "match_data.filter((year(match[\"date\"]) == 2009) & (month(match[\"date\"]) == 8) \n",
    "                                                                    & (dayofmonth(match[\"date\"] ) == 30))\\\n",
    ".groupBy([\"date\",\"player_api_id\"]).mean().select(\"player_api_id\",\"avg(overall_rating)\")"
   ]
  },
  {
   "cell_type": "code",
   "execution_count": 490,
   "metadata": {},
   "outputs": [
    {
     "name": "stdout",
     "output_type": "stream",
     "text": [
      "+-------------------+------------------+------------------+\n",
      "|               date|avg(home_player_1)|avg(home_player_2)|\n",
      "+-------------------+------------------+------------------+\n",
      "|2015-03-20 00:00:00|           68813.0|          195335.0|\n",
      "|2015-04-17 00:00:00|          120621.0|          361320.0|\n",
      "|2013-04-26 00:00:00|           32679.0|          112704.0|\n",
      "|2013-12-20 00:00:00|           37579.0|          195335.0|\n",
      "|2015-05-01 00:00:00|          187563.0|          210429.0|\n",
      "|2014-12-19 00:00:00|           73462.0|          243465.0|\n",
      "|2013-05-03 00:00:00|          301804.0|          210423.0|\n",
      "|2013-03-15 00:00:00|           30820.0|           20446.0|\n",
      "|2013-10-04 00:00:00|           41087.0|          116645.0|\n",
      "|2016-02-13 00:00:00|           32562.0|           31701.0|\n",
      "|2015-04-17 00:00:00|          145550.0|          167094.0|\n",
      "|2009-02-22 00:00:00|           27558.0|           27566.0|\n",
      "|2013-03-15 00:00:00|           37780.0|          181227.0|\n",
      "|2008-08-30 00:00:00|           27504.0|           31290.0|\n",
      "|2009-08-30 00:00:00|           25524.0|           36183.0|\n",
      "|2015-03-13 00:00:00|          215168.0|           34114.0|\n",
      "|2013-08-23 00:00:00|          115184.0|          359188.0|\n",
      "|2015-04-10 00:00:00|           26167.0|          210126.0|\n",
      "|2015-01-23 00:00:00|           91929.0|          465750.0|\n",
      "|2015-09-25 00:00:00|          212815.0|          127945.0|\n",
      "+-------------------+------------------+------------------+\n",
      "only showing top 20 rows\n",
      "\n"
     ]
    }
   ],
   "source": []
  }
 ],
 "metadata": {
  "kernelspec": {
   "display_name": "Python 3",
   "language": "python",
   "name": "python3"
  },
  "language_info": {
   "codemirror_mode": {
    "name": "ipython",
    "version": 3
   },
   "file_extension": ".py",
   "mimetype": "text/x-python",
   "name": "python",
   "nbconvert_exporter": "python",
   "pygments_lexer": "ipython3",
   "version": "3.6.7"
  }
 },
 "nbformat": 4,
 "nbformat_minor": 2
}
