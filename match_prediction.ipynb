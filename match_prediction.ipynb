{
 "cells": [
  {
   "cell_type": "code",
   "execution_count": 1,
   "metadata": {},
   "outputs": [
    {
     "name": "stdout",
     "output_type": "stream",
     "text": [
      "DataFrame[match_id: string, home_team_id: int, home_team: string, home_team_goal: int, league_id: int, B365H: double, B365D: double, B365A: double, away_team_id: int, away_team: string, away_team_goal: int, winner: string, country: string]\n"
     ]
    }
   ],
   "source": [
    "from ipynb.fs.full.data_extraction import init_spark,create_leagues,create_matches,read_file\n",
    "from pyspark.ml.classification import LogisticRegression\n",
    "from pyspark.ml.feature import StringIndexer, VectorAssembler\n",
    "from pyspark.sql.functions import corr,when,col"
   ]
  },
  {
   "cell_type": "code",
   "execution_count": 2,
   "metadata": {},
   "outputs": [],
   "source": [
    "spark = init_spark()\n",
    "sc = spark.sparkContext"
   ]
  },
  {
   "cell_type": "code",
   "execution_count": 3,
   "metadata": {},
   "outputs": [],
   "source": [
    "match = read_file(\"Match.csv\")\n",
    "match_with_winner = match.withColumn(\"winner\",when(match[\"home_team_goal\"]<match[\"away_team_goal\"],match[\"away_team_api_id\"]).otherwise(\n",
    "when(match[\"home_team_goal\"]>match[\"away_team_goal\"], match[\"home_team_api_id\"]).otherwise(\"0\")))"
   ]
  },
  {
   "cell_type": "code",
   "execution_count": 4,
   "metadata": {},
   "outputs": [],
   "source": [
    "def string_indexer(dataframe,input_column,output_column):\n",
    "    indexer = StringIndexer(inputCol = input_column,outputCol = output_column)\n",
    "    return indexer.fit(dataframe).transform(dataframe)"
   ]
  },
  {
   "cell_type": "code",
   "execution_count": 5,
   "metadata": {},
   "outputs": [],
   "source": [
    "correlation = {}\n",
    "match_with_winner.cache()\n",
    "for column, column_type in match_with_winner.dtypes:\n",
    "    if column_type == \"string\":\n",
    "        c = match_with_winner.select(corr(match_with_winner[\"winner\"], match_with_winner[column]).alias(\"c\")).collect()\n",
    "        res = sc.parallelize(c).map(lambda x: x.c).collect()[0]\n",
    "        correlation[column] = res\n"
   ]
  },
  {
   "cell_type": "code",
   "execution_count": 6,
   "metadata": {},
   "outputs": [
    {
     "data": {
      "text/plain": [
       "{'season': None,\n",
       " 'goal': None,\n",
       " 'shoton': None,\n",
       " 'shotoff': None,\n",
       " 'foulcommit': None,\n",
       " 'card': None,\n",
       " 'cross': None,\n",
       " 'corner': None,\n",
       " 'possession': None}"
      ]
     },
     "execution_count": 6,
     "metadata": {},
     "output_type": "execute_result"
    }
   ],
   "source": [
    "dict(filter(lambda x: x[1] is None,correlation.items()))"
   ]
  },
  {
   "cell_type": "code",
   "execution_count": 14,
   "metadata": {},
   "outputs": [
    {
     "name": "stdout",
     "output_type": "stream",
     "text": [
      "['coordinates', 'corner', 'corners', 'del', 'elapsed', 'elapsed_plus', 'event_incident_typefk', 'id', 'match_id', 'n', 'player1', 'pos_x', 'pos_y', 'sortorder', 'spectators', 'stats', 'subtype', 'team', 'type', 'value']\n",
      "+--------+---+-------+-----+-----+\n",
      "|match_id|  n|player1|pos_x|pos_y|\n",
      "+--------+---+-------+-----+-----+\n",
      "|    1729|280|  38807| null| null|\n",
      "|    1729|263|  40565| null| null|\n",
      "|    1729|293|  38807| null| null|\n",
      "|    1729|300|  24154| null| null|\n",
      "|    1729|301|  38807| null| null|\n",
      "|    1729|307|  24148| null| null|\n",
      "|    1729|309|  24148| null| null|\n",
      "|    1729|317|  40565| null| null|\n",
      "|    1729|322|  38807| null| null|\n",
      "|    1729|326|  24148| null| null|\n",
      "|    1729|333|  24148| null| null|\n",
      "|    1729|336|  30829| null| null|\n",
      "|    1730|228|  39297| null| null|\n",
      "|    1730|229|  39297| null| null|\n",
      "|    1730|238|  30960| null| null|\n",
      "|    1730|248|  39297| null| null|\n",
      "|    1730|256|  39297| null| null|\n",
      "|    1730|259|  23257| null| null|\n",
      "|    1730|263|  23257| null| null|\n",
      "|    1730|264|  26181| null| null|\n",
      "+--------+---+-------+-----+-----+\n",
      "only showing top 20 rows\n",
      "\n"
     ]
    }
   ],
   "source": [
    "corners = read_file(\"corner_detail.csv\")\n",
    "# corners.select(\"corner\").filter(corners[\"corner\"].isNull() == False).show\n",
    "print(corners.columns)\n",
    "corners.select('match_id', 'n', 'player1', 'pos_x', 'pos_y').show()"
   ]
  }
 ],
 "metadata": {
  "kernelspec": {
   "display_name": "Python 3",
   "language": "python",
   "name": "python3"
  },
  "language_info": {
   "codemirror_mode": {
    "name": "ipython",
    "version": 3
   },
   "file_extension": ".py",
   "mimetype": "text/x-python",
   "name": "python",
   "nbconvert_exporter": "python",
   "pygments_lexer": "ipython3",
   "version": "3.6.7"
  }
 },
 "nbformat": 4,
 "nbformat_minor": 2
}
