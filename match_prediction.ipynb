{
 "cells": [
  {
   "cell_type": "code",
   "execution_count": 43,
   "metadata": {},
   "outputs": [],
   "source": [
    "from ipynb.fs.full.data_extraction import init_spark, read_file\n",
    "from pyspark.sql.functions import count,when,isnan,dayofmonth, month, year,col,udf,struct,lit\n",
    "from pyspark.sql.types import IntegerType,LongType\n",
    "import datetime\n",
    "from pyspark.ml.feature import StringIndexer, VectorAssembler,IndexToString,VectorIndexer\n",
    "from pyspark.ml.classification import LogisticRegression, RandomForestClassifier\n",
    "from pyspark.ml.evaluation import MulticlassClassificationEvaluator\n",
    "from pyspark.ml import Pipeline"
   ]
  },
  {
   "cell_type": "code",
   "execution_count": 2,
   "metadata": {},
   "outputs": [],
   "source": [
    "spark = init_spark()"
   ]
  },
  {
   "cell_type": "code",
   "execution_count": 3,
   "metadata": {},
   "outputs": [],
   "source": [
    "match = read_file(\"Match.csv\")\n",
    "player_attributes = read_file(\"Player_Attributes.csv\")\n",
    "players = read_file(\"Player.csv\")"
   ]
  },
  {
   "cell_type": "code",
   "execution_count": 4,
   "metadata": {},
   "outputs": [
    {
     "name": "stdout",
     "output_type": "stream",
     "text": [
      "+-------------+--------------+\n",
      "|player_api_id|overall_rating|\n",
      "+-------------+--------------+\n",
      "|        39890|            64|\n",
      "|        39890|            66|\n",
      "|        39890|            66|\n",
      "|        39890|            68|\n",
      "|        39890|            67|\n",
      "|        39890|            67|\n",
      "|        39890|            66|\n",
      "|        39890|            64|\n",
      "|        39890|            62|\n",
      "|        39890|            62|\n",
      "+-------------+--------------+\n",
      "\n"
     ]
    }
   ],
   "source": [
    "match.filter(match[\"home_player_1\"].isNotNull()).select(\"home_player_1\",\"date\")\n",
    "player_attributes.filter(player_attributes[\"player_api_id\"] == 39890).select(\"player_api_id\",\"overall_rating\").show()"
   ]
  },
  {
   "cell_type": "code",
   "execution_count": 5,
   "metadata": {},
   "outputs": [],
   "source": [
    "# print(match.columns)\n",
    "# match.select(\"home_player_X1\").filter(match[\"home_player_X1\"].isNotNull()).count()\n",
    "required_columns = [\"match_api_id\",\"home_team_api_id\",\"away_team_api_id\",\"date\",\"home_team_goal\",\"away_team_goal\",\"home_player_1\", \"home_player_2\", \"home_player_3\", \"home_player_4\", \"home_player_5\",\n",
    "               \"home_player_6\", \"home_player_7\", \"home_player_8\", \"home_player_9\", \"home_player_10\",\n",
    "               \"home_player_11\", \"away_player_1\", \"away_player_2\", \"away_player_3\", \"away_player_4\",\n",
    "               \"away_player_5\", \"away_player_6\", \"away_player_7\", \"away_player_8\", \"away_player_9\",\n",
    "               \"away_player_10\", \"away_player_11\",\"B365H\",\"B365D\",\"B365A\",\"BWH\",\"BWD\",\"BWA\"]\n",
    "\n",
    "match = match.select(required_columns)"
   ]
  },
  {
   "cell_type": "code",
   "execution_count": 6,
   "metadata": {},
   "outputs": [],
   "source": [
    "match = match.na.drop()\n",
    "player_attributes = player_attributes.na.drop()"
   ]
  },
  {
   "cell_type": "code",
   "execution_count": 7,
   "metadata": {},
   "outputs": [],
   "source": [
    "def get_overall_rating(row,match_df_columns):\n",
    "    match_id = row[match_df_columns.index(\"match_api_id\")]\n",
    "    match_date = row[match_df_columns.index(\"date\")]\n",
    "    all_players = ['home_player_1', 'home_player_2', 'home_player_3', \"home_player_4\", \"home_player_5\",\n",
    "               \"home_player_6\", \"home_player_7\", \"home_player_8\", \"home_player_9\", \"home_player_10\",\n",
    "               \"home_player_11\", \"away_player_1\", \"away_player_2\", \"away_player_3\", \"away_player_4\",\n",
    "               \"away_player_5\", \"away_player_6\", \"away_player_7\", \"away_player_8\", \"away_player_9\",\n",
    "               \"away_player_10\", \"away_player_11\"]\n",
    "    for player in players:\n",
    "        player_id = row[match_df_columns.index(player)]\n",
    "        attributes = player_attributes.filter(player_attributes[\"player_api_id\"] == player_id)\n",
    "        current_attributes = attributes.filter(attributes[\"date\"]<match_date).orderBy(\"date\",ascending=False)\n",
    "        overall_rating = current_attributes.select(\"overall_rating\").mean()\n",
    "    return overall_rating\n",
    "\n",
    "# overall_rating_udf = udf(get_overall_rating)"
   ]
  },
  {
   "cell_type": "code",
   "execution_count": 8,
   "metadata": {},
   "outputs": [],
   "source": [
    "grouped_rating = player_attributes.groupBy(\"player_api_id\").mean().select(\"player_api_id\",\"avg(overall_rating)\")\\\n",
    ".withColumnRenamed(\"avg(overall_rating)\",\"mean_rating\").orderBy(\"mean_rating\",ascending=False)\n",
    "# player.filter(player[\"player_api_id\"] == 35724).show()"
   ]
  },
  {
   "cell_type": "code",
   "execution_count": 9,
   "metadata": {},
   "outputs": [
    {
     "name": "stdout",
     "output_type": "stream",
     "text": [
      "+-------------+------------------+\n",
      "|player_api_id|       mean_rating|\n",
      "+-------------+------------------+\n",
      "|        38327|63.214285714285715|\n",
      "+-------------+------------------+\n",
      "\n"
     ]
    }
   ],
   "source": [
    "# match_new = match\n",
    "all_players = ['home_player_1', 'home_player_2', 'home_player_3', \"home_player_4\", \"home_player_5\",\n",
    "               \"home_player_6\", \"home_player_7\", \"home_player_8\", \"home_player_9\", \"home_player_10\",\n",
    "               \"home_player_11\", \"away_player_1\", \"away_player_2\", \"away_player_3\", \"away_player_4\",\n",
    "               \"away_player_5\", \"away_player_6\", \"away_player_7\", \"away_player_8\", \"away_player_9\",\n",
    "               \"away_player_10\", \"away_player_11\"]\n",
    "# for player in all_players:\n",
    "#     player_df = match.select(\"match_api_id\",player)\n",
    "#     joined_df = player_df.alias(\"pdf\").join(players.alias(\"p\"), player_df[player] == players[\"player_api_id\"])\\\n",
    "#     .select(\"match_api_id\",player_df[player])\n",
    "#     match_new = match_new.join(joined_df.alias(\"pdf\"), on = \"match_api_id\").drop(joined_df[player])\n",
    "\n",
    "    \n",
    "grouped_rating.filter(grouped_rating[\"player_api_id\"] == 38327).show()"
   ]
  },
  {
   "cell_type": "code",
   "execution_count": 10,
   "metadata": {},
   "outputs": [
    {
     "name": "stdout",
     "output_type": "stream",
     "text": [
      "2019-04-04 17:07:08.473113\n",
      "+------------+-------------+-------------------------+\n",
      "|match_api_id|home_player_1|home_player_1_mean_rating|\n",
      "+------------+-------------+-------------------------+\n",
      "|      493017|        38327|       63.214285714285715|\n",
      "+------------+-------------+-------------------------+\n",
      "only showing top 1 row\n",
      "\n",
      "2019-04-04 17:07:13.252481\n",
      "+------------+-------------+-------------------------+\n",
      "|match_api_id|home_player_2|home_player_2_mean_rating|\n",
      "+------------+-------------+-------------------------+\n",
      "|      489204|        46403|        77.79166666666667|\n",
      "+------------+-------------+-------------------------+\n",
      "only showing top 1 row\n",
      "\n",
      "2019-04-04 17:07:14.315895\n",
      "+------------+-------------+-------------------------+\n",
      "|match_api_id|home_player_3|home_player_3_mean_rating|\n",
      "+------------+-------------+-------------------------+\n",
      "|      489204|        24531|                    78.16|\n",
      "+------------+-------------+-------------------------+\n",
      "only showing top 1 row\n",
      "\n",
      "2019-04-04 17:07:15.355449\n",
      "+------------+-------------+-------------------------+\n",
      "|match_api_id|home_player_4|home_player_4_mean_rating|\n",
      "+------------+-------------+-------------------------+\n",
      "|      489204|        38697|        76.30434782608695|\n",
      "+------------+-------------+-------------------------+\n",
      "only showing top 1 row\n",
      "\n",
      "2019-04-04 17:07:16.583018\n",
      "+------------+-------------+-------------------------+\n",
      "|match_api_id|home_player_5|home_player_5_mean_rating|\n",
      "+------------+-------------+-------------------------+\n",
      "|      489204|        40006|        75.79166666666667|\n",
      "+------------+-------------+-------------------------+\n",
      "only showing top 1 row\n",
      "\n",
      "2019-04-04 17:07:17.788815\n",
      "+------------+-------------+-------------------------+\n",
      "|match_api_id|home_player_6|home_player_6_mean_rating|\n",
      "+------------+-------------+-------------------------+\n",
      "|      489204|        30895|        79.76923076923077|\n",
      "+------------+-------------+-------------------------+\n",
      "only showing top 1 row\n",
      "\n",
      "2019-04-04 17:07:19.128809\n",
      "+------------+-------------+-------------------------+\n",
      "|match_api_id|home_player_7|home_player_7_mean_rating|\n",
      "+------------+-------------+-------------------------+\n",
      "|      489204|        34182|        75.52380952380952|\n",
      "+------------+-------------+-------------------------+\n",
      "only showing top 1 row\n",
      "\n",
      "2019-04-04 17:07:20.677903\n",
      "+------------+-------------+-------------------------+\n",
      "|match_api_id|home_player_8|home_player_8_mean_rating|\n",
      "+------------+-------------+-------------------------+\n",
      "|      489204|        30818|        75.33333333333333|\n",
      "+------------+-------------+-------------------------+\n",
      "only showing top 1 row\n",
      "\n",
      "2019-04-04 17:07:21.980183\n",
      "+------------+-------------+-------------------------+\n",
      "|match_api_id|home_player_9|home_player_9_mean_rating|\n",
      "+------------+-------------+-------------------------+\n",
      "|      489204|        23760|        76.86666666666666|\n",
      "+------------+-------------+-------------------------+\n",
      "only showing top 1 row\n",
      "\n",
      "2019-04-04 17:07:23.483555\n",
      "+------------+--------------+--------------------------+\n",
      "|match_api_id|home_player_10|home_player_10_mean_rating|\n",
      "+------------+--------------+--------------------------+\n",
      "|      489204|         31097|                    83.125|\n",
      "+------------+--------------+--------------------------+\n",
      "only showing top 1 row\n",
      "\n",
      "2019-04-04 17:07:25.305189\n",
      "+------------+--------------+--------------------------+\n",
      "|match_api_id|home_player_11|home_player_11_mean_rating|\n",
      "+------------+--------------+--------------------------+\n",
      "|      489204|         40755|         74.16666666666667|\n",
      "+------------+--------------+--------------------------+\n",
      "only showing top 1 row\n",
      "\n",
      "2019-04-04 17:07:27.345480\n",
      "+------------+-------------+-------------------------+\n",
      "|match_api_id|away_player_1|away_player_1_mean_rating|\n",
      "+------------+-------------+-------------------------+\n",
      "|      489204|        30726|                    84.25|\n",
      "+------------+-------------+-------------------------+\n",
      "only showing top 1 row\n",
      "\n",
      "2019-04-04 17:07:29.231943\n",
      "+------------+-------------+-------------------------+\n",
      "|match_api_id|away_player_2|away_player_2_mean_rating|\n",
      "+------------+-------------+-------------------------+\n",
      "|      489204|        38994|        71.26666666666667|\n",
      "+------------+-------------+-------------------------+\n",
      "only showing top 1 row\n",
      "\n",
      "2019-04-04 17:07:31.331332\n",
      "+------------+-------------+-------------------------+\n",
      "|match_api_id|away_player_3|away_player_3_mean_rating|\n",
      "+------------+-------------+-------------------------+\n",
      "|      489204|        30620|        82.07142857142857|\n",
      "+------------+-------------+-------------------------+\n",
      "only showing top 1 row\n",
      "\n",
      "2019-04-04 17:07:33.984097\n",
      "+------------+-------------+-------------------------+\n",
      "|match_api_id|away_player_4|away_player_4_mean_rating|\n",
      "+------------+-------------+-------------------------+\n",
      "|      489204|        30865|                    85.25|\n",
      "+------------+-------------+-------------------------+\n",
      "only showing top 1 row\n",
      "\n",
      "2019-04-04 17:07:36.994372\n",
      "+------------+-------------+-------------------------+\n",
      "|match_api_id|away_player_5|away_player_5_mean_rating|\n",
      "+------------+-------------+-------------------------+\n",
      "|      489204|        24150|        76.47368421052632|\n",
      "+------------+-------------+-------------------------+\n",
      "only showing top 1 row\n",
      "\n",
      "2019-04-04 17:07:39.004318\n",
      "+------------+-------------+-------------------------+\n",
      "|match_api_id|away_player_6|away_player_6_mean_rating|\n",
      "+------------+-------------+-------------------------+\n",
      "|      489204|        30802|        78.22222222222223|\n",
      "+------------+-------------+-------------------------+\n",
      "only showing top 1 row\n",
      "\n",
      "2019-04-04 17:07:41.423205\n",
      "+------------+-------------+-------------------------+\n",
      "|match_api_id|away_player_7|away_player_7_mean_rating|\n",
      "+------------+-------------+-------------------------+\n",
      "|      489204|        24148|        77.82758620689656|\n",
      "+------------+-------------+-------------------------+\n",
      "only showing top 1 row\n",
      "\n",
      "2019-04-04 17:07:44.095552\n",
      "+------------+-------------+-------------------------+\n",
      "|match_api_id|away_player_8|away_player_8_mean_rating|\n",
      "+------------+-------------+-------------------------+\n",
      "|      489204|        34944|        81.03225806451613|\n",
      "+------------+-------------+-------------------------+\n",
      "only showing top 1 row\n",
      "\n",
      "2019-04-04 17:07:46.608745\n",
      "+------------+-------------+-------------------------+\n",
      "|match_api_id|away_player_9|away_player_9_mean_rating|\n",
      "+------------+-------------+-------------------------+\n",
      "|      489204|        30893|                    91.28|\n",
      "+------------+-------------+-------------------------+\n",
      "only showing top 1 row\n",
      "\n",
      "2019-04-04 17:07:49.121394\n",
      "+------------+--------------+--------------------------+\n",
      "|match_api_id|away_player_10|away_player_10_mean_rating|\n",
      "+------------+--------------+--------------------------+\n",
      "|      489204|         27430|                     82.48|\n",
      "+------------+--------------+--------------------------+\n",
      "only showing top 1 row\n",
      "\n",
      "2019-04-04 17:07:51.659094\n",
      "+------------+--------------+--------------------------+\n",
      "|match_api_id|away_player_11|away_player_11_mean_rating|\n",
      "+------------+--------------+--------------------------+\n",
      "|      489204|         38817|         85.78947368421052|\n",
      "+------------+--------------+--------------------------+\n",
      "only showing top 1 row\n",
      "\n",
      "2019-04-04 17:07:55.103529\n"
     ]
    },
    {
     "data": {
      "text/plain": [
       "DataFrame[match_api_id: int, home_team_api_id: int, away_team_api_id: int, date: timestamp, home_team_goal: int, away_team_goal: int, B365H: double, B365D: double, B365A: double, BWH: double, BWD: double, BWA: double, home_player_1: int, home_player_1_mean_rating: double, home_player_2: int, home_player_2_mean_rating: double, home_player_3: int, home_player_3_mean_rating: double, home_player_4: int, home_player_4_mean_rating: double, home_player_5: int, home_player_5_mean_rating: double, home_player_6: int, home_player_6_mean_rating: double, home_player_7: int, home_player_7_mean_rating: double, home_player_8: int, home_player_8_mean_rating: double, home_player_9: int, home_player_9_mean_rating: double, home_player_10: int, home_player_10_mean_rating: double, home_player_11: int, home_player_11_mean_rating: double, away_player_1: int, away_player_1_mean_rating: double, away_player_2: int, away_player_2_mean_rating: double, away_player_3: int, away_player_3_mean_rating: double, away_player_4: int, away_player_4_mean_rating: double, away_player_5: int, away_player_5_mean_rating: double, away_player_6: int, away_player_6_mean_rating: double, away_player_7: int, away_player_7_mean_rating: double, away_player_8: int, away_player_8_mean_rating: double, away_player_9: int, away_player_9_mean_rating: double, away_player_10: int, away_player_10_mean_rating: double, away_player_11: int, away_player_11_mean_rating: double]"
      ]
     },
     "execution_count": 10,
     "metadata": {},
     "output_type": "execute_result"
    }
   ],
   "source": [
    "# match_new.cache()\n",
    "# grouped_rating.cache()\n",
    "# print(datetime.datetime.now())\n",
    "# for player in all_players:\n",
    "#     player_df = match_new.select(\"match_api_id\",player)\n",
    "#     joined_df = player_df.join(grouped_rating, grouped_rating[\"player_api_id\"] == player_df[player]).drop(\"player_api_id\")\\\n",
    "#     .withColumnRenamed(\"mean_rating\",player+\"_mean_rating\")\n",
    "#     match_new = match_new.join(joined_df, on = \"match_api_id\").drop(joined_df[player])\n",
    "#     match_new.select(\"match_api_id\",player,player+\"_mean_rating\").show(1)\n",
    "#     print(datetime.datetime.now())\n",
    "match_new = match    \n",
    "match.cache()\n",
    "grouped_rating.cache()\n",
    "print(datetime.datetime.now())\n",
    "for player in all_players:\n",
    "    player_df = match.select(\"match_api_id\",player)\n",
    "    joined_df = player_df.join(grouped_rating, player_df[player] == grouped_rating[\"player_api_id\"]).drop(\"player_api_id\")\\\n",
    "    .withColumnRenamed(\"mean_rating\",player+\"_mean_rating\")\n",
    "    match_new = match_new.join(joined_df, on = \"match_api_id\").drop(match_new[player])\n",
    "    match_new.select(\"match_api_id\",player,player+\"_mean_rating\").show(1)\n",
    "    print(datetime.datetime.now())\n",
    "match_new.cache()"
   ]
  },
  {
   "cell_type": "code",
   "execution_count": 11,
   "metadata": {},
   "outputs": [],
   "source": [
    "# goals scored at home\n",
    "home_goals = match_new.select(\"home_team_api_id\",\"home_team_goal\",\"away_team_goal\").groupBy(\"home_team_api_id\").sum()\\\n",
    ".withColumnRenamed(\"sum(home_team_goal)\",\"home_team_home_goals_scored\")\\\n",
    ".withColumnRenamed(\"sum(away_team_goal)\",\"home_team_home_goals_conceded\")\\\n",
    ".withColumnRenamed(\"home_team_api_id\",\"team_id\")\\\n",
    ".select(\"team_id\",\"home_team_home_goals_scored\",\"home_team_home_goals_conceded\")\n",
    "\n",
    "# goals scored away\n",
    "away_goals = match_new.select(\"away_team_api_id\",\"home_team_goal\",\"away_team_goal\").groupBy(\"away_team_api_id\").sum()\\\n",
    ".withColumnRenamed(\"sum(home_team_goal)\",\"away_team_away_goals_conceded\")\\\n",
    ".withColumnRenamed(\"sum(away_team_goal)\",\"away_team_away_goals_scored\")\\\n",
    ".withColumnRenamed(\"away_team_api_id\",\"team_id\")\\\n",
    ".select(\"team_id\",\"away_team_away_goals_conceded\",\"away_team_away_goals_scored\")\n"
   ]
  },
  {
   "cell_type": "code",
   "execution_count": 12,
   "metadata": {},
   "outputs": [
    {
     "data": {
      "text/plain": [
       "DataFrame[match_api_id: int, home_team_api_id: int, away_team_api_id: int, date: timestamp, home_team_goal: int, away_team_goal: int, B365H: double, B365D: double, B365A: double, BWH: double, BWD: double, BWA: double, home_player_1: int, home_player_1_mean_rating: double, home_player_2: int, home_player_2_mean_rating: double, home_player_3: int, home_player_3_mean_rating: double, home_player_4: int, home_player_4_mean_rating: double, home_player_5: int, home_player_5_mean_rating: double, home_player_6: int, home_player_6_mean_rating: double, home_player_7: int, home_player_7_mean_rating: double, home_player_8: int, home_player_8_mean_rating: double, home_player_9: int, home_player_9_mean_rating: double, home_player_10: int, home_player_10_mean_rating: double, home_player_11: int, home_player_11_mean_rating: double, away_player_1: int, away_player_1_mean_rating: double, away_player_2: int, away_player_2_mean_rating: double, away_player_3: int, away_player_3_mean_rating: double, away_player_4: int, away_player_4_mean_rating: double, away_player_5: int, away_player_5_mean_rating: double, away_player_6: int, away_player_6_mean_rating: double, away_player_7: int, away_player_7_mean_rating: double, away_player_8: int, away_player_8_mean_rating: double, away_player_9: int, away_player_9_mean_rating: double, away_player_10: int, away_player_10_mean_rating: double, away_player_11: int, away_player_11_mean_rating: double, home_team_goal_diff: bigint, away_team_goal_diff: bigint]"
      ]
     },
     "execution_count": 12,
     "metadata": {},
     "output_type": "execute_result"
    }
   ],
   "source": [
    "# goal difference\n",
    "goal_difference = home_goals.join(away_goals, on=\"team_id\")\n",
    "goal_difference = goal_difference.withColumn(\"goal_diff\",(goal_difference[\"home_team_home_goals_scored\"]+goal_difference[\"away_team_away_goals_scored\"])\n",
    "                                    - (goal_difference[\"home_team_home_goals_conceded\"]+goal_difference[\"away_team_away_goals_conceded\"]))\\\n",
    ".withColumnRenamed(\"home_team_api_id\",\"team_id\")\n",
    "# home_goals.show()\n",
    "# goal_difference.show()\n",
    "# update home team goal difference to original df\n",
    "match_with_goals_scored = match_new.join(goal_difference, match_new[\"home_team_api_id\"] == goal_difference[\"team_id\"])\\\n",
    ".withColumnRenamed(\"goal_diff\",\"home_team_goal_diff\").drop(\"team_id\",\"home_team_home_goals_scored\",\"home_team_home_goals_conceded\"\n",
    "                                                          ,\"away_team_away_goals_conceded\",\"away_team_away_goals_scored\")\n",
    "# update away team goal difference to original df\n",
    "match_with_goals_scored = match_with_goals_scored.join(goal_difference, match_with_goals_scored[\"away_team_api_id\"] == goal_difference[\"team_id\"])\\\n",
    ".withColumnRenamed(\"goal_diff\",\"away_team_goal_diff\").drop(\"team_id\",\"home_team_home_goals_scored\",\"home_team_home_goals_conceded\"\n",
    "                                                          ,\"away_team_away_goals_conceded\",\"away_team_away_goals_scored\")\n",
    "# match_with_goals_scored.select(\"match_api_id\",\"home_team_api_id\",\"away_team_api_id\",\"home_team_goal_diff\",\"away_team_goal_diff\").show()\n",
    "match_with_goals_scored.cache()"
   ]
  },
  {
   "cell_type": "code",
   "execution_count": 13,
   "metadata": {},
   "outputs": [],
   "source": [
    "# condition =.withColumn(\"home_result\",\n",
    "#                     when(match_new[\"home_team_goal\"]>match_new[\"away_team_goal\"],\"win\").otherwise(\n",
    "#                         when(match_new[\"home_team_goal\"]<match_new[\"away_team_goal\"],\"lost\").otherwise(\"draw\")))\n",
    "\n",
    "# get home team results - win, loss or draw\n",
    "home_results = match_new.select(\"home_team_api_id\",\"home_team_goal\",\"away_team_goal\").withColumnRenamed(\"home_team_api_id\",\"team_id\")\\\n",
    ".withColumn(\"home_result\",\n",
    "                    when(match_new[\"home_team_goal\"]>match_new[\"away_team_goal\"],\"win\").otherwise(\n",
    "                        when(match_new[\"home_team_goal\"]<match_new[\"away_team_goal\"],\"lost\").otherwise(\"draw\")))\n",
    "\n",
    "# get away team results - win, loss or draw\n",
    "away_results = match_new.select(\"away_team_api_id\",\"home_team_goal\",\"away_team_goal\").withColumnRenamed(\"away_team_api_id\",\"team_id\")\\\n",
    ".withColumn(\"away_result\",\n",
    "                    when(match_new[\"home_team_goal\"]>match_new[\"away_team_goal\"],\"lost\").otherwise(\n",
    "                        when(match_new[\"home_team_goal\"]<match_new[\"away_team_goal\"],\"win\").otherwise(\"draw\")))\n",
    "\n",
    "# # home_wins.groupBy(\"team_id\",\"home_result\").count()\\\n",
    "# # .filter((home_wins[\"home_result\"] == \"win\") | (home_wins[\"home_result\"] == \"lost\"))\\\n",
    "# # .filter(home_wins[\"team_id\"] == 9987).show()\n",
    "# #\n",
    "# team_results = home_results.join(away_results,on=\"team_id\")"
   ]
  },
  {
   "cell_type": "code",
   "execution_count": 14,
   "metadata": {},
   "outputs": [
    {
     "data": {
      "text/plain": [
       "DataFrame[match_api_id: int, home_team_api_id: int, away_team_api_id: int, date: timestamp, home_team_goal: int, away_team_goal: int, B365H: double, B365D: double, B365A: double, BWH: double, BWD: double, BWA: double, home_player_1: int, home_player_1_mean_rating: double, home_player_2: int, home_player_2_mean_rating: double, home_player_3: int, home_player_3_mean_rating: double, home_player_4: int, home_player_4_mean_rating: double, home_player_5: int, home_player_5_mean_rating: double, home_player_6: int, home_player_6_mean_rating: double, home_player_7: int, home_player_7_mean_rating: double, home_player_8: int, home_player_8_mean_rating: double, home_player_9: int, home_player_9_mean_rating: double, home_player_10: int, home_player_10_mean_rating: double, home_player_11: int, home_player_11_mean_rating: double, away_player_1: int, away_player_1_mean_rating: double, away_player_2: int, away_player_2_mean_rating: double, away_player_3: int, away_player_3_mean_rating: double, away_player_4: int, away_player_4_mean_rating: double, away_player_5: int, away_player_5_mean_rating: double, away_player_6: int, away_player_6_mean_rating: double, away_player_7: int, away_player_7_mean_rating: double, away_player_8: int, away_player_8_mean_rating: double, away_player_9: int, away_player_9_mean_rating: double, away_player_10: int, away_player_10_mean_rating: double, away_player_11: int, away_player_11_mean_rating: double, home_team_goal_diff: bigint, away_team_goal_diff: bigint, home_team_wins: bigint, away_team_wins: bigint]"
      ]
     },
     "execution_count": 14,
     "metadata": {},
     "output_type": "execute_result"
    }
   ],
   "source": [
    "# get number of home wins\n",
    "home_wins = home_results.select(\"team_id\",\"home_result\")\n",
    "home_wins = home_wins.filter(home_wins[\"home_result\"] == \"win\").groupBy(\"team_id\").count().withColumnRenamed(\"count\",\"home_wins\")\n",
    "# get number of away wins\n",
    "away_wins = away_results.select(\"team_id\",\"away_result\")\n",
    "away_wins = away_wins.filter(away_wins[\"away_result\"] == \"win\").groupBy(\"team_id\").count().withColumnRenamed(\"count\",\"away_wins\")\n",
    "\n",
    "# calculate total wins of team\n",
    "total_wins = home_wins.join(away_wins,on=\"team_id\")\n",
    "total_wins = total_wins.withColumn(\"wins\", total_wins[\"home_wins\"]+ total_wins[\"away_wins\"])\n",
    "\n",
    "# update home team wins to original match df\n",
    "match_with_wins = match_with_goals_scored.join(total_wins, match_with_goals_scored[\"home_team_api_id\"] == total_wins[\"team_id\"])\\\n",
    ".drop(\"team_id\",\"home_wins\",\"away_wins\").withColumnRenamed(\"wins\",\"home_team_wins\")\n",
    "\n",
    "# update away team wins to original match df\n",
    "match_with_wins = match_with_wins.join(total_wins, match_with_wins[\"away_team_api_id\"] == total_wins[\"team_id\"])\\\n",
    ".drop(\"team_id\",\"home_wins\",\"away_wins\").withColumnRenamed(\"wins\",\"away_team_wins\")\n",
    "match_with_wins.cache()"
   ]
  },
  {
   "cell_type": "code",
   "execution_count": 15,
   "metadata": {},
   "outputs": [
    {
     "data": {
      "text/plain": [
       "DataFrame[match_api_id: int, home_team_api_id: int, away_team_api_id: int, date: timestamp, home_team_goal: int, away_team_goal: int, B365H: double, B365D: double, B365A: double, BWH: double, BWD: double, BWA: double, home_player_1: int, home_player_1_mean_rating: double, home_player_2: int, home_player_2_mean_rating: double, home_player_3: int, home_player_3_mean_rating: double, home_player_4: int, home_player_4_mean_rating: double, home_player_5: int, home_player_5_mean_rating: double, home_player_6: int, home_player_6_mean_rating: double, home_player_7: int, home_player_7_mean_rating: double, home_player_8: int, home_player_8_mean_rating: double, home_player_9: int, home_player_9_mean_rating: double, home_player_10: int, home_player_10_mean_rating: double, home_player_11: int, home_player_11_mean_rating: double, away_player_1: int, away_player_1_mean_rating: double, away_player_2: int, away_player_2_mean_rating: double, away_player_3: int, away_player_3_mean_rating: double, away_player_4: int, away_player_4_mean_rating: double, away_player_5: int, away_player_5_mean_rating: double, away_player_6: int, away_player_6_mean_rating: double, away_player_7: int, away_player_7_mean_rating: double, away_player_8: int, away_player_8_mean_rating: double, away_player_9: int, away_player_9_mean_rating: double, away_player_10: int, away_player_10_mean_rating: double, away_player_11: int, away_player_11_mean_rating: double, home_team_goal_diff: bigint, away_team_goal_diff: bigint, home_team_wins: bigint, away_team_wins: bigint, match_label: string]"
      ]
     },
     "execution_count": 15,
     "metadata": {},
     "output_type": "execute_result"
    }
   ],
   "source": [
    "match_with_label = match_with_wins.withColumn(\"match_label\", when(match_with_wins[\"home_team_goal\"]> match_with_wins[\"away_team_goal\"],\"win\")\n",
    "                                             .otherwise(when(match_with_wins[\"home_team_goal\"]<match_with_wins[\"away_team_goal\"],\"loss\").otherwise(\"draw\"))\n",
    "                                             )\n",
    "match_with_label.cache()"
   ]
  },
  {
   "cell_type": "code",
   "execution_count": 16,
   "metadata": {},
   "outputs": [],
   "source": [
    "book_keeper = [\"B365H\",\"B365D\",\"B365A\",\"BWH\",\"BWD\",\"BWA\"]\n",
    "match_with_probs = match_with_label\n",
    "for bk in book_keeper:\n",
    "    match_with_probs = match_with_probs.withColumn(bk, 1/match_with_probs[bk])\n"
   ]
  },
  {
   "cell_type": "code",
   "execution_count": 41,
   "metadata": {},
   "outputs": [
    {
     "data": {
      "text/plain": [
       "DataFrame[features: vector, label: double]"
      ]
     },
     "execution_count": 41,
     "metadata": {},
     "output_type": "execute_result"
    }
   ],
   "source": [
    "match_data = match_with_probs\n",
    "indexer = StringIndexer(inputCol=\"match_label\",outputCol= \"label\")\n",
    "match_data = indexer.fit(match_data).transform(match_data)\n",
    "match_data.columns\n",
    "\n",
    "features = [x for x in match_data.columns if x not in [\"date\",\"label\",\"match_label\",\"match_api_id\"\n",
    "                                                       ,\"home_team_api_id\",\"away_team_api_id\"]+book_keeper]\n",
    "\n",
    "assembler = VectorAssembler(inputCols = features, outputCol = \"features\")\n",
    "match_data = assembler.transform(match_data)\n",
    "final_data = match_data.select(\"features\",\"label\")\n",
    "train,test = final_data.randomSplit([0.7,0.3])\n",
    "train.cache()\n",
    "test.cache()"
   ]
  },
  {
   "cell_type": "code",
   "execution_count": 38,
   "metadata": {},
   "outputs": [
    {
     "data": {
      "text/plain": [
       "0.7859793433095731"
      ]
     },
     "execution_count": 38,
     "metadata": {},
     "output_type": "execute_result"
    }
   ],
   "source": [
    "# logistic regression\n",
    "lr = LogisticRegression(maxIter=7, regParam=0.1, elasticNetParam=0.8,family=\"multinomial\")\n",
    "model = lr.fit(train)\n",
    "result = model.evaluate(test)\n",
    "multi_class = MulticlassClassificationEvaluator()\n",
    "multi_class.evaluate(result.predictions)"
   ]
  },
  {
   "cell_type": "code",
   "execution_count": 61,
   "metadata": {},
   "outputs": [
    {
     "name": "stdout",
     "output_type": "stream",
     "text": [
      "Vector assembler done 2019-04-04 17:53:29.939010\n",
      "Feature indexer done 2019-04-04 17:53:32.633763\n",
      "label converter done 2019-04-04 17:53:32.727052\n",
      "model fit 2019-04-04 17:54:10.016257\n",
      "+------------+--------------+-----+--------------------+\n",
      "|match_api_id|predictedLabel|label|            features|\n",
      "+------------+--------------+-----+--------------------+\n",
      "|      653930|          draw|  2.0|[1.0,1.0,26523.0,...|\n",
      "|      654241|          draw|  2.0|[0.0,0.0,26343.0,...|\n",
      "|      654476|          draw|  2.0|[1.0,1.0,26126.0,...|\n",
      "|      829967|          loss|  1.0|[1.0,3.0,30742.0,...|\n",
      "|      830080|          loss|  1.0|[0.0,1.0,26117.0,...|\n",
      "+------------+--------------+-----+--------------------+\n",
      "only showing top 5 rows\n",
      "\n",
      "0.8376451415766959\n"
     ]
    }
   ],
   "source": [
    "# random forest\n",
    "match_data = match_with_probs\n",
    "labelIndexer = StringIndexer(inputCol=\"match_label\", outputCol=\"label\").fit(match_data)\n",
    "features = [x for x in match_data.columns if x not in [\"date\",\"label\",\"match_label\",\"match_api_id\"\n",
    "                                                       ,\"home_team_api_id\",\"away_team_api_id\"]+book_keeper]\n",
    "\n",
    "assembler = VectorAssembler(inputCols = features, outputCol = \"features\")\n",
    "print(\"Vector assembler done \"+str(datetime.datetime.now()))\n",
    "match_data = assembler.transform(match_data)\n",
    "featureIndexer = VectorIndexer(inputCol=\"features\", outputCol=\"indexedFeatures\", maxCategories=4).fit(match_data)\n",
    "print(\"Feature indexer done \"+str(datetime.datetime.now()))\n",
    "final_data = match_data.select(\"match_api_id\",\"features\",\"label\",\"match_label\")\n",
    "(trainingData, testData) = final_data.randomSplit([0.7, 0.3])\n",
    "rf = RandomForestClassifier(labelCol=\"label\", featuresCol=\"indexedFeatures\", numTrees=100)\n",
    "labelConverter = IndexToString(inputCol=\"prediction\", outputCol=\"predictedLabel\",labels=labelIndexer.labels)\n",
    "print(\"label converter done \"+str(datetime.datetime.now()))\n",
    "pipeline = Pipeline(stages=[labelIndexer, featureIndexer, rf, labelConverter])\n",
    "model = pipeline.fit(trainingData)\n",
    "print(\"model fit \"+str(datetime.datetime.now()))\n",
    "predictions = model.transform(testData)\n",
    "# predictions.columns\n",
    "predictions.select(\"match_api_id\",\"predictedLabel\", \"label\", \"features\").filter(predictions[\"matc\"])\n",
    "evaluator = MulticlassClassificationEvaluator(\n",
    "    labelCol=\"label\", predictionCol=\"prediction\", metricName=\"accuracy\")\n",
    "accuracy = evaluator.evaluate(predictions)\n",
    "print(accuracy)"
   ]
  }
 ],
 "metadata": {
  "kernelspec": {
   "display_name": "Python 3",
   "language": "python",
   "name": "python3"
  },
  "language_info": {
   "codemirror_mode": {
    "name": "ipython",
    "version": 3
   },
   "file_extension": ".py",
   "mimetype": "text/x-python",
   "name": "python",
   "nbconvert_exporter": "python",
   "pygments_lexer": "ipython3",
   "version": "3.6.7"
  }
 },
 "nbformat": 4,
 "nbformat_minor": 2
}
