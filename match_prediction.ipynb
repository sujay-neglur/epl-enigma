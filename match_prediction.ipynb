{
 "cells": [
  {
   "cell_type": "code",
   "execution_count": 1,
   "metadata": {},
   "outputs": [
    {
     "name": "stdout",
     "output_type": "stream",
     "text": [
      "DataFrame[match_id: string, home_team_id: int, home_team: string, home_team_goal: int, league_id: int, B365H: double, B365D: double, B365A: double, away_team_id: int, away_team: string, away_team_goal: int, winner: string, country: string]\n"
     ]
    }
   ],
   "source": [
    "from ipynb.fs.full.data_extraction import init_spark, read_file\n",
    "from pyspark.sql.functions import count,when,isnan,dayofmonth, month, year,col,udf,struct,lit\n",
    "from pyspark.sql.types import IntegerType,LongType\n",
    "from datetime import datetime\n",
    "from pyspark.ml.feature import StringIndexer, VectorAssembler,IndexToString,VectorIndexer,MinMaxScaler\n",
    "from pyspark.ml.classification import (LogisticRegression, RandomForestClassifier, DecisionTreeClassifier,\n",
    "                                        MultilayerPerceptronClassifier,NaiveBayes)\n",
    "from pyspark.ml.evaluation import MulticlassClassificationEvaluator\n",
    "from pyspark.ml import Pipeline"
   ]
  },
  {
   "cell_type": "code",
   "execution_count": 2,
   "metadata": {},
   "outputs": [],
   "source": [
    "spark = init_spark()"
   ]
  },
  {
   "cell_type": "code",
   "execution_count": 3,
   "metadata": {},
   "outputs": [],
   "source": [
    "def prepare_data():\n",
    "    start = datetime.now()\n",
    "    match = read_file(\"Match.csv\")\n",
    "    player_attributes = read_file(\"Player_Attributes.csv\")\n",
    "    players = read_file(\"Player.csv\")\n",
    "    required_columns = [\"match_api_id\",\"home_team_api_id\",\"away_team_api_id\",\"date\",\"home_team_goal\",\"away_team_goal\",\"home_player_1\", \"home_player_2\", \"home_player_3\", \"home_player_4\", \"home_player_5\",\n",
    "               \"home_player_6\", \"home_player_7\", \"home_player_8\", \"home_player_9\", \"home_player_10\",\n",
    "               \"home_player_11\", \"away_player_1\", \"away_player_2\", \"away_player_3\", \"away_player_4\",\n",
    "               \"away_player_5\", \"away_player_6\", \"away_player_7\", \"away_player_8\", \"away_player_9\",\n",
    "               \"away_player_10\", \"away_player_11\",\"B365H\", \"B365D\", \"B365A\", \"BWH\", \"BWD\", \"BWA\", \"IWH\", \n",
    "                \"IWD\", \"IWA\", \"LBH\", \"LBD\", \"LBA\", \"PSH\", \"PSD\", \"PSA\", \"WHH\", \"WHD\", \"WHA\", \"SJH\", \"SJD\", \n",
    "                \"SJA\", \"VCH\", \"VCD\", \"VCA\", \"GBH\", \"GBD\", \"GBA\", \"BSH\", \"BSD\", \"BSA\"]\n",
    "    match = match.select(required_columns)\n",
    "    match = match.na.drop()\n",
    "    player_attributes = player_attributes.na.drop()\n",
    "    end = datetime.now()\n",
    "    print(\"Generated matches and player attributes in \"+str((end-start).total_seconds())+\" secs\")\n",
    "    return match,player_attributes"
   ]
  },
  {
   "cell_type": "code",
   "execution_count": 4,
   "metadata": {},
   "outputs": [],
   "source": [
    "def group_ratings_by_mean(player_attributes):\n",
    "    start = datetime.now()\n",
    "    grouped_rating = player_attributes.groupBy(\"player_api_id\").mean().select(\"player_api_id\",\"avg(overall_rating)\")\\\n",
    "    .withColumnRenamed(\"avg(overall_rating)\",\"mean_rating\").orderBy(\"mean_rating\",ascending=False)\n",
    "    end = datetime.now()\n",
    "    print(\"Grouped ratings in \"+str((end-start).total_seconds())+\" secs\")\n",
    "    return grouped_rating"
   ]
  },
  {
   "cell_type": "code",
   "execution_count": 5,
   "metadata": {},
   "outputs": [],
   "source": [
    "def merge_ratings_with_matches(match,grouped_rating):\n",
    "    start = datetime.now()\n",
    "    all_players = ['home_player_1', 'home_player_2', 'home_player_3', \"home_player_4\", \"home_player_5\",\n",
    "               \"home_player_6\", \"home_player_7\", \"home_player_8\", \"home_player_9\", \"home_player_10\",\n",
    "               \"home_player_11\", \"away_player_1\", \"away_player_2\", \"away_player_3\", \"away_player_4\",\n",
    "               \"away_player_5\", \"away_player_6\", \"away_player_7\", \"away_player_8\", \"away_player_9\",\n",
    "               \"away_player_10\", \"away_player_11\"]\n",
    "    match_new = match    \n",
    "    match.cache()\n",
    "    grouped_rating.cache()\n",
    "    for player in all_players:\n",
    "        player_df = match.select(\"match_api_id\",player)\n",
    "        joined_df = player_df.join(grouped_rating, player_df[player] == grouped_rating[\"player_api_id\"]).drop(\"player_api_id\")\\\n",
    "        .withColumnRenamed(\"mean_rating\",player+\"_mean_rating\")\n",
    "        match_new = match_new.join(joined_df, on = \"match_api_id\").drop(match_new[player])\n",
    "#         match_new.select(\"match_api_id\",player,player+\"_mean_rating\").show(1)\n",
    "    match_new.cache()\n",
    "    end = datetime.now()\n",
    "    print(\"Added ratings to matches in \"+str((end-start).total_seconds())+\" secs\")\n",
    "    return match_new"
   ]
  },
  {
   "cell_type": "code",
   "execution_count": 6,
   "metadata": {},
   "outputs": [],
   "source": [
    "def get_goals(match_new,home=True):\n",
    "    start = datetime.now()\n",
    "    if home:\n",
    "        # goals scored at home\n",
    "        home_goals = match_new.select(\"home_team_api_id\",\"home_team_goal\",\"away_team_goal\").groupBy(\"home_team_api_id\").sum()\\\n",
    "        .withColumnRenamed(\"sum(home_team_goal)\",\"home_team_home_goals_scored\")\\\n",
    "        .withColumnRenamed(\"sum(away_team_goal)\",\"home_team_home_goals_conceded\")\\\n",
    "        .withColumnRenamed(\"home_team_api_id\",\"team_id\")\\\n",
    "        .select(\"team_id\",\"home_team_home_goals_scored\",\"home_team_home_goals_conceded\")\n",
    "        end = datetime.now()\n",
    "        print(\"Got home goals in \"+str((end-start).total_seconds())+\" secs\")\n",
    "        return home_goals\n",
    "    else:\n",
    "        # goals scored away\n",
    "        away_goals = match_new.select(\"away_team_api_id\",\"home_team_goal\",\"away_team_goal\").groupBy(\"away_team_api_id\").sum()\\\n",
    "        .withColumnRenamed(\"sum(home_team_goal)\",\"away_team_away_goals_conceded\")\\\n",
    "        .withColumnRenamed(\"sum(away_team_goal)\",\"away_team_away_goals_scored\")\\\n",
    "        .withColumnRenamed(\"away_team_api_id\",\"team_id\")\\\n",
    "        .select(\"team_id\",\"away_team_away_goals_conceded\",\"away_team_away_goals_scored\")\n",
    "        end = datetime.now()\n",
    "        print(\"Got away goals in \"+str((end-start).total_seconds())+\" secs\")\n",
    "        return away_goals\n"
   ]
  },
  {
   "cell_type": "code",
   "execution_count": 7,
   "metadata": {},
   "outputs": [],
   "source": [
    "def get_goal_difference(home_goals,away_goals,match_new):\n",
    "    start = datetime.now()\n",
    "    # goal difference\n",
    "    goal_difference = home_goals.join(away_goals, on=\"team_id\")\n",
    "    goal_difference = goal_difference.withColumn(\"goal_diff\",(goal_difference[\"home_team_home_goals_scored\"]+goal_difference[\"away_team_away_goals_scored\"])\n",
    "                                    - (goal_difference[\"home_team_home_goals_conceded\"]+goal_difference[\"away_team_away_goals_conceded\"]))\\\n",
    "                        .withColumnRenamed(\"home_team_api_id\",\"team_id\")\n",
    "    # update home team goal difference to original df\n",
    "    match_with_goals_scored = match_new.join(goal_difference, match_new[\"home_team_api_id\"] == goal_difference[\"team_id\"])\\\n",
    "                                .withColumnRenamed(\"goal_diff\",\"home_team_goal_diff\").drop(\"team_id\",\"home_team_home_goals_scored\",\"home_team_home_goals_conceded\"\n",
    "                                                          ,\"away_team_away_goals_conceded\",\"away_team_away_goals_scored\")\n",
    "    # update away team goal difference to original df\n",
    "    match_with_goals_scored = match_with_goals_scored.join(goal_difference, match_with_goals_scored[\"away_team_api_id\"] == goal_difference[\"team_id\"])\\\n",
    "                                .withColumnRenamed(\"goal_diff\",\"away_team_goal_diff\").drop(\"team_id\",\"home_team_home_goals_scored\",\"home_team_home_goals_conceded\"\n",
    "                                                          ,\"away_team_away_goals_conceded\",\"away_team_away_goals_scored\")\n",
    "    match_with_goals_scored.cache()\n",
    "    end = datetime.now()\n",
    "    print(\"Got goal difference in \"+str((end-start).total_seconds())+\" secs\")\n",
    "    return match_with_goals_scored"
   ]
  },
  {
   "cell_type": "code",
   "execution_count": 8,
   "metadata": {},
   "outputs": [],
   "source": [
    "def get_results(match_new):\n",
    "    start = datetime.now()\n",
    "    home_results = match_new.select(\"home_team_api_id\",\"home_team_goal\",\"away_team_goal\").withColumnRenamed(\"home_team_api_id\",\"team_id\")\\\n",
    "        .withColumn(\"home_result\",\n",
    "                    when(match_new[\"home_team_goal\"]>match_new[\"away_team_goal\"],\"win\").otherwise(\n",
    "                        when(match_new[\"home_team_goal\"]<match_new[\"away_team_goal\"],\"lost\").otherwise(\"draw\")))\n",
    "    # get away team results - win, loss or draw\n",
    "    away_results = match_new.select(\"away_team_api_id\",\"home_team_goal\",\"away_team_goal\").withColumnRenamed(\"away_team_api_id\",\"team_id\")\\\n",
    "    .withColumn(\"away_result\",\n",
    "                    when(match_new[\"home_team_goal\"]>match_new[\"away_team_goal\"],\"lost\").otherwise(\n",
    "                        when(match_new[\"home_team_goal\"]<match_new[\"away_team_goal\"],\"win\").otherwise(\"draw\")))\n",
    "    end = datetime.now()\n",
    "    print(\"Got match results in \"+str((end-start).total_seconds())+\" secs\")\n",
    "    return home_results,away_results\n",
    "\n",
    "# # home_wins.groupBy(\"team_id\",\"home_result\").count()\\\n",
    "# # .filter((home_wins[\"home_result\"] == \"win\") | (home_wins[\"home_result\"] == \"lost\"))\\\n",
    "# # .filter(home_wins[\"team_id\"] == 9987).show()\n",
    "# #\n",
    "# team_results = home_results.join(away_results,on=\"team_id\")"
   ]
  },
  {
   "cell_type": "code",
   "execution_count": 9,
   "metadata": {},
   "outputs": [],
   "source": [
    "def get_wins(home_results,away_results,match_with_goals_scored):\n",
    "    start = datetime.now()\n",
    "    # get number of home wins\n",
    "    home_wins = home_results.select(\"team_id\",\"home_result\")\n",
    "    home_wins = home_wins.filter(home_wins[\"home_result\"] == \"win\").groupBy(\"team_id\").count().withColumnRenamed(\"count\",\"home_wins\")\n",
    "    # get number of away wins\n",
    "    away_wins = away_results.select(\"team_id\",\"away_result\")\n",
    "    away_wins = away_wins.filter(away_wins[\"away_result\"] == \"win\").groupBy(\"team_id\").count().withColumnRenamed(\"count\",\"away_wins\")\n",
    "    # calculate total wins of team\n",
    "    total_wins = home_wins.join(away_wins,on=\"team_id\")\n",
    "    total_wins = total_wins.withColumn(\"wins\", total_wins[\"home_wins\"]+ total_wins[\"away_wins\"])\n",
    "    # update home team wins to original match df\n",
    "    match_with_wins = match_with_goals_scored.join(total_wins, match_with_goals_scored[\"home_team_api_id\"] == total_wins[\"team_id\"])\\\n",
    "    .drop(\"team_id\",\"home_wins\",\"away_wins\").withColumnRenamed(\"wins\",\"home_team_wins\")\n",
    "    # update away team wins to original match df\n",
    "    match_with_wins = match_with_wins.join(total_wins, match_with_wins[\"away_team_api_id\"] == total_wins[\"team_id\"])\\\n",
    "    .drop(\"team_id\",\"home_wins\",\"away_wins\").withColumnRenamed(\"wins\",\"away_team_wins\")\n",
    "    match_with_wins.cache()\n",
    "    end = datetime.now()\n",
    "    print(\"Got wins in \"+str((end-start).total_seconds())+\" secs\")\n",
    "    return match_with_wins"
   ]
  },
  {
   "cell_type": "code",
   "execution_count": 10,
   "metadata": {},
   "outputs": [],
   "source": [
    "def get_match_label(match_with_wins):\n",
    "    start = datetime.now()\n",
    "    match_with_label = match_with_wins.withColumn(\"match_label\", when(match_with_wins[\"home_team_goal\"]> match_with_wins[\"away_team_goal\"],\"win\")\n",
    "                                             .otherwise(when(match_with_wins[\"home_team_goal\"]<match_with_wins[\"away_team_goal\"],\"loss\").otherwise(\"draw\"))                                         )\n",
    "    match_with_label.cache()\n",
    "    end = datetime.now()\n",
    "    print(\"Got match labels in \"+str((end-start).total_seconds())+\" secs\")\n",
    "    return match_with_label"
   ]
  },
  {
   "cell_type": "code",
   "execution_count": 11,
   "metadata": {},
   "outputs": [],
   "source": [
    "def betting_probabilities(match_with_label,book_keeper):\n",
    "    start = datetime.now()\n",
    "    match_with_probs = match_with_label\n",
    "    for bk in book_keeper:\n",
    "        match_with_probs = match_with_probs.withColumn(bk, 1/match_with_probs[bk])\n",
    "    end = datetime.now()\n",
    "    print(\"Got betting probabilities in \"+str((end-start).total_seconds())+\" secs\")\n",
    "    return match_with_probs\n"
   ]
  },
  {
   "cell_type": "code",
   "execution_count": 21,
   "metadata": {},
   "outputs": [],
   "source": [
    "def get_train_test_data(match_with_probs,train_ratio,test_ratio,book_keeper):\n",
    "    start = datetime.now()\n",
    "    match_data = match_with_probs\n",
    "    indexer = StringIndexer(inputCol=\"match_label\",outputCol= \"label\")\n",
    "    match_data = indexer.fit(match_data).transform(match_data)\n",
    "    features = [x for x in match_data.columns if x not in [\"home_team_goal\",\"away_team_goal\",\"date\",\"label\",\"match_label\",\"match_api_id\"\n",
    "                                                       ,\"home_team_api_id\",\"away_team_api_id\"]]\n",
    "#     print(features)\n",
    "    assembler = VectorAssembler(inputCols = features, outputCol = \"features\")\n",
    "    match_data = assembler.transform(match_data)\n",
    "    final_data = match_data.select(\"features\",\"label\")\n",
    "    train,test = final_data.randomSplit([train_ratio,test_ratio],seed=1234)\n",
    "    train.cache()\n",
    "    test.cache()\n",
    "    end = datetime.now()\n",
    "    print(\"Generated training and testing data in \"+str((end-start).total_seconds())+\" secs\")\n",
    "    return train,test"
   ]
  },
  {
   "cell_type": "code",
   "execution_count": 13,
   "metadata": {},
   "outputs": [
    {
     "name": "stdout",
     "output_type": "stream",
     "text": [
      "Generated matches and player attributes in 2.439833 secs\n",
      "Grouped ratings in 0.082509 secs\n",
      "Added ratings to matches in 1.990269 secs\n",
      "Got home goals in 0.037837 secs\n",
      "Got away goals in 0.035738 secs\n",
      "Got goal difference in 0.363362 secs\n",
      "Got match results in 0.092652 secs\n",
      "Got wins in 0.5965 secs\n",
      "Got match labels in 0.08315 secs\n",
      "Got betting probabilities in 1.072913 secs\n"
     ]
    }
   ],
   "source": [
    "match,player_attributes = prepare_data()\n",
    "grouped_rating = group_ratings_by_mean(player_attributes)\n",
    "match_new = merge_ratings_with_matches(match,grouped_rating)\n",
    "home_goals = get_goals(match_new,True)\n",
    "away_goals = get_goals(match_new,False)\n",
    "match_with_goals_scored = get_goal_difference(home_goals,away_goals,match_new)\n",
    "home_results,away_results = get_results(match_new)\n",
    "match_with_wins = get_wins(home_results,away_results,match_with_goals_scored)\n",
    "match_with_label = get_match_label(match_with_wins)\n",
    "book_keeper = [\"B365H\", \"B365D\", \"B365A\", \"BWH\", \"BWD\", \"BWA\", \"IWH\", \n",
    "                \"IWD\", \"IWA\", \"LBH\", \"LBD\", \"LBA\", \"PSH\", \"PSD\", \"PSA\", \"WHH\", \"WHD\", \"WHA\", \"SJH\", \"SJD\", \n",
    "                \"SJA\", \"VCH\", \"VCD\", \"VCA\", \"GBH\", \"GBD\", \"GBA\", \"BSH\", \"BSD\", \"BSA\"]\n",
    "match_with_probs = betting_probabilities(match_with_label,book_keeper)\n"
   ]
  },
  {
   "cell_type": "code",
   "execution_count": 19,
   "metadata": {},
   "outputs": [
    {
     "name": "stdout",
     "output_type": "stream",
     "text": [
      "Generated training and testing data in 2.585834 secs\n"
     ]
    },
    {
     "data": {
      "text/plain": [
       "0.4276271795453492"
      ]
     },
     "execution_count": 19,
     "metadata": {},
     "output_type": "execute_result"
    }
   ],
   "source": [
    "# logistic regression\n",
    "train,test = get_train_test_data(match_with_probs,0.7,0.3,book_keeper)\n",
    "lr = LogisticRegression(maxIter=10, regParam=0.1, elasticNetParam=0.1,family=\"multinomial\")\n",
    "lr_model = lr.fit(train)\n",
    "result = lr_model.evaluate(test)\n",
    "multi_class = MulticlassClassificationEvaluator()\n",
    "multi_class.evaluate(result.predictions)"
   ]
  },
  {
   "cell_type": "code",
   "execution_count": 23,
   "metadata": {},
   "outputs": [
    {
     "name": "stdout",
     "output_type": "stream",
     "text": [
      "Generated training and testing data in 2.056386 secs\n",
      "1 0.4822190611664296\n",
      "2 0.4822190611664296\n",
      "3 0.4793741109530583\n"
     ]
    },
    {
     "ename": "KeyboardInterrupt",
     "evalue": "",
     "output_type": "error",
     "traceback": [
      "\u001b[0;31m---------------------------------------------------------------------------\u001b[0m",
      "\u001b[0;31mKeyboardInterrupt\u001b[0m                         Traceback (most recent call last)",
      "\u001b[0;32m<ipython-input-23-efaa6caebd49>\u001b[0m in \u001b[0;36m<module>\u001b[0;34m\u001b[0m\n\u001b[1;32m      3\u001b[0m \u001b[0;32mfor\u001b[0m \u001b[0mi\u001b[0m \u001b[0;32min\u001b[0m \u001b[0mrange\u001b[0m\u001b[0;34m(\u001b[0m\u001b[0;36m1\u001b[0m\u001b[0;34m,\u001b[0m\u001b[0;36m10\u001b[0m\u001b[0;34m)\u001b[0m\u001b[0;34m:\u001b[0m\u001b[0;34m\u001b[0m\u001b[0;34m\u001b[0m\u001b[0m\n\u001b[1;32m      4\u001b[0m     \u001b[0mdtc\u001b[0m \u001b[0;34m=\u001b[0m \u001b[0mDecisionTreeClassifier\u001b[0m\u001b[0;34m(\u001b[0m\u001b[0mmaxDepth\u001b[0m\u001b[0;34m=\u001b[0m\u001b[0;36m5\u001b[0m\u001b[0;34m,\u001b[0m\u001b[0mminInstancesPerNode\u001b[0m\u001b[0;34m=\u001b[0m\u001b[0mi\u001b[0m\u001b[0;34m)\u001b[0m\u001b[0;34m\u001b[0m\u001b[0;34m\u001b[0m\u001b[0m\n\u001b[0;32m----> 5\u001b[0;31m     \u001b[0mdtc_model\u001b[0m \u001b[0;34m=\u001b[0m \u001b[0mdtc\u001b[0m\u001b[0;34m.\u001b[0m\u001b[0mfit\u001b[0m\u001b[0;34m(\u001b[0m\u001b[0mtrain\u001b[0m\u001b[0;34m)\u001b[0m\u001b[0;34m\u001b[0m\u001b[0;34m\u001b[0m\u001b[0m\n\u001b[0m\u001b[1;32m      6\u001b[0m     \u001b[0mpreds\u001b[0m \u001b[0;34m=\u001b[0m \u001b[0mdtc_model\u001b[0m\u001b[0;34m.\u001b[0m\u001b[0mtransform\u001b[0m\u001b[0;34m(\u001b[0m\u001b[0mtest\u001b[0m\u001b[0;34m)\u001b[0m\u001b[0;34m\u001b[0m\u001b[0;34m\u001b[0m\u001b[0m\n\u001b[1;32m      7\u001b[0m     \u001b[0mevaluator\u001b[0m \u001b[0;34m=\u001b[0m \u001b[0mMulticlassClassificationEvaluator\u001b[0m\u001b[0;34m(\u001b[0m\u001b[0mmetricName\u001b[0m \u001b[0;34m=\u001b[0m \u001b[0;34m\"accuracy\"\u001b[0m\u001b[0;34m)\u001b[0m\u001b[0;34m\u001b[0m\u001b[0;34m\u001b[0m\u001b[0m\n",
      "\u001b[0;32m/usr/local/lib/python3.6/dist-packages/pyspark/ml/base.py\u001b[0m in \u001b[0;36mfit\u001b[0;34m(self, dataset, params)\u001b[0m\n\u001b[1;32m    130\u001b[0m                 \u001b[0;32mreturn\u001b[0m \u001b[0mself\u001b[0m\u001b[0;34m.\u001b[0m\u001b[0mcopy\u001b[0m\u001b[0;34m(\u001b[0m\u001b[0mparams\u001b[0m\u001b[0;34m)\u001b[0m\u001b[0;34m.\u001b[0m\u001b[0m_fit\u001b[0m\u001b[0;34m(\u001b[0m\u001b[0mdataset\u001b[0m\u001b[0;34m)\u001b[0m\u001b[0;34m\u001b[0m\u001b[0;34m\u001b[0m\u001b[0m\n\u001b[1;32m    131\u001b[0m             \u001b[0;32melse\u001b[0m\u001b[0;34m:\u001b[0m\u001b[0;34m\u001b[0m\u001b[0;34m\u001b[0m\u001b[0m\n\u001b[0;32m--> 132\u001b[0;31m                 \u001b[0;32mreturn\u001b[0m \u001b[0mself\u001b[0m\u001b[0;34m.\u001b[0m\u001b[0m_fit\u001b[0m\u001b[0;34m(\u001b[0m\u001b[0mdataset\u001b[0m\u001b[0;34m)\u001b[0m\u001b[0;34m\u001b[0m\u001b[0;34m\u001b[0m\u001b[0m\n\u001b[0m\u001b[1;32m    133\u001b[0m         \u001b[0;32melse\u001b[0m\u001b[0;34m:\u001b[0m\u001b[0;34m\u001b[0m\u001b[0;34m\u001b[0m\u001b[0m\n\u001b[1;32m    134\u001b[0m             raise ValueError(\"Params must be either a param map or a list/tuple of param maps, \"\n",
      "\u001b[0;32m/usr/local/lib/python3.6/dist-packages/pyspark/ml/wrapper.py\u001b[0m in \u001b[0;36m_fit\u001b[0;34m(self, dataset)\u001b[0m\n\u001b[1;32m    293\u001b[0m \u001b[0;34m\u001b[0m\u001b[0m\n\u001b[1;32m    294\u001b[0m     \u001b[0;32mdef\u001b[0m \u001b[0m_fit\u001b[0m\u001b[0;34m(\u001b[0m\u001b[0mself\u001b[0m\u001b[0;34m,\u001b[0m \u001b[0mdataset\u001b[0m\u001b[0;34m)\u001b[0m\u001b[0;34m:\u001b[0m\u001b[0;34m\u001b[0m\u001b[0;34m\u001b[0m\u001b[0m\n\u001b[0;32m--> 295\u001b[0;31m         \u001b[0mjava_model\u001b[0m \u001b[0;34m=\u001b[0m \u001b[0mself\u001b[0m\u001b[0;34m.\u001b[0m\u001b[0m_fit_java\u001b[0m\u001b[0;34m(\u001b[0m\u001b[0mdataset\u001b[0m\u001b[0;34m)\u001b[0m\u001b[0;34m\u001b[0m\u001b[0;34m\u001b[0m\u001b[0m\n\u001b[0m\u001b[1;32m    296\u001b[0m         \u001b[0mmodel\u001b[0m \u001b[0;34m=\u001b[0m \u001b[0mself\u001b[0m\u001b[0;34m.\u001b[0m\u001b[0m_create_model\u001b[0m\u001b[0;34m(\u001b[0m\u001b[0mjava_model\u001b[0m\u001b[0;34m)\u001b[0m\u001b[0;34m\u001b[0m\u001b[0;34m\u001b[0m\u001b[0m\n\u001b[1;32m    297\u001b[0m         \u001b[0;32mreturn\u001b[0m \u001b[0mself\u001b[0m\u001b[0;34m.\u001b[0m\u001b[0m_copyValues\u001b[0m\u001b[0;34m(\u001b[0m\u001b[0mmodel\u001b[0m\u001b[0;34m)\u001b[0m\u001b[0;34m\u001b[0m\u001b[0;34m\u001b[0m\u001b[0m\n",
      "\u001b[0;32m/usr/local/lib/python3.6/dist-packages/pyspark/ml/wrapper.py\u001b[0m in \u001b[0;36m_fit_java\u001b[0;34m(self, dataset)\u001b[0m\n\u001b[1;32m    290\u001b[0m         \"\"\"\n\u001b[1;32m    291\u001b[0m         \u001b[0mself\u001b[0m\u001b[0;34m.\u001b[0m\u001b[0m_transfer_params_to_java\u001b[0m\u001b[0;34m(\u001b[0m\u001b[0;34m)\u001b[0m\u001b[0;34m\u001b[0m\u001b[0;34m\u001b[0m\u001b[0m\n\u001b[0;32m--> 292\u001b[0;31m         \u001b[0;32mreturn\u001b[0m \u001b[0mself\u001b[0m\u001b[0;34m.\u001b[0m\u001b[0m_java_obj\u001b[0m\u001b[0;34m.\u001b[0m\u001b[0mfit\u001b[0m\u001b[0;34m(\u001b[0m\u001b[0mdataset\u001b[0m\u001b[0;34m.\u001b[0m\u001b[0m_jdf\u001b[0m\u001b[0;34m)\u001b[0m\u001b[0;34m\u001b[0m\u001b[0;34m\u001b[0m\u001b[0m\n\u001b[0m\u001b[1;32m    293\u001b[0m \u001b[0;34m\u001b[0m\u001b[0m\n\u001b[1;32m    294\u001b[0m     \u001b[0;32mdef\u001b[0m \u001b[0m_fit\u001b[0m\u001b[0;34m(\u001b[0m\u001b[0mself\u001b[0m\u001b[0;34m,\u001b[0m \u001b[0mdataset\u001b[0m\u001b[0;34m)\u001b[0m\u001b[0;34m:\u001b[0m\u001b[0;34m\u001b[0m\u001b[0;34m\u001b[0m\u001b[0m\n",
      "\u001b[0;32m~/.local/lib/python3.6/site-packages/py4j/java_gateway.py\u001b[0m in \u001b[0;36m__call__\u001b[0;34m(self, *args)\u001b[0m\n\u001b[1;32m   1253\u001b[0m             \u001b[0mproto\u001b[0m\u001b[0;34m.\u001b[0m\u001b[0mEND_COMMAND_PART\u001b[0m\u001b[0;34m\u001b[0m\u001b[0;34m\u001b[0m\u001b[0m\n\u001b[1;32m   1254\u001b[0m \u001b[0;34m\u001b[0m\u001b[0m\n\u001b[0;32m-> 1255\u001b[0;31m         \u001b[0manswer\u001b[0m \u001b[0;34m=\u001b[0m \u001b[0mself\u001b[0m\u001b[0;34m.\u001b[0m\u001b[0mgateway_client\u001b[0m\u001b[0;34m.\u001b[0m\u001b[0msend_command\u001b[0m\u001b[0;34m(\u001b[0m\u001b[0mcommand\u001b[0m\u001b[0;34m)\u001b[0m\u001b[0;34m\u001b[0m\u001b[0;34m\u001b[0m\u001b[0m\n\u001b[0m\u001b[1;32m   1256\u001b[0m         return_value = get_return_value(\n\u001b[1;32m   1257\u001b[0m             answer, self.gateway_client, self.target_id, self.name)\n",
      "\u001b[0;32m~/.local/lib/python3.6/site-packages/py4j/java_gateway.py\u001b[0m in \u001b[0;36msend_command\u001b[0;34m(self, command, retry, binary)\u001b[0m\n\u001b[1;32m    983\u001b[0m         \u001b[0mconnection\u001b[0m \u001b[0;34m=\u001b[0m \u001b[0mself\u001b[0m\u001b[0;34m.\u001b[0m\u001b[0m_get_connection\u001b[0m\u001b[0;34m(\u001b[0m\u001b[0;34m)\u001b[0m\u001b[0;34m\u001b[0m\u001b[0;34m\u001b[0m\u001b[0m\n\u001b[1;32m    984\u001b[0m         \u001b[0;32mtry\u001b[0m\u001b[0;34m:\u001b[0m\u001b[0;34m\u001b[0m\u001b[0;34m\u001b[0m\u001b[0m\n\u001b[0;32m--> 985\u001b[0;31m             \u001b[0mresponse\u001b[0m \u001b[0;34m=\u001b[0m \u001b[0mconnection\u001b[0m\u001b[0;34m.\u001b[0m\u001b[0msend_command\u001b[0m\u001b[0;34m(\u001b[0m\u001b[0mcommand\u001b[0m\u001b[0;34m)\u001b[0m\u001b[0;34m\u001b[0m\u001b[0;34m\u001b[0m\u001b[0m\n\u001b[0m\u001b[1;32m    986\u001b[0m             \u001b[0;32mif\u001b[0m \u001b[0mbinary\u001b[0m\u001b[0;34m:\u001b[0m\u001b[0;34m\u001b[0m\u001b[0;34m\u001b[0m\u001b[0m\n\u001b[1;32m    987\u001b[0m                 \u001b[0;32mreturn\u001b[0m \u001b[0mresponse\u001b[0m\u001b[0;34m,\u001b[0m \u001b[0mself\u001b[0m\u001b[0;34m.\u001b[0m\u001b[0m_create_connection_guard\u001b[0m\u001b[0;34m(\u001b[0m\u001b[0mconnection\u001b[0m\u001b[0;34m)\u001b[0m\u001b[0;34m\u001b[0m\u001b[0;34m\u001b[0m\u001b[0m\n",
      "\u001b[0;32m~/.local/lib/python3.6/site-packages/py4j/java_gateway.py\u001b[0m in \u001b[0;36msend_command\u001b[0;34m(self, command)\u001b[0m\n\u001b[1;32m   1150\u001b[0m \u001b[0;34m\u001b[0m\u001b[0m\n\u001b[1;32m   1151\u001b[0m         \u001b[0;32mtry\u001b[0m\u001b[0;34m:\u001b[0m\u001b[0;34m\u001b[0m\u001b[0;34m\u001b[0m\u001b[0m\n\u001b[0;32m-> 1152\u001b[0;31m             \u001b[0manswer\u001b[0m \u001b[0;34m=\u001b[0m \u001b[0msmart_decode\u001b[0m\u001b[0;34m(\u001b[0m\u001b[0mself\u001b[0m\u001b[0;34m.\u001b[0m\u001b[0mstream\u001b[0m\u001b[0;34m.\u001b[0m\u001b[0mreadline\u001b[0m\u001b[0;34m(\u001b[0m\u001b[0;34m)\u001b[0m\u001b[0;34m[\u001b[0m\u001b[0;34m:\u001b[0m\u001b[0;34m-\u001b[0m\u001b[0;36m1\u001b[0m\u001b[0;34m]\u001b[0m\u001b[0;34m)\u001b[0m\u001b[0;34m\u001b[0m\u001b[0;34m\u001b[0m\u001b[0m\n\u001b[0m\u001b[1;32m   1153\u001b[0m             \u001b[0mlogger\u001b[0m\u001b[0;34m.\u001b[0m\u001b[0mdebug\u001b[0m\u001b[0;34m(\u001b[0m\u001b[0;34m\"Answer received: {0}\"\u001b[0m\u001b[0;34m.\u001b[0m\u001b[0mformat\u001b[0m\u001b[0;34m(\u001b[0m\u001b[0manswer\u001b[0m\u001b[0;34m)\u001b[0m\u001b[0;34m)\u001b[0m\u001b[0;34m\u001b[0m\u001b[0;34m\u001b[0m\u001b[0m\n\u001b[1;32m   1154\u001b[0m             \u001b[0;32mif\u001b[0m \u001b[0manswer\u001b[0m\u001b[0;34m.\u001b[0m\u001b[0mstartswith\u001b[0m\u001b[0;34m(\u001b[0m\u001b[0mproto\u001b[0m\u001b[0;34m.\u001b[0m\u001b[0mRETURN_MESSAGE\u001b[0m\u001b[0;34m)\u001b[0m\u001b[0;34m:\u001b[0m\u001b[0;34m\u001b[0m\u001b[0;34m\u001b[0m\u001b[0m\n",
      "\u001b[0;32m/usr/lib/python3.6/socket.py\u001b[0m in \u001b[0;36mreadinto\u001b[0;34m(self, b)\u001b[0m\n\u001b[1;32m    584\u001b[0m         \u001b[0;32mwhile\u001b[0m \u001b[0;32mTrue\u001b[0m\u001b[0;34m:\u001b[0m\u001b[0;34m\u001b[0m\u001b[0;34m\u001b[0m\u001b[0m\n\u001b[1;32m    585\u001b[0m             \u001b[0;32mtry\u001b[0m\u001b[0;34m:\u001b[0m\u001b[0;34m\u001b[0m\u001b[0;34m\u001b[0m\u001b[0m\n\u001b[0;32m--> 586\u001b[0;31m                 \u001b[0;32mreturn\u001b[0m \u001b[0mself\u001b[0m\u001b[0;34m.\u001b[0m\u001b[0m_sock\u001b[0m\u001b[0;34m.\u001b[0m\u001b[0mrecv_into\u001b[0m\u001b[0;34m(\u001b[0m\u001b[0mb\u001b[0m\u001b[0;34m)\u001b[0m\u001b[0;34m\u001b[0m\u001b[0;34m\u001b[0m\u001b[0m\n\u001b[0m\u001b[1;32m    587\u001b[0m             \u001b[0;32mexcept\u001b[0m \u001b[0mtimeout\u001b[0m\u001b[0;34m:\u001b[0m\u001b[0;34m\u001b[0m\u001b[0;34m\u001b[0m\u001b[0m\n\u001b[1;32m    588\u001b[0m                 \u001b[0mself\u001b[0m\u001b[0;34m.\u001b[0m\u001b[0m_timeout_occurred\u001b[0m \u001b[0;34m=\u001b[0m \u001b[0;32mTrue\u001b[0m\u001b[0;34m\u001b[0m\u001b[0;34m\u001b[0m\u001b[0m\n",
      "\u001b[0;31mKeyboardInterrupt\u001b[0m: "
     ]
    }
   ],
   "source": [
    "#decision tree\n",
    "train,test = get_train_test_data(match_with_probs,0.7,0.3,book_keeper)\n",
    "for i in range(1,10):\n",
    "    dtc = DecisionTreeClassifier(maxDepth=5,minInstancesPerNode=i)\n",
    "    dtc_model = dtc.fit(train)\n",
    "    preds = dtc_model.transform(test)\n",
    "    evaluator = MulticlassClassificationEvaluator(metricName = \"accuracy\")\n",
    "    print(i, evaluator.evaluate(preds))"
   ]
  },
  {
   "cell_type": "code",
   "execution_count": 16,
   "metadata": {},
   "outputs": [
    {
     "name": "stdout",
     "output_type": "stream",
     "text": [
      "Generated training and testing data in 2.328812 secs\n"
     ]
    },
    {
     "data": {
      "text/plain": [
       "0.5416666666666666"
      ]
     },
     "execution_count": 16,
     "metadata": {},
     "output_type": "execute_result"
    }
   ],
   "source": [
    "# random forest\n",
    "train,test = get_train_test_data(match_with_probs,0.7,0.3,book_keeper)\n",
    "rfc = RandomForestClassifier(numTrees=20)\n",
    "rfc_model = rfc.fit(train)\n",
    "preds = rfc_model.transform(test)\n",
    "evaluator = MulticlassClassificationEvaluator(metricName = \"accuracy\")\n",
    "evaluator.evaluate(preds)"
   ]
  },
  {
   "cell_type": "code",
   "execution_count": 17,
   "metadata": {},
   "outputs": [
    {
     "name": "stdout",
     "output_type": "stream",
     "text": [
      "Generated training and testing data in 2.563837 secs\n"
     ]
    },
    {
     "data": {
      "text/plain": [
       "0.5545212765957447"
      ]
     },
     "execution_count": 17,
     "metadata": {},
     "output_type": "execute_result"
    }
   ],
   "source": [
    "# naive bayes\n",
    "train,test = get_train_test_data(match_with_probs,0.7,0.3,book_keeper)\n",
    "scaler = MinMaxScaler(inputCol=\"features\", outputCol=\"scaledFeatures\",)\n",
    "scalerModel = scaler.fit(train)\n",
    "scaledTrain = scalerModel.transform(train)\n",
    "scaledTest = scalerModel.transform(test)\n",
    "nb = NaiveBayes(smoothing=0.5,featuresCol=\"scaledFeatures\",labelCol=\"label\")\n",
    "nb_model = nb.fit(scaledTrain)\n",
    "predictions = nb_model.transform(scaledTest)\n",
    "evaluator = MulticlassClassificationEvaluator(labelCol=\"label\", predictionCol=\"prediction\",\n",
    "                                              metricName=\"accuracy\")\n",
    "accuracy = evaluator.evaluate(predictions)\n",
    "accuracy"
   ]
  },
  {
   "cell_type": "code",
   "execution_count": 57,
   "metadata": {},
   "outputs": [
    {
     "name": "stdout",
     "output_type": "stream",
     "text": [
      "+-------------------+-------------+-----------------+---------------------+-------------------+------------------+\n",
      "|               date|home_player_3|avg(match_api_id)|avg(home_team_api_id)|avg(overall_rating)|avg(home_player_3)|\n",
      "+-------------------+-------------+-----------------+---------------------+-------------------+------------------+\n",
      "|2012-08-27 00:00:00|        19327|        1259972.0|               9906.0|  76.55555555555556|           19327.0|\n",
      "|2012-09-16 00:00:00|        19327|        1260008.0|               9906.0|               76.7|           19327.0|\n",
      "|2012-09-23 00:00:00|        19327|        1260028.0|               9906.0|               76.7|           19327.0|\n",
      "|2012-10-07 00:00:00|        19327|        1260069.0|               9906.0|               76.7|           19327.0|\n",
      "|2012-10-28 00:00:00|        19327|        1260108.0|               9906.0|               76.7|           19327.0|\n",
      "|2012-11-11 00:00:00|        19327|        1260172.0|               9906.0|               76.7|           19327.0|\n",
      "|2012-11-25 00:00:00|        19327|        1260222.0|               9906.0|               76.7|           19327.0|\n",
      "|2012-12-21 00:00:00|        19327|        1260312.0|               9906.0|               76.7|           19327.0|\n",
      "|2013-01-13 00:00:00|        19327|        1260338.0|               9906.0|               76.7|           19327.0|\n",
      "|2013-01-20 00:00:00|        19327|        1259969.0|               9906.0|               76.7|           19327.0|\n",
      "|2013-02-03 00:00:00|        19327|        1260012.0|               9906.0|               76.7|           19327.0|\n",
      "|2013-02-24 00:00:00|        19327|        1260075.0|               9906.0|               77.0|           19327.0|\n",
      "|2013-03-10 00:00:00|        19327|        1260128.0|               9906.0|               77.0|           19327.0|\n",
      "|2013-03-31 00:00:00|        19327|        1260185.0|               9906.0|              77.25|           19327.0|\n",
      "|2013-04-14 00:00:00|        19327|        1260122.0|               9906.0|              77.25|           19327.0|\n",
      "|2013-04-27 00:00:00|        19327|        1260202.0|               9906.0|              77.25|           19327.0|\n",
      "|2013-05-12 00:00:00|        19327|        1260286.0|               9906.0|              77.25|           19327.0|\n",
      "|2013-05-26 00:00:00|        19327|        1260290.0|               9906.0|              77.25|           19327.0|\n",
      "+-------------------+-------------+-----------------+---------------------+-------------------+------------------+\n",
      "\n"
     ]
    }
   ],
   "source": [
    "match_new.alias(\"mn\").join(player_attributes.alias(\"pa\"), (player_attributes[\"player_api_id\"] == match_new[\"home_player_3\"])\n",
    "                          & (player_attributes[\"date\"]<match_new[\"date\"]))\\\n",
    ".select(\"match_api_id\",\"home_team_api_id\",\"overall_rating\",\"pa.date\",\"mn.date\",\"home_player_3\")\\\n",
    ".groupBy(\"mn.date\",\"home_player_3\").mean().filter(match_new[\"home_player_3\"] == 19327).orderBy(\"mn.date\").show()\n",
    "\n",
    "# match_new.select(\"home_player_3\").groupBy(\"home_player_3\").count().orderBy(\"count\",ascending=False).show()"
   ]
  }
 ],
 "metadata": {
  "kernelspec": {
   "display_name": "Python 3",
   "language": "python",
   "name": "python3"
  },
  "language_info": {
   "codemirror_mode": {
    "name": "ipython",
    "version": 3
   },
   "file_extension": ".py",
   "mimetype": "text/x-python",
   "name": "python",
   "nbconvert_exporter": "python",
   "pygments_lexer": "ipython3",
   "version": "3.6.7"
  }
 },
 "nbformat": 4,
 "nbformat_minor": 2
}
