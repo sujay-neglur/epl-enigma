{
 "cells": [
  {
   "cell_type": "code",
   "execution_count": 16,
   "metadata": {},
   "outputs": [],
   "source": [
    "from pyspark.ml.classification import MultilayerPerceptronClassifier\n",
    "from pyspark.ml.evaluation import MulticlassClassificationEvaluator\n",
    "from pyspark.sql.functions import when\n",
    "from pyspark.sql import SparkSession"
   ]
  },
  {
   "cell_type": "code",
   "execution_count": 17,
   "metadata": {},
   "outputs": [],
   "source": [
    "def init_spark():\n",
    "    spark = SparkSession \\\n",
    "        .builder \\\n",
    "        .appName(\"Python Spark SQL basic example\") \\\n",
    "        .config(\"spark.some.config.option\", \"some-value\") \\\n",
    "        .getOrCreate()\n",
    "    return spark"
   ]
  },
  {
   "cell_type": "code",
   "execution_count": 18,
   "metadata": {},
   "outputs": [],
   "source": [
    "def read_file(filename):\n",
    "    spark = init_spark()\n",
    "    data = spark.read.csv(\"data/\" + filename, header=True,inferSchema = True)\n",
    "    return data"
   ]
  },
  {
   "cell_type": "code",
   "execution_count": 19,
   "metadata": {},
   "outputs": [
    {
     "name": "stdout",
     "output_type": "stream",
     "text": [
      "root\n",
      " |-- id: string (nullable = true)\n",
      " |-- country_id: string (nullable = true)\n",
      " |-- league_id: integer (nullable = true)\n",
      " |-- season: string (nullable = true)\n",
      " |-- stage: integer (nullable = true)\n",
      " |-- date: timestamp (nullable = true)\n",
      " |-- match_api_id: integer (nullable = true)\n",
      " |-- home_team_api_id: integer (nullable = true)\n",
      " |-- away_team_api_id: integer (nullable = true)\n",
      " |-- home_team_goal: integer (nullable = true)\n",
      " |-- away_team_goal: integer (nullable = true)\n",
      " |-- home_player_X1: integer (nullable = true)\n",
      " |-- home_player_X2: integer (nullable = true)\n",
      " |-- home_player_X3: integer (nullable = true)\n",
      " |-- home_player_X4: integer (nullable = true)\n",
      " |-- home_player_X5: integer (nullable = true)\n",
      " |-- home_player_X6: integer (nullable = true)\n",
      " |-- home_player_X7: integer (nullable = true)\n",
      " |-- home_player_X8: integer (nullable = true)\n",
      " |-- home_player_X9: integer (nullable = true)\n",
      " |-- home_player_X10: integer (nullable = true)\n",
      " |-- home_player_X11: integer (nullable = true)\n",
      " |-- away_player_X1: integer (nullable = true)\n",
      " |-- away_player_X2: integer (nullable = true)\n",
      " |-- away_player_X3: integer (nullable = true)\n",
      " |-- away_player_X4: integer (nullable = true)\n",
      " |-- away_player_X5: integer (nullable = true)\n",
      " |-- away_player_X6: integer (nullable = true)\n",
      " |-- away_player_X7: integer (nullable = true)\n",
      " |-- away_player_X8: integer (nullable = true)\n",
      " |-- away_player_X9: integer (nullable = true)\n",
      " |-- away_player_X10: integer (nullable = true)\n",
      " |-- away_player_X11: integer (nullable = true)\n",
      " |-- home_player_Y1: integer (nullable = true)\n",
      " |-- home_player_Y2: integer (nullable = true)\n",
      " |-- home_player_Y3: integer (nullable = true)\n",
      " |-- home_player_Y4: integer (nullable = true)\n",
      " |-- home_player_Y5: integer (nullable = true)\n",
      " |-- home_player_Y6: integer (nullable = true)\n",
      " |-- home_player_Y7: integer (nullable = true)\n",
      " |-- home_player_Y8: integer (nullable = true)\n",
      " |-- home_player_Y9: integer (nullable = true)\n",
      " |-- home_player_Y10: integer (nullable = true)\n",
      " |-- home_player_Y11: integer (nullable = true)\n",
      " |-- away_player_Y1: integer (nullable = true)\n",
      " |-- away_player_Y2: integer (nullable = true)\n",
      " |-- away_player_Y3: integer (nullable = true)\n",
      " |-- away_player_Y4: integer (nullable = true)\n",
      " |-- away_player_Y5: integer (nullable = true)\n",
      " |-- away_player_Y6: integer (nullable = true)\n",
      " |-- away_player_Y7: integer (nullable = true)\n",
      " |-- away_player_Y8: integer (nullable = true)\n",
      " |-- away_player_Y9: integer (nullable = true)\n",
      " |-- away_player_Y10: integer (nullable = true)\n",
      " |-- away_player_Y11: integer (nullable = true)\n",
      " |-- home_player_1: integer (nullable = true)\n",
      " |-- home_player_2: integer (nullable = true)\n",
      " |-- home_player_3: integer (nullable = true)\n",
      " |-- home_player_4: integer (nullable = true)\n",
      " |-- home_player_5: integer (nullable = true)\n",
      " |-- home_player_6: integer (nullable = true)\n",
      " |-- home_player_7: integer (nullable = true)\n",
      " |-- home_player_8: integer (nullable = true)\n",
      " |-- home_player_9: integer (nullable = true)\n",
      " |-- home_player_10: integer (nullable = true)\n",
      " |-- home_player_11: integer (nullable = true)\n",
      " |-- away_player_1: integer (nullable = true)\n",
      " |-- away_player_2: integer (nullable = true)\n",
      " |-- away_player_3: integer (nullable = true)\n",
      " |-- away_player_4: integer (nullable = true)\n",
      " |-- away_player_5: integer (nullable = true)\n",
      " |-- away_player_6: integer (nullable = true)\n",
      " |-- away_player_7: integer (nullable = true)\n",
      " |-- away_player_8: integer (nullable = true)\n",
      " |-- away_player_9: integer (nullable = true)\n",
      " |-- away_player_10: integer (nullable = true)\n",
      " |-- away_player_11: integer (nullable = true)\n",
      " |-- goal: string (nullable = true)\n",
      " |-- shoton: string (nullable = true)\n",
      " |-- shotoff: string (nullable = true)\n",
      " |-- foulcommit: string (nullable = true)\n",
      " |-- card: string (nullable = true)\n",
      " |-- cross: string (nullable = true)\n",
      " |-- corner: string (nullable = true)\n",
      " |-- possession: string (nullable = true)\n",
      " |-- B365H: double (nullable = true)\n",
      " |-- B365D: double (nullable = true)\n",
      " |-- B365A: double (nullable = true)\n",
      " |-- BWH: double (nullable = true)\n",
      " |-- BWD: double (nullable = true)\n",
      " |-- BWA: double (nullable = true)\n",
      " |-- IWH: double (nullable = true)\n",
      " |-- IWD: double (nullable = true)\n",
      " |-- IWA: double (nullable = true)\n",
      " |-- LBH: double (nullable = true)\n",
      " |-- LBD: double (nullable = true)\n",
      " |-- LBA: double (nullable = true)\n",
      " |-- PSH: double (nullable = true)\n",
      " |-- PSD: double (nullable = true)\n",
      " |-- PSA: double (nullable = true)\n",
      " |-- WHH: double (nullable = true)\n",
      " |-- WHD: double (nullable = true)\n",
      " |-- WHA: double (nullable = true)\n",
      " |-- SJH: double (nullable = true)\n",
      " |-- SJD: double (nullable = true)\n",
      " |-- SJA: double (nullable = true)\n",
      " |-- VCH: double (nullable = true)\n",
      " |-- VCD: double (nullable = true)\n",
      " |-- VCA: double (nullable = true)\n",
      " |-- GBH: double (nullable = true)\n",
      " |-- GBD: double (nullable = true)\n",
      " |-- GBA: double (nullable = true)\n",
      " |-- BSH: double (nullable = true)\n",
      " |-- BSD: double (nullable = true)\n",
      " |-- BSA: double (nullable = true)\n",
      "\n"
     ]
    }
   ],
   "source": [
    "match_table = read_file(\"Match.csv\")\n",
    "match_table.printSchema()"
   ]
  },
  {
   "cell_type": "code",
   "execution_count": 20,
   "metadata": {},
   "outputs": [],
   "source": [
    "match_table = match_table.select([\"match_api_id\",\"date\",'home_team_api_id', 'away_team_api_id',\"home_team_goal\",\"away_team_goal\",\"home_player_1\", \"home_player_2\", \"home_player_3\", \"home_player_4\", \"home_player_5\",\n",
    "               \"home_player_6\", \"home_player_7\", \"home_player_8\", \"home_player_9\", \"home_player_10\",\n",
    "               \"home_player_11\", \"away_player_1\", \"away_player_2\", \"away_player_3\", \"away_player_4\",\n",
    "               \"away_player_5\", \"away_player_6\", \"away_player_7\", \"away_player_8\", \"away_player_9\",\n",
    "               \"away_player_10\", \"away_player_11\",\"B365H\", \"B365D\", \"B365A\", \"BWH\", \"BWD\", \"BWA\",'BWH',\n",
    "               'BWD', 'BWA', 'IWH', 'IWD', 'IWA', 'LBH', 'LBD', 'LBA', 'PSH','PSD', 'PSA', 'WHH', 'WHD',\n",
    "                'WHA', 'SJH', 'SJD', 'SJA', 'VCH', 'VCD','VCA', 'GBH', 'GBD', 'GBA', 'BSH', 'BSD', 'BSA'])\n",
    "match_table = match_table.na.drop()\n",
    "\n",
    "match_table = match_table.withColumn(\"winner\", when(match_table[\"home_team_goal\"]>match_table[\"away_team_goal\"], match_table[\"home_team_api_id\"])\n",
    "                             .otherwise(when(match_table[\"home_team_goal\"]< match_table[\"away_team_goal\"], match_table[\"away_team_api_id\"])\n",
    "                                       .otherwise(\"Draw\")))"
   ]
  },
  {
   "cell_type": "code",
   "execution_count": 21,
   "metadata": {},
   "outputs": [
    {
     "name": "stdout",
     "output_type": "stream",
     "text": [
      "root\n",
      " |-- match_api_id: integer (nullable = true)\n",
      " |-- date: timestamp (nullable = true)\n",
      " |-- home_team_api_id: integer (nullable = true)\n",
      " |-- away_team_api_id: integer (nullable = true)\n",
      " |-- home_team_goal: integer (nullable = true)\n",
      " |-- away_team_goal: integer (nullable = true)\n",
      " |-- home_player_1: integer (nullable = true)\n",
      " |-- home_player_2: integer (nullable = true)\n",
      " |-- home_player_3: integer (nullable = true)\n",
      " |-- home_player_4: integer (nullable = true)\n",
      " |-- home_player_5: integer (nullable = true)\n",
      " |-- home_player_6: integer (nullable = true)\n",
      " |-- home_player_7: integer (nullable = true)\n",
      " |-- home_player_8: integer (nullable = true)\n",
      " |-- home_player_9: integer (nullable = true)\n",
      " |-- home_player_10: integer (nullable = true)\n",
      " |-- home_player_11: integer (nullable = true)\n",
      " |-- away_player_1: integer (nullable = true)\n",
      " |-- away_player_2: integer (nullable = true)\n",
      " |-- away_player_3: integer (nullable = true)\n",
      " |-- away_player_4: integer (nullable = true)\n",
      " |-- away_player_5: integer (nullable = true)\n",
      " |-- away_player_6: integer (nullable = true)\n",
      " |-- away_player_7: integer (nullable = true)\n",
      " |-- away_player_8: integer (nullable = true)\n",
      " |-- away_player_9: integer (nullable = true)\n",
      " |-- away_player_10: integer (nullable = true)\n",
      " |-- away_player_11: integer (nullable = true)\n",
      " |-- B365H: double (nullable = true)\n",
      " |-- B365D: double (nullable = true)\n",
      " |-- B365A: double (nullable = true)\n",
      " |-- BWH: double (nullable = true)\n",
      " |-- BWD: double (nullable = true)\n",
      " |-- BWA: double (nullable = true)\n",
      " |-- BWH: double (nullable = true)\n",
      " |-- BWD: double (nullable = true)\n",
      " |-- BWA: double (nullable = true)\n",
      " |-- IWH: double (nullable = true)\n",
      " |-- IWD: double (nullable = true)\n",
      " |-- IWA: double (nullable = true)\n",
      " |-- LBH: double (nullable = true)\n",
      " |-- LBD: double (nullable = true)\n",
      " |-- LBA: double (nullable = true)\n",
      " |-- PSH: double (nullable = true)\n",
      " |-- PSD: double (nullable = true)\n",
      " |-- PSA: double (nullable = true)\n",
      " |-- WHH: double (nullable = true)\n",
      " |-- WHD: double (nullable = true)\n",
      " |-- WHA: double (nullable = true)\n",
      " |-- SJH: double (nullable = true)\n",
      " |-- SJD: double (nullable = true)\n",
      " |-- SJA: double (nullable = true)\n",
      " |-- VCH: double (nullable = true)\n",
      " |-- VCD: double (nullable = true)\n",
      " |-- VCA: double (nullable = true)\n",
      " |-- GBH: double (nullable = true)\n",
      " |-- GBD: double (nullable = true)\n",
      " |-- GBA: double (nullable = true)\n",
      " |-- BSH: double (nullable = true)\n",
      " |-- BSD: double (nullable = true)\n",
      " |-- BSA: double (nullable = true)\n",
      " |-- winner: string (nullable = true)\n",
      "\n"
     ]
    }
   ],
   "source": [
    "match_table.printSchema()"
   ]
  },
  {
   "cell_type": "code",
   "execution_count": 23,
   "metadata": {},
   "outputs": [
    {
     "name": "stdout",
     "output_type": "stream",
     "text": [
      "+------------+-----+\n",
      "|accuracyB365|count|\n",
      "+------------+-----+\n",
      "|           1| 1353|\n",
      "|           0| 1274|\n",
      "+------------+-----+\n",
      "\n"
     ]
    }
   ],
   "source": [
    "betting_table = match_table.select(\"home_team_api_id\",\"away_team_api_id\",\"winner\",\"B365H\",\"B365D\",\"B365A\", \n",
    "                              'BWH', 'BWD', 'BWA', 'IWH', 'IWD', 'IWA', 'LBH', 'LBD', 'LBA', 'PSH',\n",
    "                              'PSD', 'PSA', 'WHH', 'WHD', 'WHA', 'SJH', 'SJD', 'SJA', 'VCH', 'VCD',\n",
    "                              'VCA', 'GBH', 'GBD', 'GBA', 'BSH', 'BSD', 'BSA')\n",
    "betting_table = betting_table.withColumn(\"predictionB365\", when(betting_table[\"B365H\"]<betting_table[\"B365D\"],\n",
    "                                                           when(betting_table[\"B365H\"]<betting_table[\"B365A\"],betting_table[\"home_team_api_id\"]).otherwise(betting_table[\"away_team_api_id\"])\n",
    "                                                           ).otherwise(when(betting_table[\"B365D\"]< betting_table[\"B365A\"],\"Draw\").otherwise(betting_table[\"away_team_api_id\"])))\n",
    "# betting_table.take(10)\n",
    "\n",
    "betting_table = betting_table.withColumn(\"accuracyB365\", when(betting_table[\"winner\"]==betting_table[\"predictionB365\"], 1).otherwise(0))\n",
    "bet = betting_table.select(\"accuracyB365\")\n",
    "bet.groupBy('accuracyB365').count().show()\n",
    "\n"
   ]
  },
  {
   "cell_type": "code",
   "execution_count": 27,
   "metadata": {},
   "outputs": [
    {
     "name": "stdout",
     "output_type": "stream",
     "text": [
      "+----------+-----+\n",
      "|accuracyBW|count|\n",
      "+----------+-----+\n",
      "|         1| 1350|\n",
      "|         0| 1277|\n",
      "+----------+-----+\n",
      "\n"
     ]
    }
   ],
   "source": [
    "betting_table = betting_table.withColumn(\"predictionBW\", when(betting_table[\"BWH\"]<betting_table[\"BWD\"],\n",
    "                                                           when(betting_table[\"BWH\"]<betting_table[\"BWA\"],betting_table[\"home_team_api_id\"]).otherwise(betting_table[\"away_team_api_id\"])\n",
    "                                                           ).otherwise(when(betting_table[\"BWD\"]< betting_table[\"BWA\"],\"Draw\").otherwise(betting_table[\"away_team_api_id\"])))\n",
    "betting_table = betting_table.withColumn(\"accuracyBW\", when(betting_table[\"winner\"]==betting_table[\"predictionBW\"], 1).otherwise(0))\n",
    "bet = (betting_table.select(\"accuracyBW\"))\n",
    "bet.groupBy('accuracyBW').count().show()"
   ]
  },
  {
   "cell_type": "code",
   "execution_count": 28,
   "metadata": {},
   "outputs": [
    {
     "name": "stdout",
     "output_type": "stream",
     "text": [
      "+----------+-----+\n",
      "|accuracyIW|count|\n",
      "+----------+-----+\n",
      "|         1| 1352|\n",
      "|         0| 1275|\n",
      "+----------+-----+\n",
      "\n"
     ]
    }
   ],
   "source": [
    "betting_table = betting_table.withColumn(\"predictionIW\", when(betting_table[\"IWH\"]<betting_table[\"IWD\"],\n",
    "                                                           when(betting_table[\"IWH\"]<betting_table[\"IWA\"],betting_table[\"home_team_api_id\"]).otherwise(betting_table[\"away_team_api_id\"])\n",
    "                                                           ).otherwise(when(betting_table[\"IWD\"]< betting_table[\"IWA\"],\"Draw\").otherwise(betting_table[\"away_team_api_id\"])))\n",
    "betting_table = betting_table.withColumn(\"accuracyIW\", when(betting_table[\"winner\"]==betting_table[\"predictionIW\"], 1).otherwise(0))\n",
    "bet = (betting_table.select(\"accuracyIW\"))\n",
    "bet.groupBy('accuracyIW').count().show()"
   ]
  },
  {
   "cell_type": "code",
   "execution_count": 29,
   "metadata": {},
   "outputs": [
    {
     "name": "stdout",
     "output_type": "stream",
     "text": [
      "+----------+-----+\n",
      "|accuracyWH|count|\n",
      "+----------+-----+\n",
      "|         1| 1356|\n",
      "|         0| 1271|\n",
      "+----------+-----+\n",
      "\n"
     ]
    }
   ],
   "source": [
    "betting_table = betting_table.withColumn(\"predictionWH\", when(betting_table[\"WHH\"]<betting_table[\"WHD\"],\n",
    "                                                           when(betting_table[\"WHH\"]<betting_table[\"WHA\"],betting_table[\"home_team_api_id\"]).otherwise(betting_table[\"away_team_api_id\"])\n",
    "                                                           ).otherwise(when(betting_table[\"WHD\"]< betting_table[\"WHA\"],\"Draw\").otherwise(betting_table[\"away_team_api_id\"])))\n",
    "betting_table = betting_table.withColumn(\"accuracyWH\", when(betting_table[\"winner\"]==betting_table[\"predictionWH\"], 1).otherwise(0))\n",
    "bet = (betting_table.select(\"accuracyWH\"))\n",
    "bet.groupBy('accuracyWH').count().show()"
   ]
  },
  {
   "cell_type": "code",
   "execution_count": 30,
   "metadata": {},
   "outputs": [
    {
     "name": "stdout",
     "output_type": "stream",
     "text": [
      "+----------+-----+\n",
      "|accuracySJ|count|\n",
      "+----------+-----+\n",
      "|         1| 1351|\n",
      "|         0| 1276|\n",
      "+----------+-----+\n",
      "\n"
     ]
    }
   ],
   "source": [
    "betting_table = betting_table.withColumn(\"predictionSJ\", when(betting_table[\"SJH\"]<betting_table[\"SJD\"],\n",
    "                                                           when(betting_table[\"SJH\"]<betting_table[\"SJA\"],betting_table[\"home_team_api_id\"]).otherwise(betting_table[\"away_team_api_id\"])\n",
    "                                                           ).otherwise(when(betting_table[\"SJD\"]< betting_table[\"SJA\"],\"Draw\").otherwise(betting_table[\"away_team_api_id\"])))\n",
    "betting_table = betting_table.withColumn(\"accuracySJ\", when(betting_table[\"winner\"]==betting_table[\"predictionSJ\"], 1).otherwise(0))\n",
    "bet = (betting_table.select(\"accuracySJ\"))\n",
    "bet.groupBy('accuracySJ').count().show()\n"
   ]
  },
  {
   "cell_type": "code",
   "execution_count": 37,
   "metadata": {},
   "outputs": [
    {
     "name": "stdout",
     "output_type": "stream",
     "text": [
      "+----------+-----+\n",
      "|accuracyBS|count|\n",
      "+----------+-----+\n",
      "|         1| 1352|\n",
      "|         0| 1275|\n",
      "+----------+-----+\n",
      "\n"
     ]
    }
   ],
   "source": [
    "betting_table = betting_table.withColumn(\"predictionBS\", when(betting_table[\"BSH\"]<betting_table[\"BSD\"],\n",
    "                                                           when(betting_table[\"BSH\"]<betting_table[\"BSA\"],betting_table[\"home_team_api_id\"]).otherwise(betting_table[\"away_team_api_id\"])\n",
    "                                                           ).otherwise(when(betting_table[\"BSD\"]< betting_table[\"BSA\"],\"Draw\").otherwise(betting_table[\"away_team_api_id\"])))\n",
    "betting_table = betting_table.withColumn(\"accuracyBS\", when(betting_table[\"winner\"]==betting_table[\"predictionBS\"], 1).otherwise(0))\n",
    "bet = (betting_table.select(\"accuracyBS\"))\n",
    "bet.groupBy('accuracyBS').count().show()"
   ]
  },
  {
   "cell_type": "code",
   "execution_count": 38,
   "metadata": {},
   "outputs": [
    {
     "name": "stdout",
     "output_type": "stream",
     "text": [
      "+------------+----------+----------+----------+----------+-----+\n",
      "|accuracyB365|accuracyBW|accuracyIW|accuracySJ|accuracyBS|count|\n",
      "+------------+----------+----------+----------+----------+-----+\n",
      "|           0|         0|         0|         0|         0| 1241|\n",
      "|           0|         1|         1|         0|         0|    1|\n",
      "|           0|         1|         1|         1|         1|    3|\n",
      "|           1|         0|         1|         1|         0|    4|\n",
      "|           1|         1|         0|         1|         1|   12|\n",
      "|           0|         1|         0|         0|         0|    3|\n",
      "|           1|         0|         0|         0|         1|    2|\n",
      "|           0|         0|         1|         0|         0|   14|\n",
      "|           1|         1|         1|         0|         1|    1|\n",
      "|           1|         1|         0|         1|         0|    6|\n",
      "|           1|         1|         0|         0|         1|    4|\n",
      "|           0|         0|         1|         1|         1|    1|\n",
      "|           0|         1|         1|         0|         1|    1|\n",
      "|           1|         1|         1|         1|         1| 1314|\n",
      "|           0|         0|         1|         0|         1|    4|\n",
      "|           1|         0|         0|         1|         1|    3|\n",
      "|           0|         1|         1|         1|         0|    1|\n",
      "|           1|         0|         1|         0|         1|    1|\n",
      "|           0|         0|         0|         0|         1|    4|\n",
      "|           1|         1|         1|         1|         0|    4|\n",
      "+------------+----------+----------+----------+----------+-----+\n",
      "only showing top 20 rows\n",
      "\n"
     ]
    }
   ],
   "source": [
    "pandas_df = new_df.toPandas()\n",
    "import matplotlib.pyplot as plt\n",
    "pandas_df.plot().show()\n",
    "\n"
   ]
  },
  {
   "cell_type": "code",
   "execution_count": 2,
   "metadata": {},
   "outputs": [
    {
     "name": "stdout",
     "output_type": "stream",
     "text": [
      "test\n"
     ]
    }
   ],
   "source": [
    "print('test')"
   ]
  },
  {
   "cell_type": "code",
   "execution_count": null,
   "metadata": {},
   "outputs": [],
   "source": []
  }
 ],
 "metadata": {
  "kernelspec": {
   "display_name": "Python 3",
   "language": "python",
   "name": "python3"
  },
  "language_info": {
   "codemirror_mode": {
    "name": "ipython",
    "version": 3
   },
   "file_extension": ".py",
   "mimetype": "text/x-python",
   "name": "python",
   "nbconvert_exporter": "python",
   "pygments_lexer": "ipython3",
   "version": "3.6.7"
  }
 },
 "nbformat": 4,
 "nbformat_minor": 2
}
